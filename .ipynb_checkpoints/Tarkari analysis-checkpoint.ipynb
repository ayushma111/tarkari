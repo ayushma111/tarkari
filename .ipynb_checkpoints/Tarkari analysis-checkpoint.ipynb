{
 "cells": [
  {
   "cell_type": "code",
   "execution_count": 171,
   "id": "d8b19271",
   "metadata": {},
   "outputs": [],
   "source": [
    "import pandas as pd\n",
    "import numpy as np\n",
    "\n",
    "import plotly.express as px\n",
    "import matplotlib.pyplot as plt"
   ]
  },
  {
   "cell_type": "code",
   "execution_count": 172,
   "id": "fb141561",
   "metadata": {},
   "outputs": [],
   "source": [
    "#Reading the csv file \n",
    "df_tarkari = pd.read_csv('kalimati_tarkari_dataset_cleaned.csv')"
   ]
  },
  {
   "cell_type": "code",
   "execution_count": 173,
   "id": "1e0e3fca",
   "metadata": {},
   "outputs": [
    {
     "data": {
      "text/plain": [
       "Kg      184408\n",
       "KG        6889\n",
       "1 Pc      3120\n",
       "Doz       2744\n",
       "Name: Unit, dtype: int64"
      ]
     },
     "execution_count": 173,
     "metadata": {},
     "output_type": "execute_result"
    }
   ],
   "source": [
    "#Checking the units of tarkari \n",
    "df_tarkari['Unit'].value_counts()"
   ]
  },
  {
   "cell_type": "code",
   "execution_count": 174,
   "id": "9d18dfc5",
   "metadata": {},
   "outputs": [],
   "source": [
    "#Replacing KG with Kg \n",
    "df_tarkari['Unit'].replace('KG','Kg',inplace = True)"
   ]
  },
  {
   "cell_type": "code",
   "execution_count": 175,
   "id": "a226e1de",
   "metadata": {},
   "outputs": [
    {
     "data": {
      "text/plain": [
       "Kg      191297\n",
       "1 Pc      3120\n",
       "Doz       2744\n",
       "Name: Unit, dtype: int64"
      ]
     },
     "execution_count": 175,
     "metadata": {},
     "output_type": "execute_result"
    }
   ],
   "source": [
    "df_tarkari['Unit'].value_counts()"
   ]
  },
  {
   "cell_type": "code",
   "execution_count": 176,
   "id": "b1c504c9",
   "metadata": {},
   "outputs": [],
   "source": [
    "#Taking tarkari with units Kg \n",
    "df_tarkari = df_tarkari[df_tarkari['Unit']=='Kg']"
   ]
  },
  {
   "cell_type": "code",
   "execution_count": 177,
   "id": "8024cab9",
   "metadata": {},
   "outputs": [
    {
     "data": {
      "text/plain": [
       "Kg    191297\n",
       "Name: Unit, dtype: int64"
      ]
     },
     "execution_count": 177,
     "metadata": {},
     "output_type": "execute_result"
    }
   ],
   "source": [
    "df_tarkari['Unit'].value_counts()"
   ]
  },
  {
   "cell_type": "code",
   "execution_count": 178,
   "id": "53082bec",
   "metadata": {},
   "outputs": [
    {
     "data": {
      "text/html": [
       "<div>\n",
       "<style scoped>\n",
       "    .dataframe tbody tr th:only-of-type {\n",
       "        vertical-align: middle;\n",
       "    }\n",
       "\n",
       "    .dataframe tbody tr th {\n",
       "        vertical-align: top;\n",
       "    }\n",
       "\n",
       "    .dataframe thead th {\n",
       "        text-align: right;\n",
       "    }\n",
       "</style>\n",
       "<table border=\"1\" class=\"dataframe\">\n",
       "  <thead>\n",
       "    <tr style=\"text-align: right;\">\n",
       "      <th></th>\n",
       "      <th>SN</th>\n",
       "      <th>Commodity</th>\n",
       "      <th>Date</th>\n",
       "      <th>Unit</th>\n",
       "      <th>Minimum</th>\n",
       "      <th>Maximum</th>\n",
       "      <th>Average</th>\n",
       "    </tr>\n",
       "  </thead>\n",
       "  <tbody>\n",
       "    <tr>\n",
       "      <th>0</th>\n",
       "      <td>0</td>\n",
       "      <td>Tomato Big(Nepali)</td>\n",
       "      <td>2013-06-16</td>\n",
       "      <td>Kg</td>\n",
       "      <td>35.0</td>\n",
       "      <td>40.0</td>\n",
       "      <td>37.5</td>\n",
       "    </tr>\n",
       "    <tr>\n",
       "      <th>1</th>\n",
       "      <td>1</td>\n",
       "      <td>Tomato Small(Local)</td>\n",
       "      <td>2013-06-16</td>\n",
       "      <td>Kg</td>\n",
       "      <td>26.0</td>\n",
       "      <td>32.0</td>\n",
       "      <td>29.0</td>\n",
       "    </tr>\n",
       "    <tr>\n",
       "      <th>2</th>\n",
       "      <td>2</td>\n",
       "      <td>Potato Red</td>\n",
       "      <td>2013-06-16</td>\n",
       "      <td>Kg</td>\n",
       "      <td>20.0</td>\n",
       "      <td>21.0</td>\n",
       "      <td>20.5</td>\n",
       "    </tr>\n",
       "    <tr>\n",
       "      <th>3</th>\n",
       "      <td>3</td>\n",
       "      <td>Potato White</td>\n",
       "      <td>2013-06-16</td>\n",
       "      <td>Kg</td>\n",
       "      <td>15.0</td>\n",
       "      <td>16.0</td>\n",
       "      <td>15.5</td>\n",
       "    </tr>\n",
       "    <tr>\n",
       "      <th>4</th>\n",
       "      <td>4</td>\n",
       "      <td>Onion Dry (Indian)</td>\n",
       "      <td>2013-06-16</td>\n",
       "      <td>Kg</td>\n",
       "      <td>28.0</td>\n",
       "      <td>30.0</td>\n",
       "      <td>29.0</td>\n",
       "    </tr>\n",
       "    <tr>\n",
       "      <th>...</th>\n",
       "      <td>...</td>\n",
       "      <td>...</td>\n",
       "      <td>...</td>\n",
       "      <td>...</td>\n",
       "      <td>...</td>\n",
       "      <td>...</td>\n",
       "      <td>...</td>\n",
       "    </tr>\n",
       "    <tr>\n",
       "      <th>197156</th>\n",
       "      <td>197156</td>\n",
       "      <td>Garlic Dry Nepali</td>\n",
       "      <td>2021-05-13</td>\n",
       "      <td>Kg</td>\n",
       "      <td>100.0</td>\n",
       "      <td>120.0</td>\n",
       "      <td>110.0</td>\n",
       "    </tr>\n",
       "    <tr>\n",
       "      <th>197157</th>\n",
       "      <td>197157</td>\n",
       "      <td>Fish Fresh(Rahu)</td>\n",
       "      <td>2021-05-13</td>\n",
       "      <td>Kg</td>\n",
       "      <td>270.0</td>\n",
       "      <td>280.0</td>\n",
       "      <td>275.0</td>\n",
       "    </tr>\n",
       "    <tr>\n",
       "      <th>197158</th>\n",
       "      <td>197158</td>\n",
       "      <td>Fish Fresh(Bachuwa)</td>\n",
       "      <td>2021-05-13</td>\n",
       "      <td>Kg</td>\n",
       "      <td>225.0</td>\n",
       "      <td>235.0</td>\n",
       "      <td>230.0</td>\n",
       "    </tr>\n",
       "    <tr>\n",
       "      <th>197159</th>\n",
       "      <td>197159</td>\n",
       "      <td>Fish Fresh(Chhadi)</td>\n",
       "      <td>2021-05-13</td>\n",
       "      <td>Kg</td>\n",
       "      <td>220.0</td>\n",
       "      <td>230.0</td>\n",
       "      <td>225.0</td>\n",
       "    </tr>\n",
       "    <tr>\n",
       "      <th>197160</th>\n",
       "      <td>197160</td>\n",
       "      <td>Fish Fresh(Mungari)</td>\n",
       "      <td>2021-05-13</td>\n",
       "      <td>Kg</td>\n",
       "      <td>240.0</td>\n",
       "      <td>250.0</td>\n",
       "      <td>245.0</td>\n",
       "    </tr>\n",
       "  </tbody>\n",
       "</table>\n",
       "<p>191297 rows × 7 columns</p>\n",
       "</div>"
      ],
      "text/plain": [
       "            SN            Commodity        Date Unit  Minimum  Maximum  \\\n",
       "0            0   Tomato Big(Nepali)  2013-06-16   Kg     35.0     40.0   \n",
       "1            1  Tomato Small(Local)  2013-06-16   Kg     26.0     32.0   \n",
       "2            2           Potato Red  2013-06-16   Kg     20.0     21.0   \n",
       "3            3         Potato White  2013-06-16   Kg     15.0     16.0   \n",
       "4            4   Onion Dry (Indian)  2013-06-16   Kg     28.0     30.0   \n",
       "...        ...                  ...         ...  ...      ...      ...   \n",
       "197156  197156    Garlic Dry Nepali  2021-05-13   Kg    100.0    120.0   \n",
       "197157  197157     Fish Fresh(Rahu)  2021-05-13   Kg    270.0    280.0   \n",
       "197158  197158  Fish Fresh(Bachuwa)  2021-05-13   Kg    225.0    235.0   \n",
       "197159  197159   Fish Fresh(Chhadi)  2021-05-13   Kg    220.0    230.0   \n",
       "197160  197160  Fish Fresh(Mungari)  2021-05-13   Kg    240.0    250.0   \n",
       "\n",
       "        Average  \n",
       "0          37.5  \n",
       "1          29.0  \n",
       "2          20.5  \n",
       "3          15.5  \n",
       "4          29.0  \n",
       "...         ...  \n",
       "197156    110.0  \n",
       "197157    275.0  \n",
       "197158    230.0  \n",
       "197159    225.0  \n",
       "197160    245.0  \n",
       "\n",
       "[191297 rows x 7 columns]"
      ]
     },
     "execution_count": 178,
     "metadata": {},
     "output_type": "execute_result"
    }
   ],
   "source": [
    "df_tarkari"
   ]
  },
  {
   "cell_type": "code",
   "execution_count": 179,
   "id": "4faca559",
   "metadata": {},
   "outputs": [],
   "source": [
    "df_valuecounts = df_tarkari['Commodity'].value_counts().head(10).reset_index()"
   ]
  },
  {
   "cell_type": "code",
   "execution_count": 180,
   "id": "ee50f117",
   "metadata": {},
   "outputs": [],
   "source": [
    "df_valuecounts.rename(columns = {'index': 'Commodity', 'Commodity': 'Value Counts'},inplace = True)"
   ]
  },
  {
   "cell_type": "code",
   "execution_count": 181,
   "id": "efbdd14c",
   "metadata": {},
   "outputs": [
    {
     "data": {
      "text/html": [
       "<div>\n",
       "<style scoped>\n",
       "    .dataframe tbody tr th:only-of-type {\n",
       "        vertical-align: middle;\n",
       "    }\n",
       "\n",
       "    .dataframe tbody tr th {\n",
       "        vertical-align: top;\n",
       "    }\n",
       "\n",
       "    .dataframe thead th {\n",
       "        text-align: right;\n",
       "    }\n",
       "</style>\n",
       "<table border=\"1\" class=\"dataframe\">\n",
       "  <thead>\n",
       "    <tr style=\"text-align: right;\">\n",
       "      <th></th>\n",
       "      <th>Commodity</th>\n",
       "      <th>Value Counts</th>\n",
       "    </tr>\n",
       "  </thead>\n",
       "  <tbody>\n",
       "    <tr>\n",
       "      <th>0</th>\n",
       "      <td>Ginger</td>\n",
       "      <td>2751</td>\n",
       "    </tr>\n",
       "    <tr>\n",
       "      <th>1</th>\n",
       "      <td>Cauli Local</td>\n",
       "      <td>2750</td>\n",
       "    </tr>\n",
       "    <tr>\n",
       "      <th>2</th>\n",
       "      <td>Cabbage(Local)</td>\n",
       "      <td>2749</td>\n",
       "    </tr>\n",
       "    <tr>\n",
       "      <th>3</th>\n",
       "      <td>Chilli Dry</td>\n",
       "      <td>2748</td>\n",
       "    </tr>\n",
       "    <tr>\n",
       "      <th>4</th>\n",
       "      <td>Raddish White(Local)</td>\n",
       "      <td>2747</td>\n",
       "    </tr>\n",
       "    <tr>\n",
       "      <th>5</th>\n",
       "      <td>Potato Red</td>\n",
       "      <td>2746</td>\n",
       "    </tr>\n",
       "    <tr>\n",
       "      <th>6</th>\n",
       "      <td>Bamboo Shoot</td>\n",
       "      <td>2744</td>\n",
       "    </tr>\n",
       "    <tr>\n",
       "      <th>7</th>\n",
       "      <td>Brd Leaf Mustard</td>\n",
       "      <td>2742</td>\n",
       "    </tr>\n",
       "    <tr>\n",
       "      <th>8</th>\n",
       "      <td>Onion Dry (Indian)</td>\n",
       "      <td>2742</td>\n",
       "    </tr>\n",
       "    <tr>\n",
       "      <th>9</th>\n",
       "      <td>Coriander Green</td>\n",
       "      <td>2741</td>\n",
       "    </tr>\n",
       "  </tbody>\n",
       "</table>\n",
       "</div>"
      ],
      "text/plain": [
       "              Commodity  Value Counts\n",
       "0                Ginger          2751\n",
       "1           Cauli Local          2750\n",
       "2        Cabbage(Local)          2749\n",
       "3            Chilli Dry          2748\n",
       "4  Raddish White(Local)          2747\n",
       "5            Potato Red          2746\n",
       "6          Bamboo Shoot          2744\n",
       "7      Brd Leaf Mustard          2742\n",
       "8    Onion Dry (Indian)          2742\n",
       "9       Coriander Green          2741"
      ]
     },
     "execution_count": 181,
     "metadata": {},
     "output_type": "execute_result"
    }
   ],
   "source": [
    "df_valuecounts"
   ]
  },
  {
   "cell_type": "code",
   "execution_count": 182,
   "id": "9cc14863",
   "metadata": {},
   "outputs": [
    {
     "data": {
      "text/html": [
       "<div>\n",
       "<style scoped>\n",
       "    .dataframe tbody tr th:only-of-type {\n",
       "        vertical-align: middle;\n",
       "    }\n",
       "\n",
       "    .dataframe tbody tr th {\n",
       "        vertical-align: top;\n",
       "    }\n",
       "\n",
       "    .dataframe thead th {\n",
       "        text-align: right;\n",
       "    }\n",
       "</style>\n",
       "<table border=\"1\" class=\"dataframe\">\n",
       "  <thead>\n",
       "    <tr style=\"text-align: right;\">\n",
       "      <th></th>\n",
       "      <th>SN</th>\n",
       "      <th>Commodity</th>\n",
       "      <th>Date</th>\n",
       "      <th>Unit</th>\n",
       "      <th>Minimum</th>\n",
       "      <th>Maximum</th>\n",
       "      <th>Average</th>\n",
       "    </tr>\n",
       "  </thead>\n",
       "  <tbody>\n",
       "    <tr>\n",
       "      <th>27521</th>\n",
       "      <td>27521</td>\n",
       "      <td>Christophine</td>\n",
       "      <td>2014-10-10</td>\n",
       "      <td>Kg</td>\n",
       "      <td>4.0</td>\n",
       "      <td>6.0</td>\n",
       "      <td>5.0</td>\n",
       "    </tr>\n",
       "    <tr>\n",
       "      <th>29230</th>\n",
       "      <td>29230</td>\n",
       "      <td>Christophine</td>\n",
       "      <td>2014-11-07</td>\n",
       "      <td>Kg</td>\n",
       "      <td>4.0</td>\n",
       "      <td>6.0</td>\n",
       "      <td>5.0</td>\n",
       "    </tr>\n",
       "    <tr>\n",
       "      <th>41347</th>\n",
       "      <td>41347</td>\n",
       "      <td>Squash(Long)</td>\n",
       "      <td>2015-05-02</td>\n",
       "      <td>Kg</td>\n",
       "      <td>5.0</td>\n",
       "      <td>6.0</td>\n",
       "      <td>5.5</td>\n",
       "    </tr>\n",
       "    <tr>\n",
       "      <th>27591</th>\n",
       "      <td>27591</td>\n",
       "      <td>Christophine</td>\n",
       "      <td>2014-10-12</td>\n",
       "      <td>Kg</td>\n",
       "      <td>5.0</td>\n",
       "      <td>6.0</td>\n",
       "      <td>5.5</td>\n",
       "    </tr>\n",
       "    <tr>\n",
       "      <th>41690</th>\n",
       "      <td>41690</td>\n",
       "      <td>Cabbage(Local)</td>\n",
       "      <td>2015-05-07</td>\n",
       "      <td>Kg</td>\n",
       "      <td>5.0</td>\n",
       "      <td>6.0</td>\n",
       "      <td>5.5</td>\n",
       "    </tr>\n",
       "    <tr>\n",
       "      <th>...</th>\n",
       "      <td>...</td>\n",
       "      <td>...</td>\n",
       "      <td>...</td>\n",
       "      <td>...</td>\n",
       "      <td>...</td>\n",
       "      <td>...</td>\n",
       "      <td>...</td>\n",
       "    </tr>\n",
       "    <tr>\n",
       "      <th>113258</th>\n",
       "      <td>113258</td>\n",
       "      <td>Lime</td>\n",
       "      <td>2018-03-22</td>\n",
       "      <td>Kg</td>\n",
       "      <td>1450.0</td>\n",
       "      <td>1500.0</td>\n",
       "      <td>1475.0</td>\n",
       "    </tr>\n",
       "    <tr>\n",
       "      <th>113188</th>\n",
       "      <td>113188</td>\n",
       "      <td>Lime</td>\n",
       "      <td>2018-03-21</td>\n",
       "      <td>Kg</td>\n",
       "      <td>1450.0</td>\n",
       "      <td>1500.0</td>\n",
       "      <td>1475.0</td>\n",
       "    </tr>\n",
       "    <tr>\n",
       "      <th>114449</th>\n",
       "      <td>114449</td>\n",
       "      <td>Lime</td>\n",
       "      <td>2018-04-08</td>\n",
       "      <td>Kg</td>\n",
       "      <td>1450.0</td>\n",
       "      <td>1500.0</td>\n",
       "      <td>1475.0</td>\n",
       "    </tr>\n",
       "    <tr>\n",
       "      <th>114517</th>\n",
       "      <td>114517</td>\n",
       "      <td>Lime</td>\n",
       "      <td>2018-04-09</td>\n",
       "      <td>Kg</td>\n",
       "      <td>1450.0</td>\n",
       "      <td>1500.0</td>\n",
       "      <td>1475.0</td>\n",
       "    </tr>\n",
       "    <tr>\n",
       "      <th>177595</th>\n",
       "      <td>177595</td>\n",
       "      <td>Asparagus</td>\n",
       "      <td>2020-10-22</td>\n",
       "      <td>Kg</td>\n",
       "      <td>1800.0</td>\n",
       "      <td>2000.0</td>\n",
       "      <td>1900.0</td>\n",
       "    </tr>\n",
       "  </tbody>\n",
       "</table>\n",
       "<p>191297 rows × 7 columns</p>\n",
       "</div>"
      ],
      "text/plain": [
       "            SN       Commodity        Date Unit  Minimum  Maximum  Average\n",
       "27521    27521    Christophine  2014-10-10   Kg      4.0      6.0      5.0\n",
       "29230    29230    Christophine  2014-11-07   Kg      4.0      6.0      5.0\n",
       "41347    41347    Squash(Long)  2015-05-02   Kg      5.0      6.0      5.5\n",
       "27591    27591    Christophine  2014-10-12   Kg      5.0      6.0      5.5\n",
       "41690    41690  Cabbage(Local)  2015-05-07   Kg      5.0      6.0      5.5\n",
       "...        ...             ...         ...  ...      ...      ...      ...\n",
       "113258  113258            Lime  2018-03-22   Kg   1450.0   1500.0   1475.0\n",
       "113188  113188            Lime  2018-03-21   Kg   1450.0   1500.0   1475.0\n",
       "114449  114449            Lime  2018-04-08   Kg   1450.0   1500.0   1475.0\n",
       "114517  114517            Lime  2018-04-09   Kg   1450.0   1500.0   1475.0\n",
       "177595  177595       Asparagus  2020-10-22   Kg   1800.0   2000.0   1900.0\n",
       "\n",
       "[191297 rows x 7 columns]"
      ]
     },
     "execution_count": 182,
     "metadata": {},
     "output_type": "execute_result"
    }
   ],
   "source": [
    "df_tarkari.sort_values(by = 'Average')"
   ]
  },
  {
   "cell_type": "code",
   "execution_count": 183,
   "id": "5543d5d8",
   "metadata": {},
   "outputs": [],
   "source": [
    "df_tarkari_increase = df_tarkari.groupby('Commodity')"
   ]
  },
  {
   "cell_type": "code",
   "execution_count": 184,
   "id": "e91c87f9",
   "metadata": {},
   "outputs": [
    {
     "data": {
      "text/html": [
       "<div>\n",
       "<style scoped>\n",
       "    .dataframe tbody tr th:only-of-type {\n",
       "        vertical-align: middle;\n",
       "    }\n",
       "\n",
       "    .dataframe tbody tr th {\n",
       "        vertical-align: top;\n",
       "    }\n",
       "\n",
       "    .dataframe thead th {\n",
       "        text-align: right;\n",
       "    }\n",
       "</style>\n",
       "<table border=\"1\" class=\"dataframe\">\n",
       "  <thead>\n",
       "    <tr style=\"text-align: right;\">\n",
       "      <th></th>\n",
       "      <th>SN</th>\n",
       "      <th>Commodity</th>\n",
       "      <th>Date</th>\n",
       "      <th>Unit</th>\n",
       "      <th>Minimum</th>\n",
       "      <th>Maximum</th>\n",
       "      <th>Average</th>\n",
       "    </tr>\n",
       "  </thead>\n",
       "  <tbody>\n",
       "    <tr>\n",
       "      <th>52</th>\n",
       "      <td>52</td>\n",
       "      <td>Lime</td>\n",
       "      <td>2013-06-16</td>\n",
       "      <td>Kg</td>\n",
       "      <td>200.0</td>\n",
       "      <td>400.0</td>\n",
       "      <td>300.0</td>\n",
       "    </tr>\n",
       "    <tr>\n",
       "      <th>125</th>\n",
       "      <td>125</td>\n",
       "      <td>Lime</td>\n",
       "      <td>2013-06-17</td>\n",
       "      <td>Kg</td>\n",
       "      <td>200.0</td>\n",
       "      <td>400.0</td>\n",
       "      <td>300.0</td>\n",
       "    </tr>\n",
       "    <tr>\n",
       "      <th>198</th>\n",
       "      <td>198</td>\n",
       "      <td>Lime</td>\n",
       "      <td>2013-06-18</td>\n",
       "      <td>Kg</td>\n",
       "      <td>200.0</td>\n",
       "      <td>400.0</td>\n",
       "      <td>300.0</td>\n",
       "    </tr>\n",
       "    <tr>\n",
       "      <th>271</th>\n",
       "      <td>271</td>\n",
       "      <td>Lime</td>\n",
       "      <td>2013-06-19</td>\n",
       "      <td>Kg</td>\n",
       "      <td>200.0</td>\n",
       "      <td>400.0</td>\n",
       "      <td>300.0</td>\n",
       "    </tr>\n",
       "    <tr>\n",
       "      <th>345</th>\n",
       "      <td>345</td>\n",
       "      <td>Lime</td>\n",
       "      <td>2013-06-20</td>\n",
       "      <td>Kg</td>\n",
       "      <td>200.0</td>\n",
       "      <td>400.0</td>\n",
       "      <td>300.0</td>\n",
       "    </tr>\n",
       "    <tr>\n",
       "      <th>...</th>\n",
       "      <td>...</td>\n",
       "      <td>...</td>\n",
       "      <td>...</td>\n",
       "      <td>...</td>\n",
       "      <td>...</td>\n",
       "      <td>...</td>\n",
       "      <td>...</td>\n",
       "    </tr>\n",
       "    <tr>\n",
       "      <th>196766</th>\n",
       "      <td>196766</td>\n",
       "      <td>Lime</td>\n",
       "      <td>2021-05-09</td>\n",
       "      <td>Kg</td>\n",
       "      <td>200.0</td>\n",
       "      <td>220.0</td>\n",
       "      <td>210.0</td>\n",
       "    </tr>\n",
       "    <tr>\n",
       "      <th>196857</th>\n",
       "      <td>196857</td>\n",
       "      <td>Lime</td>\n",
       "      <td>2021-05-10</td>\n",
       "      <td>Kg</td>\n",
       "      <td>200.0</td>\n",
       "      <td>220.0</td>\n",
       "      <td>210.0</td>\n",
       "    </tr>\n",
       "    <tr>\n",
       "      <th>196946</th>\n",
       "      <td>196946</td>\n",
       "      <td>Lime</td>\n",
       "      <td>2021-05-11</td>\n",
       "      <td>Kg</td>\n",
       "      <td>200.0</td>\n",
       "      <td>220.0</td>\n",
       "      <td>210.0</td>\n",
       "    </tr>\n",
       "    <tr>\n",
       "      <th>197039</th>\n",
       "      <td>197039</td>\n",
       "      <td>Lime</td>\n",
       "      <td>2021-05-12</td>\n",
       "      <td>Kg</td>\n",
       "      <td>200.0</td>\n",
       "      <td>220.0</td>\n",
       "      <td>210.0</td>\n",
       "    </tr>\n",
       "    <tr>\n",
       "      <th>197129</th>\n",
       "      <td>197129</td>\n",
       "      <td>Lime</td>\n",
       "      <td>2021-05-13</td>\n",
       "      <td>Kg</td>\n",
       "      <td>200.0</td>\n",
       "      <td>220.0</td>\n",
       "      <td>210.0</td>\n",
       "    </tr>\n",
       "  </tbody>\n",
       "</table>\n",
       "<p>2725 rows × 7 columns</p>\n",
       "</div>"
      ],
      "text/plain": [
       "            SN Commodity        Date Unit  Minimum  Maximum  Average\n",
       "52          52      Lime  2013-06-16   Kg    200.0    400.0    300.0\n",
       "125        125      Lime  2013-06-17   Kg    200.0    400.0    300.0\n",
       "198        198      Lime  2013-06-18   Kg    200.0    400.0    300.0\n",
       "271        271      Lime  2013-06-19   Kg    200.0    400.0    300.0\n",
       "345        345      Lime  2013-06-20   Kg    200.0    400.0    300.0\n",
       "...        ...       ...         ...  ...      ...      ...      ...\n",
       "196766  196766      Lime  2021-05-09   Kg    200.0    220.0    210.0\n",
       "196857  196857      Lime  2021-05-10   Kg    200.0    220.0    210.0\n",
       "196946  196946      Lime  2021-05-11   Kg    200.0    220.0    210.0\n",
       "197039  197039      Lime  2021-05-12   Kg    200.0    220.0    210.0\n",
       "197129  197129      Lime  2021-05-13   Kg    200.0    220.0    210.0\n",
       "\n",
       "[2725 rows x 7 columns]"
      ]
     },
     "execution_count": 184,
     "metadata": {},
     "output_type": "execute_result"
    }
   ],
   "source": [
    "df_tarkari_increase.get_group('Lime')"
   ]
  },
  {
   "cell_type": "code",
   "execution_count": 185,
   "id": "2ef8f494",
   "metadata": {},
   "outputs": [],
   "source": [
    "#Price difference \n",
    "df_tarkari_change = df_tarkari_increase.last()['Average'] - df_tarkari_increase.first()['Average']"
   ]
  },
  {
   "cell_type": "code",
   "execution_count": 186,
   "id": "34f97bf1",
   "metadata": {},
   "outputs": [
    {
     "data": {
      "text/html": [
       "<div>\n",
       "<style scoped>\n",
       "    .dataframe tbody tr th:only-of-type {\n",
       "        vertical-align: middle;\n",
       "    }\n",
       "\n",
       "    .dataframe tbody tr th {\n",
       "        vertical-align: top;\n",
       "    }\n",
       "\n",
       "    .dataframe thead th {\n",
       "        text-align: right;\n",
       "    }\n",
       "</style>\n",
       "<table border=\"1\" class=\"dataframe\">\n",
       "  <thead>\n",
       "    <tr style=\"text-align: right;\">\n",
       "      <th></th>\n",
       "      <th>Commodity</th>\n",
       "      <th>Average</th>\n",
       "    </tr>\n",
       "  </thead>\n",
       "  <tbody>\n",
       "    <tr>\n",
       "      <th>26</th>\n",
       "      <td>Chilli Green(Akbare)</td>\n",
       "      <td>-200.0</td>\n",
       "    </tr>\n",
       "    <tr>\n",
       "      <th>89</th>\n",
       "      <td>Pear(Local)</td>\n",
       "      <td>-112.5</td>\n",
       "    </tr>\n",
       "    <tr>\n",
       "      <th>66</th>\n",
       "      <td>Litchi(Local)</td>\n",
       "      <td>-110.0</td>\n",
       "    </tr>\n",
       "    <tr>\n",
       "      <th>80</th>\n",
       "      <td>Onion Dry (Chinese)</td>\n",
       "      <td>-91.5</td>\n",
       "    </tr>\n",
       "    <tr>\n",
       "      <th>64</th>\n",
       "      <td>Lime</td>\n",
       "      <td>-90.0</td>\n",
       "    </tr>\n",
       "    <tr>\n",
       "      <th>...</th>\n",
       "      <td>...</td>\n",
       "      <td>...</td>\n",
       "    </tr>\n",
       "    <tr>\n",
       "      <th>73</th>\n",
       "      <td>Mombin</td>\n",
       "      <td>153.0</td>\n",
       "    </tr>\n",
       "    <tr>\n",
       "      <th>1</th>\n",
       "      <td>Apple(Jholey)</td>\n",
       "      <td>155.0</td>\n",
       "    </tr>\n",
       "    <tr>\n",
       "      <th>109</th>\n",
       "      <td>Strawberry</td>\n",
       "      <td>285.0</td>\n",
       "    </tr>\n",
       "    <tr>\n",
       "      <th>60</th>\n",
       "      <td>Kiwi</td>\n",
       "      <td>305.0</td>\n",
       "    </tr>\n",
       "    <tr>\n",
       "      <th>3</th>\n",
       "      <td>Asparagus</td>\n",
       "      <td>900.0</td>\n",
       "    </tr>\n",
       "  </tbody>\n",
       "</table>\n",
       "<p>128 rows × 2 columns</p>\n",
       "</div>"
      ],
      "text/plain": [
       "                Commodity  Average\n",
       "26   Chilli Green(Akbare)   -200.0\n",
       "89            Pear(Local)   -112.5\n",
       "66          Litchi(Local)   -110.0\n",
       "80    Onion Dry (Chinese)    -91.5\n",
       "64                   Lime    -90.0\n",
       "..                    ...      ...\n",
       "73                 Mombin    153.0\n",
       "1           Apple(Jholey)    155.0\n",
       "109            Strawberry    285.0\n",
       "60                   Kiwi    305.0\n",
       "3               Asparagus    900.0\n",
       "\n",
       "[128 rows x 2 columns]"
      ]
     },
     "execution_count": 186,
     "metadata": {},
     "output_type": "execute_result"
    }
   ],
   "source": [
    "df_tarkari_change.reset_index().sort_values(by = 'Average')"
   ]
  },
  {
   "cell_type": "code",
   "execution_count": 187,
   "id": "ada1bb31",
   "metadata": {},
   "outputs": [],
   "source": [
    "pd.options.mode.chained_assignment = None"
   ]
  },
  {
   "cell_type": "code",
   "execution_count": 188,
   "id": "9735fe44",
   "metadata": {},
   "outputs": [
    {
     "data": {
      "text/html": [
       "<div>\n",
       "<style scoped>\n",
       "    .dataframe tbody tr th:only-of-type {\n",
       "        vertical-align: middle;\n",
       "    }\n",
       "\n",
       "    .dataframe tbody tr th {\n",
       "        vertical-align: top;\n",
       "    }\n",
       "\n",
       "    .dataframe thead th {\n",
       "        text-align: right;\n",
       "    }\n",
       "</style>\n",
       "<table border=\"1\" class=\"dataframe\">\n",
       "  <thead>\n",
       "    <tr style=\"text-align: right;\">\n",
       "      <th></th>\n",
       "      <th>SN</th>\n",
       "      <th>Commodity</th>\n",
       "      <th>Date</th>\n",
       "      <th>Unit</th>\n",
       "      <th>Minimum</th>\n",
       "      <th>Maximum</th>\n",
       "      <th>Average</th>\n",
       "    </tr>\n",
       "  </thead>\n",
       "  <tbody>\n",
       "    <tr>\n",
       "      <th>141053</th>\n",
       "      <td>141053</td>\n",
       "      <td>Apple(Fuji)</td>\n",
       "      <td>2019-05-31</td>\n",
       "      <td>Kg</td>\n",
       "      <td>250.0</td>\n",
       "      <td>260.0</td>\n",
       "      <td>255.0</td>\n",
       "    </tr>\n",
       "    <tr>\n",
       "      <th>141130</th>\n",
       "      <td>141130</td>\n",
       "      <td>Apple(Fuji)</td>\n",
       "      <td>2019-06-01</td>\n",
       "      <td>Kg</td>\n",
       "      <td>250.0</td>\n",
       "      <td>260.0</td>\n",
       "      <td>255.0</td>\n",
       "    </tr>\n",
       "    <tr>\n",
       "      <th>141203</th>\n",
       "      <td>141203</td>\n",
       "      <td>Apple(Fuji)</td>\n",
       "      <td>2019-06-02</td>\n",
       "      <td>Kg</td>\n",
       "      <td>250.0</td>\n",
       "      <td>260.0</td>\n",
       "      <td>255.0</td>\n",
       "    </tr>\n",
       "    <tr>\n",
       "      <th>141278</th>\n",
       "      <td>141278</td>\n",
       "      <td>Apple(Fuji)</td>\n",
       "      <td>2019-06-03</td>\n",
       "      <td>Kg</td>\n",
       "      <td>250.0</td>\n",
       "      <td>260.0</td>\n",
       "      <td>255.0</td>\n",
       "    </tr>\n",
       "    <tr>\n",
       "      <th>141358</th>\n",
       "      <td>141358</td>\n",
       "      <td>Apple(Fuji)</td>\n",
       "      <td>2019-06-04</td>\n",
       "      <td>Kg</td>\n",
       "      <td>340.0</td>\n",
       "      <td>350.0</td>\n",
       "      <td>345.0</td>\n",
       "    </tr>\n",
       "    <tr>\n",
       "      <th>...</th>\n",
       "      <td>...</td>\n",
       "      <td>...</td>\n",
       "      <td>...</td>\n",
       "      <td>...</td>\n",
       "      <td>...</td>\n",
       "      <td>...</td>\n",
       "      <td>...</td>\n",
       "    </tr>\n",
       "    <tr>\n",
       "      <th>196587</th>\n",
       "      <td>196587</td>\n",
       "      <td>Apple(Fuji)</td>\n",
       "      <td>2021-05-07</td>\n",
       "      <td>Kg</td>\n",
       "      <td>280.0</td>\n",
       "      <td>300.0</td>\n",
       "      <td>290.0</td>\n",
       "    </tr>\n",
       "    <tr>\n",
       "      <th>196764</th>\n",
       "      <td>196764</td>\n",
       "      <td>Apple(Fuji)</td>\n",
       "      <td>2021-05-09</td>\n",
       "      <td>Kg</td>\n",
       "      <td>250.0</td>\n",
       "      <td>260.0</td>\n",
       "      <td>255.0</td>\n",
       "    </tr>\n",
       "    <tr>\n",
       "      <th>196855</th>\n",
       "      <td>196855</td>\n",
       "      <td>Apple(Fuji)</td>\n",
       "      <td>2021-05-10</td>\n",
       "      <td>Kg</td>\n",
       "      <td>260.0</td>\n",
       "      <td>280.0</td>\n",
       "      <td>270.0</td>\n",
       "    </tr>\n",
       "    <tr>\n",
       "      <th>196944</th>\n",
       "      <td>196944</td>\n",
       "      <td>Apple(Fuji)</td>\n",
       "      <td>2021-05-11</td>\n",
       "      <td>Kg</td>\n",
       "      <td>250.0</td>\n",
       "      <td>280.0</td>\n",
       "      <td>265.0</td>\n",
       "    </tr>\n",
       "    <tr>\n",
       "      <th>197127</th>\n",
       "      <td>197127</td>\n",
       "      <td>Apple(Fuji)</td>\n",
       "      <td>2021-05-13</td>\n",
       "      <td>Kg</td>\n",
       "      <td>250.0</td>\n",
       "      <td>270.0</td>\n",
       "      <td>260.0</td>\n",
       "    </tr>\n",
       "  </tbody>\n",
       "</table>\n",
       "<p>395 rows × 7 columns</p>\n",
       "</div>"
      ],
      "text/plain": [
       "            SN    Commodity        Date Unit  Minimum  Maximum  Average\n",
       "141053  141053  Apple(Fuji)  2019-05-31   Kg    250.0    260.0    255.0\n",
       "141130  141130  Apple(Fuji)  2019-06-01   Kg    250.0    260.0    255.0\n",
       "141203  141203  Apple(Fuji)  2019-06-02   Kg    250.0    260.0    255.0\n",
       "141278  141278  Apple(Fuji)  2019-06-03   Kg    250.0    260.0    255.0\n",
       "141358  141358  Apple(Fuji)  2019-06-04   Kg    340.0    350.0    345.0\n",
       "...        ...          ...         ...  ...      ...      ...      ...\n",
       "196587  196587  Apple(Fuji)  2021-05-07   Kg    280.0    300.0    290.0\n",
       "196764  196764  Apple(Fuji)  2021-05-09   Kg    250.0    260.0    255.0\n",
       "196855  196855  Apple(Fuji)  2021-05-10   Kg    260.0    280.0    270.0\n",
       "196944  196944  Apple(Fuji)  2021-05-11   Kg    250.0    280.0    265.0\n",
       "197127  197127  Apple(Fuji)  2021-05-13   Kg    250.0    270.0    260.0\n",
       "\n",
       "[395 rows x 7 columns]"
      ]
     },
     "execution_count": 188,
     "metadata": {},
     "output_type": "execute_result"
    }
   ],
   "source": [
    "df_tarkari_increase.get_group('Apple(Fuji)')"
   ]
  },
  {
   "cell_type": "code",
   "execution_count": 189,
   "id": "c88680d2",
   "metadata": {},
   "outputs": [],
   "source": [
    "#Top 10 price decrease (-ve) \n",
    "df_tarkari_decrease = df_tarkari_change.reset_index().sort_values(by = 'Average').head(10)"
   ]
  },
  {
   "cell_type": "code",
   "execution_count": 190,
   "id": "e73d0f29",
   "metadata": {},
   "outputs": [],
   "source": [
    "#Top 10 price increase (+ve) \n",
    "df_tarkari_badyo = df_tarkari_change.reset_index().sort_values(by = 'Average').tail(10) "
   ]
  },
  {
   "cell_type": "code",
   "execution_count": 191,
   "id": "28a6d3a1",
   "metadata": {},
   "outputs": [],
   "source": [
    "#Absolute value of Top 10 price decrease \n",
    "df_tarkari_decrease['Average'] = np.abs(df_tarkari_decrease['Average'])"
   ]
  },
  {
   "cell_type": "code",
   "execution_count": 192,
   "id": "2c141cba",
   "metadata": {},
   "outputs": [
    {
     "data": {
      "text/html": [
       "<div>\n",
       "<style scoped>\n",
       "    .dataframe tbody tr th:only-of-type {\n",
       "        vertical-align: middle;\n",
       "    }\n",
       "\n",
       "    .dataframe tbody tr th {\n",
       "        vertical-align: top;\n",
       "    }\n",
       "\n",
       "    .dataframe thead th {\n",
       "        text-align: right;\n",
       "    }\n",
       "</style>\n",
       "<table border=\"1\" class=\"dataframe\">\n",
       "  <thead>\n",
       "    <tr style=\"text-align: right;\">\n",
       "      <th></th>\n",
       "      <th>Commodity</th>\n",
       "      <th>Average</th>\n",
       "    </tr>\n",
       "  </thead>\n",
       "  <tbody>\n",
       "    <tr>\n",
       "      <th>26</th>\n",
       "      <td>Chilli Green(Akbare)</td>\n",
       "      <td>200.0</td>\n",
       "    </tr>\n",
       "    <tr>\n",
       "      <th>89</th>\n",
       "      <td>Pear(Local)</td>\n",
       "      <td>112.5</td>\n",
       "    </tr>\n",
       "    <tr>\n",
       "      <th>66</th>\n",
       "      <td>Litchi(Local)</td>\n",
       "      <td>110.0</td>\n",
       "    </tr>\n",
       "    <tr>\n",
       "      <th>80</th>\n",
       "      <td>Onion Dry (Chinese)</td>\n",
       "      <td>91.5</td>\n",
       "    </tr>\n",
       "    <tr>\n",
       "      <th>64</th>\n",
       "      <td>Lime</td>\n",
       "      <td>90.0</td>\n",
       "    </tr>\n",
       "    <tr>\n",
       "      <th>21</th>\n",
       "      <td>Cauli Local(Jyapu)</td>\n",
       "      <td>70.0</td>\n",
       "    </tr>\n",
       "    <tr>\n",
       "      <th>27</th>\n",
       "      <td>Chilli Green(Bullet)</td>\n",
       "      <td>70.0</td>\n",
       "    </tr>\n",
       "    <tr>\n",
       "      <th>52</th>\n",
       "      <td>Ginger</td>\n",
       "      <td>60.0</td>\n",
       "    </tr>\n",
       "    <tr>\n",
       "      <th>19</th>\n",
       "      <td>Carrot(Terai)</td>\n",
       "      <td>42.5</td>\n",
       "    </tr>\n",
       "    <tr>\n",
       "      <th>23</th>\n",
       "      <td>Celery</td>\n",
       "      <td>40.0</td>\n",
       "    </tr>\n",
       "  </tbody>\n",
       "</table>\n",
       "</div>"
      ],
      "text/plain": [
       "               Commodity  Average\n",
       "26  Chilli Green(Akbare)    200.0\n",
       "89           Pear(Local)    112.5\n",
       "66         Litchi(Local)    110.0\n",
       "80   Onion Dry (Chinese)     91.5\n",
       "64                  Lime     90.0\n",
       "21    Cauli Local(Jyapu)     70.0\n",
       "27  Chilli Green(Bullet)     70.0\n",
       "52                Ginger     60.0\n",
       "19         Carrot(Terai)     42.5\n",
       "23                Celery     40.0"
      ]
     },
     "execution_count": 192,
     "metadata": {},
     "output_type": "execute_result"
    }
   ],
   "source": [
    "df_tarkari_decrease"
   ]
  },
  {
   "cell_type": "code",
   "execution_count": 193,
   "id": "b2d7e29c",
   "metadata": {},
   "outputs": [
    {
     "data": {
      "text/html": [
       "<div>\n",
       "<style scoped>\n",
       "    .dataframe tbody tr th:only-of-type {\n",
       "        vertical-align: middle;\n",
       "    }\n",
       "\n",
       "    .dataframe tbody tr th {\n",
       "        vertical-align: top;\n",
       "    }\n",
       "\n",
       "    .dataframe thead th {\n",
       "        text-align: right;\n",
       "    }\n",
       "</style>\n",
       "<table border=\"1\" class=\"dataframe\">\n",
       "  <thead>\n",
       "    <tr style=\"text-align: right;\">\n",
       "      <th></th>\n",
       "      <th>Commodity</th>\n",
       "      <th>Average</th>\n",
       "    </tr>\n",
       "  </thead>\n",
       "  <tbody>\n",
       "    <tr>\n",
       "      <th>59</th>\n",
       "      <td>Kinnow</td>\n",
       "      <td>112.5</td>\n",
       "    </tr>\n",
       "    <tr>\n",
       "      <th>112</th>\n",
       "      <td>Sweet Orange</td>\n",
       "      <td>115.0</td>\n",
       "    </tr>\n",
       "    <tr>\n",
       "      <th>56</th>\n",
       "      <td>Guava</td>\n",
       "      <td>132.5</td>\n",
       "    </tr>\n",
       "    <tr>\n",
       "      <th>49</th>\n",
       "      <td>Garlic Dry Chinese</td>\n",
       "      <td>140.0</td>\n",
       "    </tr>\n",
       "    <tr>\n",
       "      <th>24</th>\n",
       "      <td>Chilli Dry</td>\n",
       "      <td>150.0</td>\n",
       "    </tr>\n",
       "    <tr>\n",
       "      <th>73</th>\n",
       "      <td>Mombin</td>\n",
       "      <td>153.0</td>\n",
       "    </tr>\n",
       "    <tr>\n",
       "      <th>1</th>\n",
       "      <td>Apple(Jholey)</td>\n",
       "      <td>155.0</td>\n",
       "    </tr>\n",
       "    <tr>\n",
       "      <th>109</th>\n",
       "      <td>Strawberry</td>\n",
       "      <td>285.0</td>\n",
       "    </tr>\n",
       "    <tr>\n",
       "      <th>60</th>\n",
       "      <td>Kiwi</td>\n",
       "      <td>305.0</td>\n",
       "    </tr>\n",
       "    <tr>\n",
       "      <th>3</th>\n",
       "      <td>Asparagus</td>\n",
       "      <td>900.0</td>\n",
       "    </tr>\n",
       "  </tbody>\n",
       "</table>\n",
       "</div>"
      ],
      "text/plain": [
       "              Commodity  Average\n",
       "59               Kinnow    112.5\n",
       "112        Sweet Orange    115.0\n",
       "56                Guava    132.5\n",
       "49   Garlic Dry Chinese    140.0\n",
       "24           Chilli Dry    150.0\n",
       "73               Mombin    153.0\n",
       "1         Apple(Jholey)    155.0\n",
       "109          Strawberry    285.0\n",
       "60                 Kiwi    305.0\n",
       "3             Asparagus    900.0"
      ]
     },
     "execution_count": 193,
     "metadata": {},
     "output_type": "execute_result"
    }
   ],
   "source": [
    "df_tarkari_badyo"
   ]
  },
  {
   "cell_type": "code",
   "execution_count": 194,
   "id": "bfaf37db",
   "metadata": {},
   "outputs": [
    {
     "data": {
      "application/vnd.plotly.v1+json": {
       "config": {
        "plotlyServerURL": "https://plot.ly"
       },
       "data": [
        {
         "alignmentgroup": "True",
         "hovertemplate": "Commodity=%{x}<br>Average=%{y}<extra></extra>",
         "legendgroup": "",
         "marker": {
          "color": "#636efa",
          "pattern": {
           "shape": ""
          }
         },
         "name": "",
         "offsetgroup": "",
         "orientation": "v",
         "showlegend": false,
         "textposition": "auto",
         "type": "bar",
         "x": [
          "Chilli Green(Akbare)",
          "Pear(Local)",
          "Litchi(Local)",
          "Onion Dry (Chinese)",
          "Lime",
          "Cauli Local(Jyapu)",
          "Chilli Green(Bullet)",
          "Ginger",
          "Carrot(Terai)",
          "Celery"
         ],
         "xaxis": "x",
         "y": [
          200,
          112.5,
          110,
          91.5,
          90,
          70,
          70,
          60,
          42.5,
          40
         ],
         "yaxis": "y"
        }
       ],
       "layout": {
        "barmode": "relative",
        "legend": {
         "tracegroupgap": 0
        },
        "template": {
         "data": {
          "bar": [
           {
            "error_x": {
             "color": "#2a3f5f"
            },
            "error_y": {
             "color": "#2a3f5f"
            },
            "marker": {
             "line": {
              "color": "#E5ECF6",
              "width": 0.5
             },
             "pattern": {
              "fillmode": "overlay",
              "size": 10,
              "solidity": 0.2
             }
            },
            "type": "bar"
           }
          ],
          "barpolar": [
           {
            "marker": {
             "line": {
              "color": "#E5ECF6",
              "width": 0.5
             },
             "pattern": {
              "fillmode": "overlay",
              "size": 10,
              "solidity": 0.2
             }
            },
            "type": "barpolar"
           }
          ],
          "carpet": [
           {
            "aaxis": {
             "endlinecolor": "#2a3f5f",
             "gridcolor": "white",
             "linecolor": "white",
             "minorgridcolor": "white",
             "startlinecolor": "#2a3f5f"
            },
            "baxis": {
             "endlinecolor": "#2a3f5f",
             "gridcolor": "white",
             "linecolor": "white",
             "minorgridcolor": "white",
             "startlinecolor": "#2a3f5f"
            },
            "type": "carpet"
           }
          ],
          "choropleth": [
           {
            "colorbar": {
             "outlinewidth": 0,
             "ticks": ""
            },
            "type": "choropleth"
           }
          ],
          "contour": [
           {
            "colorbar": {
             "outlinewidth": 0,
             "ticks": ""
            },
            "colorscale": [
             [
              0,
              "#0d0887"
             ],
             [
              0.1111111111111111,
              "#46039f"
             ],
             [
              0.2222222222222222,
              "#7201a8"
             ],
             [
              0.3333333333333333,
              "#9c179e"
             ],
             [
              0.4444444444444444,
              "#bd3786"
             ],
             [
              0.5555555555555556,
              "#d8576b"
             ],
             [
              0.6666666666666666,
              "#ed7953"
             ],
             [
              0.7777777777777778,
              "#fb9f3a"
             ],
             [
              0.8888888888888888,
              "#fdca26"
             ],
             [
              1,
              "#f0f921"
             ]
            ],
            "type": "contour"
           }
          ],
          "contourcarpet": [
           {
            "colorbar": {
             "outlinewidth": 0,
             "ticks": ""
            },
            "type": "contourcarpet"
           }
          ],
          "heatmap": [
           {
            "colorbar": {
             "outlinewidth": 0,
             "ticks": ""
            },
            "colorscale": [
             [
              0,
              "#0d0887"
             ],
             [
              0.1111111111111111,
              "#46039f"
             ],
             [
              0.2222222222222222,
              "#7201a8"
             ],
             [
              0.3333333333333333,
              "#9c179e"
             ],
             [
              0.4444444444444444,
              "#bd3786"
             ],
             [
              0.5555555555555556,
              "#d8576b"
             ],
             [
              0.6666666666666666,
              "#ed7953"
             ],
             [
              0.7777777777777778,
              "#fb9f3a"
             ],
             [
              0.8888888888888888,
              "#fdca26"
             ],
             [
              1,
              "#f0f921"
             ]
            ],
            "type": "heatmap"
           }
          ],
          "heatmapgl": [
           {
            "colorbar": {
             "outlinewidth": 0,
             "ticks": ""
            },
            "colorscale": [
             [
              0,
              "#0d0887"
             ],
             [
              0.1111111111111111,
              "#46039f"
             ],
             [
              0.2222222222222222,
              "#7201a8"
             ],
             [
              0.3333333333333333,
              "#9c179e"
             ],
             [
              0.4444444444444444,
              "#bd3786"
             ],
             [
              0.5555555555555556,
              "#d8576b"
             ],
             [
              0.6666666666666666,
              "#ed7953"
             ],
             [
              0.7777777777777778,
              "#fb9f3a"
             ],
             [
              0.8888888888888888,
              "#fdca26"
             ],
             [
              1,
              "#f0f921"
             ]
            ],
            "type": "heatmapgl"
           }
          ],
          "histogram": [
           {
            "marker": {
             "pattern": {
              "fillmode": "overlay",
              "size": 10,
              "solidity": 0.2
             }
            },
            "type": "histogram"
           }
          ],
          "histogram2d": [
           {
            "colorbar": {
             "outlinewidth": 0,
             "ticks": ""
            },
            "colorscale": [
             [
              0,
              "#0d0887"
             ],
             [
              0.1111111111111111,
              "#46039f"
             ],
             [
              0.2222222222222222,
              "#7201a8"
             ],
             [
              0.3333333333333333,
              "#9c179e"
             ],
             [
              0.4444444444444444,
              "#bd3786"
             ],
             [
              0.5555555555555556,
              "#d8576b"
             ],
             [
              0.6666666666666666,
              "#ed7953"
             ],
             [
              0.7777777777777778,
              "#fb9f3a"
             ],
             [
              0.8888888888888888,
              "#fdca26"
             ],
             [
              1,
              "#f0f921"
             ]
            ],
            "type": "histogram2d"
           }
          ],
          "histogram2dcontour": [
           {
            "colorbar": {
             "outlinewidth": 0,
             "ticks": ""
            },
            "colorscale": [
             [
              0,
              "#0d0887"
             ],
             [
              0.1111111111111111,
              "#46039f"
             ],
             [
              0.2222222222222222,
              "#7201a8"
             ],
             [
              0.3333333333333333,
              "#9c179e"
             ],
             [
              0.4444444444444444,
              "#bd3786"
             ],
             [
              0.5555555555555556,
              "#d8576b"
             ],
             [
              0.6666666666666666,
              "#ed7953"
             ],
             [
              0.7777777777777778,
              "#fb9f3a"
             ],
             [
              0.8888888888888888,
              "#fdca26"
             ],
             [
              1,
              "#f0f921"
             ]
            ],
            "type": "histogram2dcontour"
           }
          ],
          "mesh3d": [
           {
            "colorbar": {
             "outlinewidth": 0,
             "ticks": ""
            },
            "type": "mesh3d"
           }
          ],
          "parcoords": [
           {
            "line": {
             "colorbar": {
              "outlinewidth": 0,
              "ticks": ""
             }
            },
            "type": "parcoords"
           }
          ],
          "pie": [
           {
            "automargin": true,
            "type": "pie"
           }
          ],
          "scatter": [
           {
            "fillpattern": {
             "fillmode": "overlay",
             "size": 10,
             "solidity": 0.2
            },
            "type": "scatter"
           }
          ],
          "scatter3d": [
           {
            "line": {
             "colorbar": {
              "outlinewidth": 0,
              "ticks": ""
             }
            },
            "marker": {
             "colorbar": {
              "outlinewidth": 0,
              "ticks": ""
             }
            },
            "type": "scatter3d"
           }
          ],
          "scattercarpet": [
           {
            "marker": {
             "colorbar": {
              "outlinewidth": 0,
              "ticks": ""
             }
            },
            "type": "scattercarpet"
           }
          ],
          "scattergeo": [
           {
            "marker": {
             "colorbar": {
              "outlinewidth": 0,
              "ticks": ""
             }
            },
            "type": "scattergeo"
           }
          ],
          "scattergl": [
           {
            "marker": {
             "colorbar": {
              "outlinewidth": 0,
              "ticks": ""
             }
            },
            "type": "scattergl"
           }
          ],
          "scattermapbox": [
           {
            "marker": {
             "colorbar": {
              "outlinewidth": 0,
              "ticks": ""
             }
            },
            "type": "scattermapbox"
           }
          ],
          "scatterpolar": [
           {
            "marker": {
             "colorbar": {
              "outlinewidth": 0,
              "ticks": ""
             }
            },
            "type": "scatterpolar"
           }
          ],
          "scatterpolargl": [
           {
            "marker": {
             "colorbar": {
              "outlinewidth": 0,
              "ticks": ""
             }
            },
            "type": "scatterpolargl"
           }
          ],
          "scatterternary": [
           {
            "marker": {
             "colorbar": {
              "outlinewidth": 0,
              "ticks": ""
             }
            },
            "type": "scatterternary"
           }
          ],
          "surface": [
           {
            "colorbar": {
             "outlinewidth": 0,
             "ticks": ""
            },
            "colorscale": [
             [
              0,
              "#0d0887"
             ],
             [
              0.1111111111111111,
              "#46039f"
             ],
             [
              0.2222222222222222,
              "#7201a8"
             ],
             [
              0.3333333333333333,
              "#9c179e"
             ],
             [
              0.4444444444444444,
              "#bd3786"
             ],
             [
              0.5555555555555556,
              "#d8576b"
             ],
             [
              0.6666666666666666,
              "#ed7953"
             ],
             [
              0.7777777777777778,
              "#fb9f3a"
             ],
             [
              0.8888888888888888,
              "#fdca26"
             ],
             [
              1,
              "#f0f921"
             ]
            ],
            "type": "surface"
           }
          ],
          "table": [
           {
            "cells": {
             "fill": {
              "color": "#EBF0F8"
             },
             "line": {
              "color": "white"
             }
            },
            "header": {
             "fill": {
              "color": "#C8D4E3"
             },
             "line": {
              "color": "white"
             }
            },
            "type": "table"
           }
          ]
         },
         "layout": {
          "annotationdefaults": {
           "arrowcolor": "#2a3f5f",
           "arrowhead": 0,
           "arrowwidth": 1
          },
          "autotypenumbers": "strict",
          "coloraxis": {
           "colorbar": {
            "outlinewidth": 0,
            "ticks": ""
           }
          },
          "colorscale": {
           "diverging": [
            [
             0,
             "#8e0152"
            ],
            [
             0.1,
             "#c51b7d"
            ],
            [
             0.2,
             "#de77ae"
            ],
            [
             0.3,
             "#f1b6da"
            ],
            [
             0.4,
             "#fde0ef"
            ],
            [
             0.5,
             "#f7f7f7"
            ],
            [
             0.6,
             "#e6f5d0"
            ],
            [
             0.7,
             "#b8e186"
            ],
            [
             0.8,
             "#7fbc41"
            ],
            [
             0.9,
             "#4d9221"
            ],
            [
             1,
             "#276419"
            ]
           ],
           "sequential": [
            [
             0,
             "#0d0887"
            ],
            [
             0.1111111111111111,
             "#46039f"
            ],
            [
             0.2222222222222222,
             "#7201a8"
            ],
            [
             0.3333333333333333,
             "#9c179e"
            ],
            [
             0.4444444444444444,
             "#bd3786"
            ],
            [
             0.5555555555555556,
             "#d8576b"
            ],
            [
             0.6666666666666666,
             "#ed7953"
            ],
            [
             0.7777777777777778,
             "#fb9f3a"
            ],
            [
             0.8888888888888888,
             "#fdca26"
            ],
            [
             1,
             "#f0f921"
            ]
           ],
           "sequentialminus": [
            [
             0,
             "#0d0887"
            ],
            [
             0.1111111111111111,
             "#46039f"
            ],
            [
             0.2222222222222222,
             "#7201a8"
            ],
            [
             0.3333333333333333,
             "#9c179e"
            ],
            [
             0.4444444444444444,
             "#bd3786"
            ],
            [
             0.5555555555555556,
             "#d8576b"
            ],
            [
             0.6666666666666666,
             "#ed7953"
            ],
            [
             0.7777777777777778,
             "#fb9f3a"
            ],
            [
             0.8888888888888888,
             "#fdca26"
            ],
            [
             1,
             "#f0f921"
            ]
           ]
          },
          "colorway": [
           "#636efa",
           "#EF553B",
           "#00cc96",
           "#ab63fa",
           "#FFA15A",
           "#19d3f3",
           "#FF6692",
           "#B6E880",
           "#FF97FF",
           "#FECB52"
          ],
          "font": {
           "color": "#2a3f5f"
          },
          "geo": {
           "bgcolor": "white",
           "lakecolor": "white",
           "landcolor": "#E5ECF6",
           "showlakes": true,
           "showland": true,
           "subunitcolor": "white"
          },
          "hoverlabel": {
           "align": "left"
          },
          "hovermode": "closest",
          "mapbox": {
           "style": "light"
          },
          "paper_bgcolor": "white",
          "plot_bgcolor": "#E5ECF6",
          "polar": {
           "angularaxis": {
            "gridcolor": "white",
            "linecolor": "white",
            "ticks": ""
           },
           "bgcolor": "#E5ECF6",
           "radialaxis": {
            "gridcolor": "white",
            "linecolor": "white",
            "ticks": ""
           }
          },
          "scene": {
           "xaxis": {
            "backgroundcolor": "#E5ECF6",
            "gridcolor": "white",
            "gridwidth": 2,
            "linecolor": "white",
            "showbackground": true,
            "ticks": "",
            "zerolinecolor": "white"
           },
           "yaxis": {
            "backgroundcolor": "#E5ECF6",
            "gridcolor": "white",
            "gridwidth": 2,
            "linecolor": "white",
            "showbackground": true,
            "ticks": "",
            "zerolinecolor": "white"
           },
           "zaxis": {
            "backgroundcolor": "#E5ECF6",
            "gridcolor": "white",
            "gridwidth": 2,
            "linecolor": "white",
            "showbackground": true,
            "ticks": "",
            "zerolinecolor": "white"
           }
          },
          "shapedefaults": {
           "line": {
            "color": "#2a3f5f"
           }
          },
          "ternary": {
           "aaxis": {
            "gridcolor": "white",
            "linecolor": "white",
            "ticks": ""
           },
           "baxis": {
            "gridcolor": "white",
            "linecolor": "white",
            "ticks": ""
           },
           "bgcolor": "#E5ECF6",
           "caxis": {
            "gridcolor": "white",
            "linecolor": "white",
            "ticks": ""
           }
          },
          "title": {
           "x": 0.05
          },
          "xaxis": {
           "automargin": true,
           "gridcolor": "white",
           "linecolor": "white",
           "ticks": "",
           "title": {
            "standoff": 15
           },
           "zerolinecolor": "white",
           "zerolinewidth": 2
          },
          "yaxis": {
           "automargin": true,
           "gridcolor": "white",
           "linecolor": "white",
           "ticks": "",
           "title": {
            "standoff": 15
           },
           "zerolinecolor": "white",
           "zerolinewidth": 2
          }
         }
        },
        "title": {
         "text": "Top 10 Price Decrease from 2013 to 2021"
        },
        "xaxis": {
         "anchor": "y",
         "domain": [
          0,
          1
         ],
         "title": {
          "text": "Commodity"
         }
        },
        "yaxis": {
         "anchor": "x",
         "domain": [
          0,
          1
         ],
         "title": {
          "text": "Average"
         }
        }
       }
      },
      "text/html": [
       "<div>                            <div id=\"7cb153c3-db31-4ab7-86ac-eb7bf79c34f7\" class=\"plotly-graph-div\" style=\"height:525px; width:100%;\"></div>            <script type=\"text/javascript\">                require([\"plotly\"], function(Plotly) {                    window.PLOTLYENV=window.PLOTLYENV || {};                                    if (document.getElementById(\"7cb153c3-db31-4ab7-86ac-eb7bf79c34f7\")) {                    Plotly.newPlot(                        \"7cb153c3-db31-4ab7-86ac-eb7bf79c34f7\",                        [{\"alignmentgroup\":\"True\",\"hovertemplate\":\"Commodity=%{x}<br>Average=%{y}<extra></extra>\",\"legendgroup\":\"\",\"marker\":{\"color\":\"#636efa\",\"pattern\":{\"shape\":\"\"}},\"name\":\"\",\"offsetgroup\":\"\",\"orientation\":\"v\",\"showlegend\":false,\"textposition\":\"auto\",\"x\":[\"Chilli Green(Akbare)\",\"Pear(Local)\",\"Litchi(Local)\",\"Onion Dry (Chinese)\",\"Lime\",\"Cauli Local(Jyapu)\",\"Chilli Green(Bullet)\",\"Ginger\",\"Carrot(Terai)\",\"Celery\"],\"xaxis\":\"x\",\"y\":[200.0,112.5,110.0,91.5,90.0,70.0,70.0,60.0,42.5,40.0],\"yaxis\":\"y\",\"type\":\"bar\"}],                        {\"template\":{\"data\":{\"histogram2dcontour\":[{\"type\":\"histogram2dcontour\",\"colorbar\":{\"outlinewidth\":0,\"ticks\":\"\"},\"colorscale\":[[0.0,\"#0d0887\"],[0.1111111111111111,\"#46039f\"],[0.2222222222222222,\"#7201a8\"],[0.3333333333333333,\"#9c179e\"],[0.4444444444444444,\"#bd3786\"],[0.5555555555555556,\"#d8576b\"],[0.6666666666666666,\"#ed7953\"],[0.7777777777777778,\"#fb9f3a\"],[0.8888888888888888,\"#fdca26\"],[1.0,\"#f0f921\"]]}],\"choropleth\":[{\"type\":\"choropleth\",\"colorbar\":{\"outlinewidth\":0,\"ticks\":\"\"}}],\"histogram2d\":[{\"type\":\"histogram2d\",\"colorbar\":{\"outlinewidth\":0,\"ticks\":\"\"},\"colorscale\":[[0.0,\"#0d0887\"],[0.1111111111111111,\"#46039f\"],[0.2222222222222222,\"#7201a8\"],[0.3333333333333333,\"#9c179e\"],[0.4444444444444444,\"#bd3786\"],[0.5555555555555556,\"#d8576b\"],[0.6666666666666666,\"#ed7953\"],[0.7777777777777778,\"#fb9f3a\"],[0.8888888888888888,\"#fdca26\"],[1.0,\"#f0f921\"]]}],\"heatmap\":[{\"type\":\"heatmap\",\"colorbar\":{\"outlinewidth\":0,\"ticks\":\"\"},\"colorscale\":[[0.0,\"#0d0887\"],[0.1111111111111111,\"#46039f\"],[0.2222222222222222,\"#7201a8\"],[0.3333333333333333,\"#9c179e\"],[0.4444444444444444,\"#bd3786\"],[0.5555555555555556,\"#d8576b\"],[0.6666666666666666,\"#ed7953\"],[0.7777777777777778,\"#fb9f3a\"],[0.8888888888888888,\"#fdca26\"],[1.0,\"#f0f921\"]]}],\"heatmapgl\":[{\"type\":\"heatmapgl\",\"colorbar\":{\"outlinewidth\":0,\"ticks\":\"\"},\"colorscale\":[[0.0,\"#0d0887\"],[0.1111111111111111,\"#46039f\"],[0.2222222222222222,\"#7201a8\"],[0.3333333333333333,\"#9c179e\"],[0.4444444444444444,\"#bd3786\"],[0.5555555555555556,\"#d8576b\"],[0.6666666666666666,\"#ed7953\"],[0.7777777777777778,\"#fb9f3a\"],[0.8888888888888888,\"#fdca26\"],[1.0,\"#f0f921\"]]}],\"contourcarpet\":[{\"type\":\"contourcarpet\",\"colorbar\":{\"outlinewidth\":0,\"ticks\":\"\"}}],\"contour\":[{\"type\":\"contour\",\"colorbar\":{\"outlinewidth\":0,\"ticks\":\"\"},\"colorscale\":[[0.0,\"#0d0887\"],[0.1111111111111111,\"#46039f\"],[0.2222222222222222,\"#7201a8\"],[0.3333333333333333,\"#9c179e\"],[0.4444444444444444,\"#bd3786\"],[0.5555555555555556,\"#d8576b\"],[0.6666666666666666,\"#ed7953\"],[0.7777777777777778,\"#fb9f3a\"],[0.8888888888888888,\"#fdca26\"],[1.0,\"#f0f921\"]]}],\"surface\":[{\"type\":\"surface\",\"colorbar\":{\"outlinewidth\":0,\"ticks\":\"\"},\"colorscale\":[[0.0,\"#0d0887\"],[0.1111111111111111,\"#46039f\"],[0.2222222222222222,\"#7201a8\"],[0.3333333333333333,\"#9c179e\"],[0.4444444444444444,\"#bd3786\"],[0.5555555555555556,\"#d8576b\"],[0.6666666666666666,\"#ed7953\"],[0.7777777777777778,\"#fb9f3a\"],[0.8888888888888888,\"#fdca26\"],[1.0,\"#f0f921\"]]}],\"mesh3d\":[{\"type\":\"mesh3d\",\"colorbar\":{\"outlinewidth\":0,\"ticks\":\"\"}}],\"scatter\":[{\"fillpattern\":{\"fillmode\":\"overlay\",\"size\":10,\"solidity\":0.2},\"type\":\"scatter\"}],\"parcoords\":[{\"type\":\"parcoords\",\"line\":{\"colorbar\":{\"outlinewidth\":0,\"ticks\":\"\"}}}],\"scatterpolargl\":[{\"type\":\"scatterpolargl\",\"marker\":{\"colorbar\":{\"outlinewidth\":0,\"ticks\":\"\"}}}],\"bar\":[{\"error_x\":{\"color\":\"#2a3f5f\"},\"error_y\":{\"color\":\"#2a3f5f\"},\"marker\":{\"line\":{\"color\":\"#E5ECF6\",\"width\":0.5},\"pattern\":{\"fillmode\":\"overlay\",\"size\":10,\"solidity\":0.2}},\"type\":\"bar\"}],\"scattergeo\":[{\"type\":\"scattergeo\",\"marker\":{\"colorbar\":{\"outlinewidth\":0,\"ticks\":\"\"}}}],\"scatterpolar\":[{\"type\":\"scatterpolar\",\"marker\":{\"colorbar\":{\"outlinewidth\":0,\"ticks\":\"\"}}}],\"histogram\":[{\"marker\":{\"pattern\":{\"fillmode\":\"overlay\",\"size\":10,\"solidity\":0.2}},\"type\":\"histogram\"}],\"scattergl\":[{\"type\":\"scattergl\",\"marker\":{\"colorbar\":{\"outlinewidth\":0,\"ticks\":\"\"}}}],\"scatter3d\":[{\"type\":\"scatter3d\",\"line\":{\"colorbar\":{\"outlinewidth\":0,\"ticks\":\"\"}},\"marker\":{\"colorbar\":{\"outlinewidth\":0,\"ticks\":\"\"}}}],\"scattermapbox\":[{\"type\":\"scattermapbox\",\"marker\":{\"colorbar\":{\"outlinewidth\":0,\"ticks\":\"\"}}}],\"scatterternary\":[{\"type\":\"scatterternary\",\"marker\":{\"colorbar\":{\"outlinewidth\":0,\"ticks\":\"\"}}}],\"scattercarpet\":[{\"type\":\"scattercarpet\",\"marker\":{\"colorbar\":{\"outlinewidth\":0,\"ticks\":\"\"}}}],\"carpet\":[{\"aaxis\":{\"endlinecolor\":\"#2a3f5f\",\"gridcolor\":\"white\",\"linecolor\":\"white\",\"minorgridcolor\":\"white\",\"startlinecolor\":\"#2a3f5f\"},\"baxis\":{\"endlinecolor\":\"#2a3f5f\",\"gridcolor\":\"white\",\"linecolor\":\"white\",\"minorgridcolor\":\"white\",\"startlinecolor\":\"#2a3f5f\"},\"type\":\"carpet\"}],\"table\":[{\"cells\":{\"fill\":{\"color\":\"#EBF0F8\"},\"line\":{\"color\":\"white\"}},\"header\":{\"fill\":{\"color\":\"#C8D4E3\"},\"line\":{\"color\":\"white\"}},\"type\":\"table\"}],\"barpolar\":[{\"marker\":{\"line\":{\"color\":\"#E5ECF6\",\"width\":0.5},\"pattern\":{\"fillmode\":\"overlay\",\"size\":10,\"solidity\":0.2}},\"type\":\"barpolar\"}],\"pie\":[{\"automargin\":true,\"type\":\"pie\"}]},\"layout\":{\"autotypenumbers\":\"strict\",\"colorway\":[\"#636efa\",\"#EF553B\",\"#00cc96\",\"#ab63fa\",\"#FFA15A\",\"#19d3f3\",\"#FF6692\",\"#B6E880\",\"#FF97FF\",\"#FECB52\"],\"font\":{\"color\":\"#2a3f5f\"},\"hovermode\":\"closest\",\"hoverlabel\":{\"align\":\"left\"},\"paper_bgcolor\":\"white\",\"plot_bgcolor\":\"#E5ECF6\",\"polar\":{\"bgcolor\":\"#E5ECF6\",\"angularaxis\":{\"gridcolor\":\"white\",\"linecolor\":\"white\",\"ticks\":\"\"},\"radialaxis\":{\"gridcolor\":\"white\",\"linecolor\":\"white\",\"ticks\":\"\"}},\"ternary\":{\"bgcolor\":\"#E5ECF6\",\"aaxis\":{\"gridcolor\":\"white\",\"linecolor\":\"white\",\"ticks\":\"\"},\"baxis\":{\"gridcolor\":\"white\",\"linecolor\":\"white\",\"ticks\":\"\"},\"caxis\":{\"gridcolor\":\"white\",\"linecolor\":\"white\",\"ticks\":\"\"}},\"coloraxis\":{\"colorbar\":{\"outlinewidth\":0,\"ticks\":\"\"}},\"colorscale\":{\"sequential\":[[0.0,\"#0d0887\"],[0.1111111111111111,\"#46039f\"],[0.2222222222222222,\"#7201a8\"],[0.3333333333333333,\"#9c179e\"],[0.4444444444444444,\"#bd3786\"],[0.5555555555555556,\"#d8576b\"],[0.6666666666666666,\"#ed7953\"],[0.7777777777777778,\"#fb9f3a\"],[0.8888888888888888,\"#fdca26\"],[1.0,\"#f0f921\"]],\"sequentialminus\":[[0.0,\"#0d0887\"],[0.1111111111111111,\"#46039f\"],[0.2222222222222222,\"#7201a8\"],[0.3333333333333333,\"#9c179e\"],[0.4444444444444444,\"#bd3786\"],[0.5555555555555556,\"#d8576b\"],[0.6666666666666666,\"#ed7953\"],[0.7777777777777778,\"#fb9f3a\"],[0.8888888888888888,\"#fdca26\"],[1.0,\"#f0f921\"]],\"diverging\":[[0,\"#8e0152\"],[0.1,\"#c51b7d\"],[0.2,\"#de77ae\"],[0.3,\"#f1b6da\"],[0.4,\"#fde0ef\"],[0.5,\"#f7f7f7\"],[0.6,\"#e6f5d0\"],[0.7,\"#b8e186\"],[0.8,\"#7fbc41\"],[0.9,\"#4d9221\"],[1,\"#276419\"]]},\"xaxis\":{\"gridcolor\":\"white\",\"linecolor\":\"white\",\"ticks\":\"\",\"title\":{\"standoff\":15},\"zerolinecolor\":\"white\",\"automargin\":true,\"zerolinewidth\":2},\"yaxis\":{\"gridcolor\":\"white\",\"linecolor\":\"white\",\"ticks\":\"\",\"title\":{\"standoff\":15},\"zerolinecolor\":\"white\",\"automargin\":true,\"zerolinewidth\":2},\"scene\":{\"xaxis\":{\"backgroundcolor\":\"#E5ECF6\",\"gridcolor\":\"white\",\"linecolor\":\"white\",\"showbackground\":true,\"ticks\":\"\",\"zerolinecolor\":\"white\",\"gridwidth\":2},\"yaxis\":{\"backgroundcolor\":\"#E5ECF6\",\"gridcolor\":\"white\",\"linecolor\":\"white\",\"showbackground\":true,\"ticks\":\"\",\"zerolinecolor\":\"white\",\"gridwidth\":2},\"zaxis\":{\"backgroundcolor\":\"#E5ECF6\",\"gridcolor\":\"white\",\"linecolor\":\"white\",\"showbackground\":true,\"ticks\":\"\",\"zerolinecolor\":\"white\",\"gridwidth\":2}},\"shapedefaults\":{\"line\":{\"color\":\"#2a3f5f\"}},\"annotationdefaults\":{\"arrowcolor\":\"#2a3f5f\",\"arrowhead\":0,\"arrowwidth\":1},\"geo\":{\"bgcolor\":\"white\",\"landcolor\":\"#E5ECF6\",\"subunitcolor\":\"white\",\"showland\":true,\"showlakes\":true,\"lakecolor\":\"white\"},\"title\":{\"x\":0.05},\"mapbox\":{\"style\":\"light\"}}},\"xaxis\":{\"anchor\":\"y\",\"domain\":[0.0,1.0],\"title\":{\"text\":\"Commodity\"}},\"yaxis\":{\"anchor\":\"x\",\"domain\":[0.0,1.0],\"title\":{\"text\":\"Average\"}},\"legend\":{\"tracegroupgap\":0},\"title\":{\"text\":\"Top 10 Price Decrease from 2013 to 2021\"},\"barmode\":\"relative\"},                        {\"responsive\": true}                    ).then(function(){\n",
       "                            \n",
       "var gd = document.getElementById('7cb153c3-db31-4ab7-86ac-eb7bf79c34f7');\n",
       "var x = new MutationObserver(function (mutations, observer) {{\n",
       "        var display = window.getComputedStyle(gd).display;\n",
       "        if (!display || display === 'none') {{\n",
       "            console.log([gd, 'removed!']);\n",
       "            Plotly.purge(gd);\n",
       "            observer.disconnect();\n",
       "        }}\n",
       "}});\n",
       "\n",
       "// Listen for the removal of the full notebook cells\n",
       "var notebookContainer = gd.closest('#notebook-container');\n",
       "if (notebookContainer) {{\n",
       "    x.observe(notebookContainer, {childList: true});\n",
       "}}\n",
       "\n",
       "// Listen for the clearing of the current output cell\n",
       "var outputEl = gd.closest('.output');\n",
       "if (outputEl) {{\n",
       "    x.observe(outputEl, {childList: true});\n",
       "}}\n",
       "\n",
       "                        })                };                });            </script>        </div>"
      ]
     },
     "metadata": {},
     "output_type": "display_data"
    }
   ],
   "source": [
    "px.bar(df_tarkari_decrease,x='Commodity',y = 'Average',title = 'Top 10 Price Decrease from 2013 to 2021')"
   ]
  },
  {
   "cell_type": "code",
   "execution_count": 195,
   "id": "9dd7f585",
   "metadata": {},
   "outputs": [
    {
     "data": {
      "application/vnd.plotly.v1+json": {
       "config": {
        "plotlyServerURL": "https://plot.ly"
       },
       "data": [
        {
         "alignmentgroup": "True",
         "hovertemplate": "Commodity=%{x}<br>Average=%{y}<extra></extra>",
         "legendgroup": "",
         "marker": {
          "color": "#636efa",
          "pattern": {
           "shape": ""
          }
         },
         "name": "",
         "offsetgroup": "",
         "orientation": "v",
         "showlegend": false,
         "textposition": "auto",
         "type": "bar",
         "x": [
          "Kinnow",
          "Sweet Orange",
          "Guava",
          "Garlic Dry Chinese",
          "Chilli Dry",
          "Mombin",
          "Apple(Jholey)",
          "Strawberry",
          "Kiwi",
          "Asparagus"
         ],
         "xaxis": "x",
         "y": [
          112.5,
          115,
          132.5,
          140,
          150,
          153,
          155,
          285,
          305,
          900
         ],
         "yaxis": "y"
        }
       ],
       "layout": {
        "barmode": "relative",
        "legend": {
         "tracegroupgap": 0
        },
        "template": {
         "data": {
          "bar": [
           {
            "error_x": {
             "color": "#2a3f5f"
            },
            "error_y": {
             "color": "#2a3f5f"
            },
            "marker": {
             "line": {
              "color": "#E5ECF6",
              "width": 0.5
             },
             "pattern": {
              "fillmode": "overlay",
              "size": 10,
              "solidity": 0.2
             }
            },
            "type": "bar"
           }
          ],
          "barpolar": [
           {
            "marker": {
             "line": {
              "color": "#E5ECF6",
              "width": 0.5
             },
             "pattern": {
              "fillmode": "overlay",
              "size": 10,
              "solidity": 0.2
             }
            },
            "type": "barpolar"
           }
          ],
          "carpet": [
           {
            "aaxis": {
             "endlinecolor": "#2a3f5f",
             "gridcolor": "white",
             "linecolor": "white",
             "minorgridcolor": "white",
             "startlinecolor": "#2a3f5f"
            },
            "baxis": {
             "endlinecolor": "#2a3f5f",
             "gridcolor": "white",
             "linecolor": "white",
             "minorgridcolor": "white",
             "startlinecolor": "#2a3f5f"
            },
            "type": "carpet"
           }
          ],
          "choropleth": [
           {
            "colorbar": {
             "outlinewidth": 0,
             "ticks": ""
            },
            "type": "choropleth"
           }
          ],
          "contour": [
           {
            "colorbar": {
             "outlinewidth": 0,
             "ticks": ""
            },
            "colorscale": [
             [
              0,
              "#0d0887"
             ],
             [
              0.1111111111111111,
              "#46039f"
             ],
             [
              0.2222222222222222,
              "#7201a8"
             ],
             [
              0.3333333333333333,
              "#9c179e"
             ],
             [
              0.4444444444444444,
              "#bd3786"
             ],
             [
              0.5555555555555556,
              "#d8576b"
             ],
             [
              0.6666666666666666,
              "#ed7953"
             ],
             [
              0.7777777777777778,
              "#fb9f3a"
             ],
             [
              0.8888888888888888,
              "#fdca26"
             ],
             [
              1,
              "#f0f921"
             ]
            ],
            "type": "contour"
           }
          ],
          "contourcarpet": [
           {
            "colorbar": {
             "outlinewidth": 0,
             "ticks": ""
            },
            "type": "contourcarpet"
           }
          ],
          "heatmap": [
           {
            "colorbar": {
             "outlinewidth": 0,
             "ticks": ""
            },
            "colorscale": [
             [
              0,
              "#0d0887"
             ],
             [
              0.1111111111111111,
              "#46039f"
             ],
             [
              0.2222222222222222,
              "#7201a8"
             ],
             [
              0.3333333333333333,
              "#9c179e"
             ],
             [
              0.4444444444444444,
              "#bd3786"
             ],
             [
              0.5555555555555556,
              "#d8576b"
             ],
             [
              0.6666666666666666,
              "#ed7953"
             ],
             [
              0.7777777777777778,
              "#fb9f3a"
             ],
             [
              0.8888888888888888,
              "#fdca26"
             ],
             [
              1,
              "#f0f921"
             ]
            ],
            "type": "heatmap"
           }
          ],
          "heatmapgl": [
           {
            "colorbar": {
             "outlinewidth": 0,
             "ticks": ""
            },
            "colorscale": [
             [
              0,
              "#0d0887"
             ],
             [
              0.1111111111111111,
              "#46039f"
             ],
             [
              0.2222222222222222,
              "#7201a8"
             ],
             [
              0.3333333333333333,
              "#9c179e"
             ],
             [
              0.4444444444444444,
              "#bd3786"
             ],
             [
              0.5555555555555556,
              "#d8576b"
             ],
             [
              0.6666666666666666,
              "#ed7953"
             ],
             [
              0.7777777777777778,
              "#fb9f3a"
             ],
             [
              0.8888888888888888,
              "#fdca26"
             ],
             [
              1,
              "#f0f921"
             ]
            ],
            "type": "heatmapgl"
           }
          ],
          "histogram": [
           {
            "marker": {
             "pattern": {
              "fillmode": "overlay",
              "size": 10,
              "solidity": 0.2
             }
            },
            "type": "histogram"
           }
          ],
          "histogram2d": [
           {
            "colorbar": {
             "outlinewidth": 0,
             "ticks": ""
            },
            "colorscale": [
             [
              0,
              "#0d0887"
             ],
             [
              0.1111111111111111,
              "#46039f"
             ],
             [
              0.2222222222222222,
              "#7201a8"
             ],
             [
              0.3333333333333333,
              "#9c179e"
             ],
             [
              0.4444444444444444,
              "#bd3786"
             ],
             [
              0.5555555555555556,
              "#d8576b"
             ],
             [
              0.6666666666666666,
              "#ed7953"
             ],
             [
              0.7777777777777778,
              "#fb9f3a"
             ],
             [
              0.8888888888888888,
              "#fdca26"
             ],
             [
              1,
              "#f0f921"
             ]
            ],
            "type": "histogram2d"
           }
          ],
          "histogram2dcontour": [
           {
            "colorbar": {
             "outlinewidth": 0,
             "ticks": ""
            },
            "colorscale": [
             [
              0,
              "#0d0887"
             ],
             [
              0.1111111111111111,
              "#46039f"
             ],
             [
              0.2222222222222222,
              "#7201a8"
             ],
             [
              0.3333333333333333,
              "#9c179e"
             ],
             [
              0.4444444444444444,
              "#bd3786"
             ],
             [
              0.5555555555555556,
              "#d8576b"
             ],
             [
              0.6666666666666666,
              "#ed7953"
             ],
             [
              0.7777777777777778,
              "#fb9f3a"
             ],
             [
              0.8888888888888888,
              "#fdca26"
             ],
             [
              1,
              "#f0f921"
             ]
            ],
            "type": "histogram2dcontour"
           }
          ],
          "mesh3d": [
           {
            "colorbar": {
             "outlinewidth": 0,
             "ticks": ""
            },
            "type": "mesh3d"
           }
          ],
          "parcoords": [
           {
            "line": {
             "colorbar": {
              "outlinewidth": 0,
              "ticks": ""
             }
            },
            "type": "parcoords"
           }
          ],
          "pie": [
           {
            "automargin": true,
            "type": "pie"
           }
          ],
          "scatter": [
           {
            "fillpattern": {
             "fillmode": "overlay",
             "size": 10,
             "solidity": 0.2
            },
            "type": "scatter"
           }
          ],
          "scatter3d": [
           {
            "line": {
             "colorbar": {
              "outlinewidth": 0,
              "ticks": ""
             }
            },
            "marker": {
             "colorbar": {
              "outlinewidth": 0,
              "ticks": ""
             }
            },
            "type": "scatter3d"
           }
          ],
          "scattercarpet": [
           {
            "marker": {
             "colorbar": {
              "outlinewidth": 0,
              "ticks": ""
             }
            },
            "type": "scattercarpet"
           }
          ],
          "scattergeo": [
           {
            "marker": {
             "colorbar": {
              "outlinewidth": 0,
              "ticks": ""
             }
            },
            "type": "scattergeo"
           }
          ],
          "scattergl": [
           {
            "marker": {
             "colorbar": {
              "outlinewidth": 0,
              "ticks": ""
             }
            },
            "type": "scattergl"
           }
          ],
          "scattermapbox": [
           {
            "marker": {
             "colorbar": {
              "outlinewidth": 0,
              "ticks": ""
             }
            },
            "type": "scattermapbox"
           }
          ],
          "scatterpolar": [
           {
            "marker": {
             "colorbar": {
              "outlinewidth": 0,
              "ticks": ""
             }
            },
            "type": "scatterpolar"
           }
          ],
          "scatterpolargl": [
           {
            "marker": {
             "colorbar": {
              "outlinewidth": 0,
              "ticks": ""
             }
            },
            "type": "scatterpolargl"
           }
          ],
          "scatterternary": [
           {
            "marker": {
             "colorbar": {
              "outlinewidth": 0,
              "ticks": ""
             }
            },
            "type": "scatterternary"
           }
          ],
          "surface": [
           {
            "colorbar": {
             "outlinewidth": 0,
             "ticks": ""
            },
            "colorscale": [
             [
              0,
              "#0d0887"
             ],
             [
              0.1111111111111111,
              "#46039f"
             ],
             [
              0.2222222222222222,
              "#7201a8"
             ],
             [
              0.3333333333333333,
              "#9c179e"
             ],
             [
              0.4444444444444444,
              "#bd3786"
             ],
             [
              0.5555555555555556,
              "#d8576b"
             ],
             [
              0.6666666666666666,
              "#ed7953"
             ],
             [
              0.7777777777777778,
              "#fb9f3a"
             ],
             [
              0.8888888888888888,
              "#fdca26"
             ],
             [
              1,
              "#f0f921"
             ]
            ],
            "type": "surface"
           }
          ],
          "table": [
           {
            "cells": {
             "fill": {
              "color": "#EBF0F8"
             },
             "line": {
              "color": "white"
             }
            },
            "header": {
             "fill": {
              "color": "#C8D4E3"
             },
             "line": {
              "color": "white"
             }
            },
            "type": "table"
           }
          ]
         },
         "layout": {
          "annotationdefaults": {
           "arrowcolor": "#2a3f5f",
           "arrowhead": 0,
           "arrowwidth": 1
          },
          "autotypenumbers": "strict",
          "coloraxis": {
           "colorbar": {
            "outlinewidth": 0,
            "ticks": ""
           }
          },
          "colorscale": {
           "diverging": [
            [
             0,
             "#8e0152"
            ],
            [
             0.1,
             "#c51b7d"
            ],
            [
             0.2,
             "#de77ae"
            ],
            [
             0.3,
             "#f1b6da"
            ],
            [
             0.4,
             "#fde0ef"
            ],
            [
             0.5,
             "#f7f7f7"
            ],
            [
             0.6,
             "#e6f5d0"
            ],
            [
             0.7,
             "#b8e186"
            ],
            [
             0.8,
             "#7fbc41"
            ],
            [
             0.9,
             "#4d9221"
            ],
            [
             1,
             "#276419"
            ]
           ],
           "sequential": [
            [
             0,
             "#0d0887"
            ],
            [
             0.1111111111111111,
             "#46039f"
            ],
            [
             0.2222222222222222,
             "#7201a8"
            ],
            [
             0.3333333333333333,
             "#9c179e"
            ],
            [
             0.4444444444444444,
             "#bd3786"
            ],
            [
             0.5555555555555556,
             "#d8576b"
            ],
            [
             0.6666666666666666,
             "#ed7953"
            ],
            [
             0.7777777777777778,
             "#fb9f3a"
            ],
            [
             0.8888888888888888,
             "#fdca26"
            ],
            [
             1,
             "#f0f921"
            ]
           ],
           "sequentialminus": [
            [
             0,
             "#0d0887"
            ],
            [
             0.1111111111111111,
             "#46039f"
            ],
            [
             0.2222222222222222,
             "#7201a8"
            ],
            [
             0.3333333333333333,
             "#9c179e"
            ],
            [
             0.4444444444444444,
             "#bd3786"
            ],
            [
             0.5555555555555556,
             "#d8576b"
            ],
            [
             0.6666666666666666,
             "#ed7953"
            ],
            [
             0.7777777777777778,
             "#fb9f3a"
            ],
            [
             0.8888888888888888,
             "#fdca26"
            ],
            [
             1,
             "#f0f921"
            ]
           ]
          },
          "colorway": [
           "#636efa",
           "#EF553B",
           "#00cc96",
           "#ab63fa",
           "#FFA15A",
           "#19d3f3",
           "#FF6692",
           "#B6E880",
           "#FF97FF",
           "#FECB52"
          ],
          "font": {
           "color": "#2a3f5f"
          },
          "geo": {
           "bgcolor": "white",
           "lakecolor": "white",
           "landcolor": "#E5ECF6",
           "showlakes": true,
           "showland": true,
           "subunitcolor": "white"
          },
          "hoverlabel": {
           "align": "left"
          },
          "hovermode": "closest",
          "mapbox": {
           "style": "light"
          },
          "paper_bgcolor": "white",
          "plot_bgcolor": "#E5ECF6",
          "polar": {
           "angularaxis": {
            "gridcolor": "white",
            "linecolor": "white",
            "ticks": ""
           },
           "bgcolor": "#E5ECF6",
           "radialaxis": {
            "gridcolor": "white",
            "linecolor": "white",
            "ticks": ""
           }
          },
          "scene": {
           "xaxis": {
            "backgroundcolor": "#E5ECF6",
            "gridcolor": "white",
            "gridwidth": 2,
            "linecolor": "white",
            "showbackground": true,
            "ticks": "",
            "zerolinecolor": "white"
           },
           "yaxis": {
            "backgroundcolor": "#E5ECF6",
            "gridcolor": "white",
            "gridwidth": 2,
            "linecolor": "white",
            "showbackground": true,
            "ticks": "",
            "zerolinecolor": "white"
           },
           "zaxis": {
            "backgroundcolor": "#E5ECF6",
            "gridcolor": "white",
            "gridwidth": 2,
            "linecolor": "white",
            "showbackground": true,
            "ticks": "",
            "zerolinecolor": "white"
           }
          },
          "shapedefaults": {
           "line": {
            "color": "#2a3f5f"
           }
          },
          "ternary": {
           "aaxis": {
            "gridcolor": "white",
            "linecolor": "white",
            "ticks": ""
           },
           "baxis": {
            "gridcolor": "white",
            "linecolor": "white",
            "ticks": ""
           },
           "bgcolor": "#E5ECF6",
           "caxis": {
            "gridcolor": "white",
            "linecolor": "white",
            "ticks": ""
           }
          },
          "title": {
           "x": 0.05
          },
          "xaxis": {
           "automargin": true,
           "gridcolor": "white",
           "linecolor": "white",
           "ticks": "",
           "title": {
            "standoff": 15
           },
           "zerolinecolor": "white",
           "zerolinewidth": 2
          },
          "yaxis": {
           "automargin": true,
           "gridcolor": "white",
           "linecolor": "white",
           "ticks": "",
           "title": {
            "standoff": 15
           },
           "zerolinecolor": "white",
           "zerolinewidth": 2
          }
         }
        },
        "title": {
         "text": "Top 10 Price Increase from 2013 to 2021"
        },
        "xaxis": {
         "anchor": "y",
         "domain": [
          0,
          1
         ],
         "title": {
          "text": "Commodity"
         }
        },
        "yaxis": {
         "anchor": "x",
         "domain": [
          0,
          1
         ],
         "title": {
          "text": "Average"
         }
        }
       }
      },
      "text/html": [
       "<div>                            <div id=\"b89f4976-d4b0-4fc8-adc6-23690df816f7\" class=\"plotly-graph-div\" style=\"height:525px; width:100%;\"></div>            <script type=\"text/javascript\">                require([\"plotly\"], function(Plotly) {                    window.PLOTLYENV=window.PLOTLYENV || {};                                    if (document.getElementById(\"b89f4976-d4b0-4fc8-adc6-23690df816f7\")) {                    Plotly.newPlot(                        \"b89f4976-d4b0-4fc8-adc6-23690df816f7\",                        [{\"alignmentgroup\":\"True\",\"hovertemplate\":\"Commodity=%{x}<br>Average=%{y}<extra></extra>\",\"legendgroup\":\"\",\"marker\":{\"color\":\"#636efa\",\"pattern\":{\"shape\":\"\"}},\"name\":\"\",\"offsetgroup\":\"\",\"orientation\":\"v\",\"showlegend\":false,\"textposition\":\"auto\",\"x\":[\"Kinnow\",\"Sweet Orange\",\"Guava\",\"Garlic Dry Chinese\",\"Chilli Dry\",\"Mombin\",\"Apple(Jholey)\",\"Strawberry\",\"Kiwi\",\"Asparagus\"],\"xaxis\":\"x\",\"y\":[112.5,115.0,132.5,140.0,150.0,153.0,155.0,285.0,305.0,900.0],\"yaxis\":\"y\",\"type\":\"bar\"}],                        {\"template\":{\"data\":{\"histogram2dcontour\":[{\"type\":\"histogram2dcontour\",\"colorbar\":{\"outlinewidth\":0,\"ticks\":\"\"},\"colorscale\":[[0.0,\"#0d0887\"],[0.1111111111111111,\"#46039f\"],[0.2222222222222222,\"#7201a8\"],[0.3333333333333333,\"#9c179e\"],[0.4444444444444444,\"#bd3786\"],[0.5555555555555556,\"#d8576b\"],[0.6666666666666666,\"#ed7953\"],[0.7777777777777778,\"#fb9f3a\"],[0.8888888888888888,\"#fdca26\"],[1.0,\"#f0f921\"]]}],\"choropleth\":[{\"type\":\"choropleth\",\"colorbar\":{\"outlinewidth\":0,\"ticks\":\"\"}}],\"histogram2d\":[{\"type\":\"histogram2d\",\"colorbar\":{\"outlinewidth\":0,\"ticks\":\"\"},\"colorscale\":[[0.0,\"#0d0887\"],[0.1111111111111111,\"#46039f\"],[0.2222222222222222,\"#7201a8\"],[0.3333333333333333,\"#9c179e\"],[0.4444444444444444,\"#bd3786\"],[0.5555555555555556,\"#d8576b\"],[0.6666666666666666,\"#ed7953\"],[0.7777777777777778,\"#fb9f3a\"],[0.8888888888888888,\"#fdca26\"],[1.0,\"#f0f921\"]]}],\"heatmap\":[{\"type\":\"heatmap\",\"colorbar\":{\"outlinewidth\":0,\"ticks\":\"\"},\"colorscale\":[[0.0,\"#0d0887\"],[0.1111111111111111,\"#46039f\"],[0.2222222222222222,\"#7201a8\"],[0.3333333333333333,\"#9c179e\"],[0.4444444444444444,\"#bd3786\"],[0.5555555555555556,\"#d8576b\"],[0.6666666666666666,\"#ed7953\"],[0.7777777777777778,\"#fb9f3a\"],[0.8888888888888888,\"#fdca26\"],[1.0,\"#f0f921\"]]}],\"heatmapgl\":[{\"type\":\"heatmapgl\",\"colorbar\":{\"outlinewidth\":0,\"ticks\":\"\"},\"colorscale\":[[0.0,\"#0d0887\"],[0.1111111111111111,\"#46039f\"],[0.2222222222222222,\"#7201a8\"],[0.3333333333333333,\"#9c179e\"],[0.4444444444444444,\"#bd3786\"],[0.5555555555555556,\"#d8576b\"],[0.6666666666666666,\"#ed7953\"],[0.7777777777777778,\"#fb9f3a\"],[0.8888888888888888,\"#fdca26\"],[1.0,\"#f0f921\"]]}],\"contourcarpet\":[{\"type\":\"contourcarpet\",\"colorbar\":{\"outlinewidth\":0,\"ticks\":\"\"}}],\"contour\":[{\"type\":\"contour\",\"colorbar\":{\"outlinewidth\":0,\"ticks\":\"\"},\"colorscale\":[[0.0,\"#0d0887\"],[0.1111111111111111,\"#46039f\"],[0.2222222222222222,\"#7201a8\"],[0.3333333333333333,\"#9c179e\"],[0.4444444444444444,\"#bd3786\"],[0.5555555555555556,\"#d8576b\"],[0.6666666666666666,\"#ed7953\"],[0.7777777777777778,\"#fb9f3a\"],[0.8888888888888888,\"#fdca26\"],[1.0,\"#f0f921\"]]}],\"surface\":[{\"type\":\"surface\",\"colorbar\":{\"outlinewidth\":0,\"ticks\":\"\"},\"colorscale\":[[0.0,\"#0d0887\"],[0.1111111111111111,\"#46039f\"],[0.2222222222222222,\"#7201a8\"],[0.3333333333333333,\"#9c179e\"],[0.4444444444444444,\"#bd3786\"],[0.5555555555555556,\"#d8576b\"],[0.6666666666666666,\"#ed7953\"],[0.7777777777777778,\"#fb9f3a\"],[0.8888888888888888,\"#fdca26\"],[1.0,\"#f0f921\"]]}],\"mesh3d\":[{\"type\":\"mesh3d\",\"colorbar\":{\"outlinewidth\":0,\"ticks\":\"\"}}],\"scatter\":[{\"fillpattern\":{\"fillmode\":\"overlay\",\"size\":10,\"solidity\":0.2},\"type\":\"scatter\"}],\"parcoords\":[{\"type\":\"parcoords\",\"line\":{\"colorbar\":{\"outlinewidth\":0,\"ticks\":\"\"}}}],\"scatterpolargl\":[{\"type\":\"scatterpolargl\",\"marker\":{\"colorbar\":{\"outlinewidth\":0,\"ticks\":\"\"}}}],\"bar\":[{\"error_x\":{\"color\":\"#2a3f5f\"},\"error_y\":{\"color\":\"#2a3f5f\"},\"marker\":{\"line\":{\"color\":\"#E5ECF6\",\"width\":0.5},\"pattern\":{\"fillmode\":\"overlay\",\"size\":10,\"solidity\":0.2}},\"type\":\"bar\"}],\"scattergeo\":[{\"type\":\"scattergeo\",\"marker\":{\"colorbar\":{\"outlinewidth\":0,\"ticks\":\"\"}}}],\"scatterpolar\":[{\"type\":\"scatterpolar\",\"marker\":{\"colorbar\":{\"outlinewidth\":0,\"ticks\":\"\"}}}],\"histogram\":[{\"marker\":{\"pattern\":{\"fillmode\":\"overlay\",\"size\":10,\"solidity\":0.2}},\"type\":\"histogram\"}],\"scattergl\":[{\"type\":\"scattergl\",\"marker\":{\"colorbar\":{\"outlinewidth\":0,\"ticks\":\"\"}}}],\"scatter3d\":[{\"type\":\"scatter3d\",\"line\":{\"colorbar\":{\"outlinewidth\":0,\"ticks\":\"\"}},\"marker\":{\"colorbar\":{\"outlinewidth\":0,\"ticks\":\"\"}}}],\"scattermapbox\":[{\"type\":\"scattermapbox\",\"marker\":{\"colorbar\":{\"outlinewidth\":0,\"ticks\":\"\"}}}],\"scatterternary\":[{\"type\":\"scatterternary\",\"marker\":{\"colorbar\":{\"outlinewidth\":0,\"ticks\":\"\"}}}],\"scattercarpet\":[{\"type\":\"scattercarpet\",\"marker\":{\"colorbar\":{\"outlinewidth\":0,\"ticks\":\"\"}}}],\"carpet\":[{\"aaxis\":{\"endlinecolor\":\"#2a3f5f\",\"gridcolor\":\"white\",\"linecolor\":\"white\",\"minorgridcolor\":\"white\",\"startlinecolor\":\"#2a3f5f\"},\"baxis\":{\"endlinecolor\":\"#2a3f5f\",\"gridcolor\":\"white\",\"linecolor\":\"white\",\"minorgridcolor\":\"white\",\"startlinecolor\":\"#2a3f5f\"},\"type\":\"carpet\"}],\"table\":[{\"cells\":{\"fill\":{\"color\":\"#EBF0F8\"},\"line\":{\"color\":\"white\"}},\"header\":{\"fill\":{\"color\":\"#C8D4E3\"},\"line\":{\"color\":\"white\"}},\"type\":\"table\"}],\"barpolar\":[{\"marker\":{\"line\":{\"color\":\"#E5ECF6\",\"width\":0.5},\"pattern\":{\"fillmode\":\"overlay\",\"size\":10,\"solidity\":0.2}},\"type\":\"barpolar\"}],\"pie\":[{\"automargin\":true,\"type\":\"pie\"}]},\"layout\":{\"autotypenumbers\":\"strict\",\"colorway\":[\"#636efa\",\"#EF553B\",\"#00cc96\",\"#ab63fa\",\"#FFA15A\",\"#19d3f3\",\"#FF6692\",\"#B6E880\",\"#FF97FF\",\"#FECB52\"],\"font\":{\"color\":\"#2a3f5f\"},\"hovermode\":\"closest\",\"hoverlabel\":{\"align\":\"left\"},\"paper_bgcolor\":\"white\",\"plot_bgcolor\":\"#E5ECF6\",\"polar\":{\"bgcolor\":\"#E5ECF6\",\"angularaxis\":{\"gridcolor\":\"white\",\"linecolor\":\"white\",\"ticks\":\"\"},\"radialaxis\":{\"gridcolor\":\"white\",\"linecolor\":\"white\",\"ticks\":\"\"}},\"ternary\":{\"bgcolor\":\"#E5ECF6\",\"aaxis\":{\"gridcolor\":\"white\",\"linecolor\":\"white\",\"ticks\":\"\"},\"baxis\":{\"gridcolor\":\"white\",\"linecolor\":\"white\",\"ticks\":\"\"},\"caxis\":{\"gridcolor\":\"white\",\"linecolor\":\"white\",\"ticks\":\"\"}},\"coloraxis\":{\"colorbar\":{\"outlinewidth\":0,\"ticks\":\"\"}},\"colorscale\":{\"sequential\":[[0.0,\"#0d0887\"],[0.1111111111111111,\"#46039f\"],[0.2222222222222222,\"#7201a8\"],[0.3333333333333333,\"#9c179e\"],[0.4444444444444444,\"#bd3786\"],[0.5555555555555556,\"#d8576b\"],[0.6666666666666666,\"#ed7953\"],[0.7777777777777778,\"#fb9f3a\"],[0.8888888888888888,\"#fdca26\"],[1.0,\"#f0f921\"]],\"sequentialminus\":[[0.0,\"#0d0887\"],[0.1111111111111111,\"#46039f\"],[0.2222222222222222,\"#7201a8\"],[0.3333333333333333,\"#9c179e\"],[0.4444444444444444,\"#bd3786\"],[0.5555555555555556,\"#d8576b\"],[0.6666666666666666,\"#ed7953\"],[0.7777777777777778,\"#fb9f3a\"],[0.8888888888888888,\"#fdca26\"],[1.0,\"#f0f921\"]],\"diverging\":[[0,\"#8e0152\"],[0.1,\"#c51b7d\"],[0.2,\"#de77ae\"],[0.3,\"#f1b6da\"],[0.4,\"#fde0ef\"],[0.5,\"#f7f7f7\"],[0.6,\"#e6f5d0\"],[0.7,\"#b8e186\"],[0.8,\"#7fbc41\"],[0.9,\"#4d9221\"],[1,\"#276419\"]]},\"xaxis\":{\"gridcolor\":\"white\",\"linecolor\":\"white\",\"ticks\":\"\",\"title\":{\"standoff\":15},\"zerolinecolor\":\"white\",\"automargin\":true,\"zerolinewidth\":2},\"yaxis\":{\"gridcolor\":\"white\",\"linecolor\":\"white\",\"ticks\":\"\",\"title\":{\"standoff\":15},\"zerolinecolor\":\"white\",\"automargin\":true,\"zerolinewidth\":2},\"scene\":{\"xaxis\":{\"backgroundcolor\":\"#E5ECF6\",\"gridcolor\":\"white\",\"linecolor\":\"white\",\"showbackground\":true,\"ticks\":\"\",\"zerolinecolor\":\"white\",\"gridwidth\":2},\"yaxis\":{\"backgroundcolor\":\"#E5ECF6\",\"gridcolor\":\"white\",\"linecolor\":\"white\",\"showbackground\":true,\"ticks\":\"\",\"zerolinecolor\":\"white\",\"gridwidth\":2},\"zaxis\":{\"backgroundcolor\":\"#E5ECF6\",\"gridcolor\":\"white\",\"linecolor\":\"white\",\"showbackground\":true,\"ticks\":\"\",\"zerolinecolor\":\"white\",\"gridwidth\":2}},\"shapedefaults\":{\"line\":{\"color\":\"#2a3f5f\"}},\"annotationdefaults\":{\"arrowcolor\":\"#2a3f5f\",\"arrowhead\":0,\"arrowwidth\":1},\"geo\":{\"bgcolor\":\"white\",\"landcolor\":\"#E5ECF6\",\"subunitcolor\":\"white\",\"showland\":true,\"showlakes\":true,\"lakecolor\":\"white\"},\"title\":{\"x\":0.05},\"mapbox\":{\"style\":\"light\"}}},\"xaxis\":{\"anchor\":\"y\",\"domain\":[0.0,1.0],\"title\":{\"text\":\"Commodity\"}},\"yaxis\":{\"anchor\":\"x\",\"domain\":[0.0,1.0],\"title\":{\"text\":\"Average\"}},\"legend\":{\"tracegroupgap\":0},\"title\":{\"text\":\"Top 10 Price Increase from 2013 to 2021\"},\"barmode\":\"relative\"},                        {\"responsive\": true}                    ).then(function(){\n",
       "                            \n",
       "var gd = document.getElementById('b89f4976-d4b0-4fc8-adc6-23690df816f7');\n",
       "var x = new MutationObserver(function (mutations, observer) {{\n",
       "        var display = window.getComputedStyle(gd).display;\n",
       "        if (!display || display === 'none') {{\n",
       "            console.log([gd, 'removed!']);\n",
       "            Plotly.purge(gd);\n",
       "            observer.disconnect();\n",
       "        }}\n",
       "}});\n",
       "\n",
       "// Listen for the removal of the full notebook cells\n",
       "var notebookContainer = gd.closest('#notebook-container');\n",
       "if (notebookContainer) {{\n",
       "    x.observe(notebookContainer, {childList: true});\n",
       "}}\n",
       "\n",
       "// Listen for the clearing of the current output cell\n",
       "var outputEl = gd.closest('.output');\n",
       "if (outputEl) {{\n",
       "    x.observe(outputEl, {childList: true});\n",
       "}}\n",
       "\n",
       "                        })                };                });            </script>        </div>"
      ]
     },
     "metadata": {},
     "output_type": "display_data"
    }
   ],
   "source": [
    "px.bar(df_tarkari_badyo,x='Commodity',y = 'Average',title = 'Top 10 Price Increase from 2013 to 2021')"
   ]
  },
  {
   "cell_type": "code",
   "execution_count": 196,
   "id": "8e262c3c",
   "metadata": {},
   "outputs": [],
   "source": [
    "#Taking the highest price of tarkari \n",
    "df_tarkari_maximum = df_tarkari.groupby(['Commodity','Date'])['Average'].max().reset_index()"
   ]
  },
  {
   "cell_type": "code",
   "execution_count": 197,
   "id": "70f9d337",
   "metadata": {},
   "outputs": [
    {
     "data": {
      "text/html": [
       "<div>\n",
       "<style scoped>\n",
       "    .dataframe tbody tr th:only-of-type {\n",
       "        vertical-align: middle;\n",
       "    }\n",
       "\n",
       "    .dataframe tbody tr th {\n",
       "        vertical-align: top;\n",
       "    }\n",
       "\n",
       "    .dataframe thead th {\n",
       "        text-align: right;\n",
       "    }\n",
       "</style>\n",
       "<table border=\"1\" class=\"dataframe\">\n",
       "  <thead>\n",
       "    <tr style=\"text-align: right;\">\n",
       "      <th></th>\n",
       "      <th>Commodity</th>\n",
       "      <th>Date</th>\n",
       "      <th>Average</th>\n",
       "    </tr>\n",
       "  </thead>\n",
       "  <tbody>\n",
       "    <tr>\n",
       "      <th>0</th>\n",
       "      <td>Apple(Fuji)</td>\n",
       "      <td>2019-05-31</td>\n",
       "      <td>255.0</td>\n",
       "    </tr>\n",
       "    <tr>\n",
       "      <th>1</th>\n",
       "      <td>Apple(Fuji)</td>\n",
       "      <td>2019-06-01</td>\n",
       "      <td>255.0</td>\n",
       "    </tr>\n",
       "    <tr>\n",
       "      <th>2</th>\n",
       "      <td>Apple(Fuji)</td>\n",
       "      <td>2019-06-02</td>\n",
       "      <td>255.0</td>\n",
       "    </tr>\n",
       "    <tr>\n",
       "      <th>3</th>\n",
       "      <td>Apple(Fuji)</td>\n",
       "      <td>2019-06-03</td>\n",
       "      <td>255.0</td>\n",
       "    </tr>\n",
       "    <tr>\n",
       "      <th>4</th>\n",
       "      <td>Apple(Fuji)</td>\n",
       "      <td>2019-06-04</td>\n",
       "      <td>345.0</td>\n",
       "    </tr>\n",
       "    <tr>\n",
       "      <th>...</th>\n",
       "      <td>...</td>\n",
       "      <td>...</td>\n",
       "      <td>...</td>\n",
       "    </tr>\n",
       "    <tr>\n",
       "      <th>191292</th>\n",
       "      <td>Yam</td>\n",
       "      <td>2021-04-16</td>\n",
       "      <td>75.0</td>\n",
       "    </tr>\n",
       "    <tr>\n",
       "      <th>191293</th>\n",
       "      <td>Yam</td>\n",
       "      <td>2021-04-17</td>\n",
       "      <td>75.0</td>\n",
       "    </tr>\n",
       "    <tr>\n",
       "      <th>191294</th>\n",
       "      <td>Yam</td>\n",
       "      <td>2021-04-18</td>\n",
       "      <td>75.0</td>\n",
       "    </tr>\n",
       "    <tr>\n",
       "      <th>191295</th>\n",
       "      <td>Yam</td>\n",
       "      <td>2021-04-19</td>\n",
       "      <td>75.0</td>\n",
       "    </tr>\n",
       "    <tr>\n",
       "      <th>191296</th>\n",
       "      <td>Yam</td>\n",
       "      <td>2021-04-20</td>\n",
       "      <td>75.0</td>\n",
       "    </tr>\n",
       "  </tbody>\n",
       "</table>\n",
       "<p>191297 rows × 3 columns</p>\n",
       "</div>"
      ],
      "text/plain": [
       "          Commodity        Date  Average\n",
       "0       Apple(Fuji)  2019-05-31    255.0\n",
       "1       Apple(Fuji)  2019-06-01    255.0\n",
       "2       Apple(Fuji)  2019-06-02    255.0\n",
       "3       Apple(Fuji)  2019-06-03    255.0\n",
       "4       Apple(Fuji)  2019-06-04    345.0\n",
       "...             ...         ...      ...\n",
       "191292          Yam  2021-04-16     75.0\n",
       "191293          Yam  2021-04-17     75.0\n",
       "191294          Yam  2021-04-18     75.0\n",
       "191295          Yam  2021-04-19     75.0\n",
       "191296          Yam  2021-04-20     75.0\n",
       "\n",
       "[191297 rows x 3 columns]"
      ]
     },
     "execution_count": 197,
     "metadata": {},
     "output_type": "execute_result"
    }
   ],
   "source": [
    "df_tarkari_maximum"
   ]
  },
  {
   "cell_type": "code",
   "execution_count": 198,
   "id": "bd9782d3",
   "metadata": {},
   "outputs": [],
   "source": [
    "#df_tarkari_maximum = df_tarkari_maximum.groupby('Commodity')['Average'].max().reset_index()"
   ]
  },
  {
   "cell_type": "code",
   "execution_count": 199,
   "id": "816617e6",
   "metadata": {},
   "outputs": [],
   "source": [
    "#df_tarkari_maximum"
   ]
  },
  {
   "cell_type": "code",
   "execution_count": 200,
   "id": "914a7aad",
   "metadata": {},
   "outputs": [],
   "source": [
    "df_date_included = df_tarkari_maximum.sort_values(by = 'Average',ascending = False)"
   ]
  },
  {
   "cell_type": "code",
   "execution_count": 201,
   "id": "b6ed4542",
   "metadata": {},
   "outputs": [
    {
     "data": {
      "text/html": [
       "<div>\n",
       "<style scoped>\n",
       "    .dataframe tbody tr th:only-of-type {\n",
       "        vertical-align: middle;\n",
       "    }\n",
       "\n",
       "    .dataframe tbody tr th {\n",
       "        vertical-align: top;\n",
       "    }\n",
       "\n",
       "    .dataframe thead th {\n",
       "        text-align: right;\n",
       "    }\n",
       "</style>\n",
       "<table border=\"1\" class=\"dataframe\">\n",
       "  <thead>\n",
       "    <tr style=\"text-align: right;\">\n",
       "      <th></th>\n",
       "      <th>Date</th>\n",
       "      <th>Average</th>\n",
       "    </tr>\n",
       "    <tr>\n",
       "      <th>Commodity</th>\n",
       "      <th></th>\n",
       "      <th></th>\n",
       "    </tr>\n",
       "  </thead>\n",
       "  <tbody>\n",
       "    <tr>\n",
       "      <th>Apple(Fuji)</th>\n",
       "      <td>2019-06-04</td>\n",
       "      <td>345.0</td>\n",
       "    </tr>\n",
       "    <tr>\n",
       "      <th>Apple(Jholey)</th>\n",
       "      <td>2021-05-08</td>\n",
       "      <td>290.0</td>\n",
       "    </tr>\n",
       "    <tr>\n",
       "      <th>Arum</th>\n",
       "      <td>2019-07-26</td>\n",
       "      <td>67.5</td>\n",
       "    </tr>\n",
       "    <tr>\n",
       "      <th>Asparagus</th>\n",
       "      <td>2020-10-22</td>\n",
       "      <td>1900.0</td>\n",
       "    </tr>\n",
       "    <tr>\n",
       "      <th>Bakula</th>\n",
       "      <td>2021-02-07</td>\n",
       "      <td>125.0</td>\n",
       "    </tr>\n",
       "    <tr>\n",
       "      <th>...</th>\n",
       "      <td>...</td>\n",
       "      <td>...</td>\n",
       "    </tr>\n",
       "    <tr>\n",
       "      <th>Turnip</th>\n",
       "      <td>2021-02-09</td>\n",
       "      <td>85.0</td>\n",
       "    </tr>\n",
       "    <tr>\n",
       "      <th>Turnip A</th>\n",
       "      <td>2019-10-29</td>\n",
       "      <td>145.0</td>\n",
       "    </tr>\n",
       "    <tr>\n",
       "      <th>Water Melon(Dotted)</th>\n",
       "      <td>2019-07-08</td>\n",
       "      <td>52.5</td>\n",
       "    </tr>\n",
       "    <tr>\n",
       "      <th>Water Melon(Green)</th>\n",
       "      <td>2020-11-16</td>\n",
       "      <td>175.0</td>\n",
       "    </tr>\n",
       "    <tr>\n",
       "      <th>Yam</th>\n",
       "      <td>2015-04-23</td>\n",
       "      <td>125.0</td>\n",
       "    </tr>\n",
       "  </tbody>\n",
       "</table>\n",
       "<p>128 rows × 2 columns</p>\n",
       "</div>"
      ],
      "text/plain": [
       "                           Date  Average\n",
       "Commodity                               \n",
       "Apple(Fuji)          2019-06-04    345.0\n",
       "Apple(Jholey)        2021-05-08    290.0\n",
       "Arum                 2019-07-26     67.5\n",
       "Asparagus            2020-10-22   1900.0\n",
       "Bakula               2021-02-07    125.0\n",
       "...                         ...      ...\n",
       "Turnip               2021-02-09     85.0\n",
       "Turnip A             2019-10-29    145.0\n",
       "Water Melon(Dotted)  2019-07-08     52.5\n",
       "Water Melon(Green)   2020-11-16    175.0\n",
       "Yam                  2015-04-23    125.0\n",
       "\n",
       "[128 rows x 2 columns]"
      ]
     },
     "execution_count": 201,
     "metadata": {},
     "output_type": "execute_result"
    }
   ],
   "source": [
    "df_date_included.groupby('Commodity').nth(0)"
   ]
  },
  {
   "cell_type": "code",
   "execution_count": 202,
   "id": "1ec7e95b",
   "metadata": {},
   "outputs": [],
   "source": [
    "#Maximum price of tarkari on which date and how much \n",
    "df_withdate_max = df_date_included.groupby('Commodity').nth(0).reset_index().sort_values(by = 'Average',ascending = False).head(10)"
   ]
  },
  {
   "cell_type": "code",
   "execution_count": 203,
   "id": "734debe2",
   "metadata": {},
   "outputs": [
    {
     "data": {
      "text/html": [
       "<div>\n",
       "<style scoped>\n",
       "    .dataframe tbody tr th:only-of-type {\n",
       "        vertical-align: middle;\n",
       "    }\n",
       "\n",
       "    .dataframe tbody tr th {\n",
       "        vertical-align: top;\n",
       "    }\n",
       "\n",
       "    .dataframe thead th {\n",
       "        text-align: right;\n",
       "    }\n",
       "</style>\n",
       "<table border=\"1\" class=\"dataframe\">\n",
       "  <thead>\n",
       "    <tr style=\"text-align: right;\">\n",
       "      <th></th>\n",
       "      <th>Commodity</th>\n",
       "      <th>Date</th>\n",
       "      <th>Average</th>\n",
       "    </tr>\n",
       "  </thead>\n",
       "  <tbody>\n",
       "    <tr>\n",
       "      <th>3</th>\n",
       "      <td>Asparagus</td>\n",
       "      <td>2020-10-22</td>\n",
       "      <td>1900.0</td>\n",
       "    </tr>\n",
       "    <tr>\n",
       "      <th>64</th>\n",
       "      <td>Lime</td>\n",
       "      <td>2018-03-21</td>\n",
       "      <td>1475.0</td>\n",
       "    </tr>\n",
       "    <tr>\n",
       "      <th>87</th>\n",
       "      <td>Parseley</td>\n",
       "      <td>2016-08-25</td>\n",
       "      <td>850.0</td>\n",
       "    </tr>\n",
       "    <tr>\n",
       "      <th>74</th>\n",
       "      <td>Mushroom(Button)</td>\n",
       "      <td>2019-10-06</td>\n",
       "      <td>845.0</td>\n",
       "    </tr>\n",
       "    <tr>\n",
       "      <th>26</th>\n",
       "      <td>Chilli Green(Akbare)</td>\n",
       "      <td>2021-01-13</td>\n",
       "      <td>750.0</td>\n",
       "    </tr>\n",
       "    <tr>\n",
       "      <th>109</th>\n",
       "      <td>Strawberry</td>\n",
       "      <td>2020-11-24</td>\n",
       "      <td>675.0</td>\n",
       "    </tr>\n",
       "    <tr>\n",
       "      <th>49</th>\n",
       "      <td>Garlic Dry Chinese</td>\n",
       "      <td>2020-02-18</td>\n",
       "      <td>655.0</td>\n",
       "    </tr>\n",
       "    <tr>\n",
       "      <th>32</th>\n",
       "      <td>Coriander Green</td>\n",
       "      <td>2018-08-22</td>\n",
       "      <td>595.0</td>\n",
       "    </tr>\n",
       "    <tr>\n",
       "      <th>60</th>\n",
       "      <td>Kiwi</td>\n",
       "      <td>2021-04-28</td>\n",
       "      <td>550.0</td>\n",
       "    </tr>\n",
       "    <tr>\n",
       "      <th>50</th>\n",
       "      <td>Garlic Dry Nepali</td>\n",
       "      <td>2020-02-14</td>\n",
       "      <td>510.0</td>\n",
       "    </tr>\n",
       "  </tbody>\n",
       "</table>\n",
       "</div>"
      ],
      "text/plain": [
       "                Commodity        Date  Average\n",
       "3               Asparagus  2020-10-22   1900.0\n",
       "64                   Lime  2018-03-21   1475.0\n",
       "87               Parseley  2016-08-25    850.0\n",
       "74       Mushroom(Button)  2019-10-06    845.0\n",
       "26   Chilli Green(Akbare)  2021-01-13    750.0\n",
       "109            Strawberry  2020-11-24    675.0\n",
       "49     Garlic Dry Chinese  2020-02-18    655.0\n",
       "32        Coriander Green  2018-08-22    595.0\n",
       "60                   Kiwi  2021-04-28    550.0\n",
       "50      Garlic Dry Nepali  2020-02-14    510.0"
      ]
     },
     "execution_count": 203,
     "metadata": {},
     "output_type": "execute_result"
    }
   ],
   "source": [
    "df_withdate_max"
   ]
  },
  {
   "cell_type": "code",
   "execution_count": 204,
   "id": "2822c723",
   "metadata": {},
   "outputs": [
    {
     "data": {
      "application/vnd.plotly.v1+json": {
       "config": {
        "plotlyServerURL": "https://plot.ly"
       },
       "data": [
        {
         "alignmentgroup": "True",
         "hovertemplate": "Commodity=Asparagus<br>Date=%{x}<br>Average=%{y}<extra></extra>",
         "legendgroup": "Asparagus",
         "marker": {
          "color": "#636efa",
          "pattern": {
           "shape": ""
          }
         },
         "name": "Asparagus",
         "offsetgroup": "Asparagus",
         "orientation": "v",
         "showlegend": true,
         "textposition": "auto",
         "type": "bar",
         "x": [
          "2020-10-22"
         ],
         "xaxis": "x",
         "y": [
          1900
         ],
         "yaxis": "y"
        },
        {
         "alignmentgroup": "True",
         "hovertemplate": "Commodity=Lime<br>Date=%{x}<br>Average=%{y}<extra></extra>",
         "legendgroup": "Lime",
         "marker": {
          "color": "#EF553B",
          "pattern": {
           "shape": ""
          }
         },
         "name": "Lime",
         "offsetgroup": "Lime",
         "orientation": "v",
         "showlegend": true,
         "textposition": "auto",
         "type": "bar",
         "x": [
          "2018-03-21"
         ],
         "xaxis": "x",
         "y": [
          1475
         ],
         "yaxis": "y"
        },
        {
         "alignmentgroup": "True",
         "hovertemplate": "Commodity=Parseley<br>Date=%{x}<br>Average=%{y}<extra></extra>",
         "legendgroup": "Parseley",
         "marker": {
          "color": "#00cc96",
          "pattern": {
           "shape": ""
          }
         },
         "name": "Parseley",
         "offsetgroup": "Parseley",
         "orientation": "v",
         "showlegend": true,
         "textposition": "auto",
         "type": "bar",
         "x": [
          "2016-08-25"
         ],
         "xaxis": "x",
         "y": [
          850
         ],
         "yaxis": "y"
        },
        {
         "alignmentgroup": "True",
         "hovertemplate": "Commodity=Mushroom(Button)<br>Date=%{x}<br>Average=%{y}<extra></extra>",
         "legendgroup": "Mushroom(Button)",
         "marker": {
          "color": "#ab63fa",
          "pattern": {
           "shape": ""
          }
         },
         "name": "Mushroom(Button)",
         "offsetgroup": "Mushroom(Button)",
         "orientation": "v",
         "showlegend": true,
         "textposition": "auto",
         "type": "bar",
         "x": [
          "2019-10-06"
         ],
         "xaxis": "x",
         "y": [
          845
         ],
         "yaxis": "y"
        },
        {
         "alignmentgroup": "True",
         "hovertemplate": "Commodity=Chilli Green(Akbare)<br>Date=%{x}<br>Average=%{y}<extra></extra>",
         "legendgroup": "Chilli Green(Akbare)",
         "marker": {
          "color": "#FFA15A",
          "pattern": {
           "shape": ""
          }
         },
         "name": "Chilli Green(Akbare)",
         "offsetgroup": "Chilli Green(Akbare)",
         "orientation": "v",
         "showlegend": true,
         "textposition": "auto",
         "type": "bar",
         "x": [
          "2021-01-13"
         ],
         "xaxis": "x",
         "y": [
          750
         ],
         "yaxis": "y"
        },
        {
         "alignmentgroup": "True",
         "hovertemplate": "Commodity=Strawberry<br>Date=%{x}<br>Average=%{y}<extra></extra>",
         "legendgroup": "Strawberry",
         "marker": {
          "color": "#19d3f3",
          "pattern": {
           "shape": ""
          }
         },
         "name": "Strawberry",
         "offsetgroup": "Strawberry",
         "orientation": "v",
         "showlegend": true,
         "textposition": "auto",
         "type": "bar",
         "x": [
          "2020-11-24"
         ],
         "xaxis": "x",
         "y": [
          675
         ],
         "yaxis": "y"
        },
        {
         "alignmentgroup": "True",
         "hovertemplate": "Commodity=Garlic Dry Chinese<br>Date=%{x}<br>Average=%{y}<extra></extra>",
         "legendgroup": "Garlic Dry Chinese",
         "marker": {
          "color": "#FF6692",
          "pattern": {
           "shape": ""
          }
         },
         "name": "Garlic Dry Chinese",
         "offsetgroup": "Garlic Dry Chinese",
         "orientation": "v",
         "showlegend": true,
         "textposition": "auto",
         "type": "bar",
         "x": [
          "2020-02-18"
         ],
         "xaxis": "x",
         "y": [
          655
         ],
         "yaxis": "y"
        },
        {
         "alignmentgroup": "True",
         "hovertemplate": "Commodity=Coriander Green<br>Date=%{x}<br>Average=%{y}<extra></extra>",
         "legendgroup": "Coriander Green",
         "marker": {
          "color": "#B6E880",
          "pattern": {
           "shape": ""
          }
         },
         "name": "Coriander Green",
         "offsetgroup": "Coriander Green",
         "orientation": "v",
         "showlegend": true,
         "textposition": "auto",
         "type": "bar",
         "x": [
          "2018-08-22"
         ],
         "xaxis": "x",
         "y": [
          595
         ],
         "yaxis": "y"
        },
        {
         "alignmentgroup": "True",
         "hovertemplate": "Commodity=Kiwi<br>Date=%{x}<br>Average=%{y}<extra></extra>",
         "legendgroup": "Kiwi",
         "marker": {
          "color": "#FF97FF",
          "pattern": {
           "shape": ""
          }
         },
         "name": "Kiwi",
         "offsetgroup": "Kiwi",
         "orientation": "v",
         "showlegend": true,
         "textposition": "auto",
         "type": "bar",
         "x": [
          "2021-04-28"
         ],
         "xaxis": "x",
         "y": [
          550
         ],
         "yaxis": "y"
        },
        {
         "alignmentgroup": "True",
         "hovertemplate": "Commodity=Garlic Dry Nepali<br>Date=%{x}<br>Average=%{y}<extra></extra>",
         "legendgroup": "Garlic Dry Nepali",
         "marker": {
          "color": "#FECB52",
          "pattern": {
           "shape": ""
          }
         },
         "name": "Garlic Dry Nepali",
         "offsetgroup": "Garlic Dry Nepali",
         "orientation": "v",
         "showlegend": true,
         "textposition": "auto",
         "type": "bar",
         "x": [
          "2020-02-14"
         ],
         "xaxis": "x",
         "y": [
          510
         ],
         "yaxis": "y"
        }
       ],
       "layout": {
        "barmode": "relative",
        "legend": {
         "title": {
          "text": "Commodity"
         },
         "tracegroupgap": 0
        },
        "margin": {
         "t": 60
        },
        "template": {
         "data": {
          "bar": [
           {
            "error_x": {
             "color": "#2a3f5f"
            },
            "error_y": {
             "color": "#2a3f5f"
            },
            "marker": {
             "line": {
              "color": "#E5ECF6",
              "width": 0.5
             },
             "pattern": {
              "fillmode": "overlay",
              "size": 10,
              "solidity": 0.2
             }
            },
            "type": "bar"
           }
          ],
          "barpolar": [
           {
            "marker": {
             "line": {
              "color": "#E5ECF6",
              "width": 0.5
             },
             "pattern": {
              "fillmode": "overlay",
              "size": 10,
              "solidity": 0.2
             }
            },
            "type": "barpolar"
           }
          ],
          "carpet": [
           {
            "aaxis": {
             "endlinecolor": "#2a3f5f",
             "gridcolor": "white",
             "linecolor": "white",
             "minorgridcolor": "white",
             "startlinecolor": "#2a3f5f"
            },
            "baxis": {
             "endlinecolor": "#2a3f5f",
             "gridcolor": "white",
             "linecolor": "white",
             "minorgridcolor": "white",
             "startlinecolor": "#2a3f5f"
            },
            "type": "carpet"
           }
          ],
          "choropleth": [
           {
            "colorbar": {
             "outlinewidth": 0,
             "ticks": ""
            },
            "type": "choropleth"
           }
          ],
          "contour": [
           {
            "colorbar": {
             "outlinewidth": 0,
             "ticks": ""
            },
            "colorscale": [
             [
              0,
              "#0d0887"
             ],
             [
              0.1111111111111111,
              "#46039f"
             ],
             [
              0.2222222222222222,
              "#7201a8"
             ],
             [
              0.3333333333333333,
              "#9c179e"
             ],
             [
              0.4444444444444444,
              "#bd3786"
             ],
             [
              0.5555555555555556,
              "#d8576b"
             ],
             [
              0.6666666666666666,
              "#ed7953"
             ],
             [
              0.7777777777777778,
              "#fb9f3a"
             ],
             [
              0.8888888888888888,
              "#fdca26"
             ],
             [
              1,
              "#f0f921"
             ]
            ],
            "type": "contour"
           }
          ],
          "contourcarpet": [
           {
            "colorbar": {
             "outlinewidth": 0,
             "ticks": ""
            },
            "type": "contourcarpet"
           }
          ],
          "heatmap": [
           {
            "colorbar": {
             "outlinewidth": 0,
             "ticks": ""
            },
            "colorscale": [
             [
              0,
              "#0d0887"
             ],
             [
              0.1111111111111111,
              "#46039f"
             ],
             [
              0.2222222222222222,
              "#7201a8"
             ],
             [
              0.3333333333333333,
              "#9c179e"
             ],
             [
              0.4444444444444444,
              "#bd3786"
             ],
             [
              0.5555555555555556,
              "#d8576b"
             ],
             [
              0.6666666666666666,
              "#ed7953"
             ],
             [
              0.7777777777777778,
              "#fb9f3a"
             ],
             [
              0.8888888888888888,
              "#fdca26"
             ],
             [
              1,
              "#f0f921"
             ]
            ],
            "type": "heatmap"
           }
          ],
          "heatmapgl": [
           {
            "colorbar": {
             "outlinewidth": 0,
             "ticks": ""
            },
            "colorscale": [
             [
              0,
              "#0d0887"
             ],
             [
              0.1111111111111111,
              "#46039f"
             ],
             [
              0.2222222222222222,
              "#7201a8"
             ],
             [
              0.3333333333333333,
              "#9c179e"
             ],
             [
              0.4444444444444444,
              "#bd3786"
             ],
             [
              0.5555555555555556,
              "#d8576b"
             ],
             [
              0.6666666666666666,
              "#ed7953"
             ],
             [
              0.7777777777777778,
              "#fb9f3a"
             ],
             [
              0.8888888888888888,
              "#fdca26"
             ],
             [
              1,
              "#f0f921"
             ]
            ],
            "type": "heatmapgl"
           }
          ],
          "histogram": [
           {
            "marker": {
             "pattern": {
              "fillmode": "overlay",
              "size": 10,
              "solidity": 0.2
             }
            },
            "type": "histogram"
           }
          ],
          "histogram2d": [
           {
            "colorbar": {
             "outlinewidth": 0,
             "ticks": ""
            },
            "colorscale": [
             [
              0,
              "#0d0887"
             ],
             [
              0.1111111111111111,
              "#46039f"
             ],
             [
              0.2222222222222222,
              "#7201a8"
             ],
             [
              0.3333333333333333,
              "#9c179e"
             ],
             [
              0.4444444444444444,
              "#bd3786"
             ],
             [
              0.5555555555555556,
              "#d8576b"
             ],
             [
              0.6666666666666666,
              "#ed7953"
             ],
             [
              0.7777777777777778,
              "#fb9f3a"
             ],
             [
              0.8888888888888888,
              "#fdca26"
             ],
             [
              1,
              "#f0f921"
             ]
            ],
            "type": "histogram2d"
           }
          ],
          "histogram2dcontour": [
           {
            "colorbar": {
             "outlinewidth": 0,
             "ticks": ""
            },
            "colorscale": [
             [
              0,
              "#0d0887"
             ],
             [
              0.1111111111111111,
              "#46039f"
             ],
             [
              0.2222222222222222,
              "#7201a8"
             ],
             [
              0.3333333333333333,
              "#9c179e"
             ],
             [
              0.4444444444444444,
              "#bd3786"
             ],
             [
              0.5555555555555556,
              "#d8576b"
             ],
             [
              0.6666666666666666,
              "#ed7953"
             ],
             [
              0.7777777777777778,
              "#fb9f3a"
             ],
             [
              0.8888888888888888,
              "#fdca26"
             ],
             [
              1,
              "#f0f921"
             ]
            ],
            "type": "histogram2dcontour"
           }
          ],
          "mesh3d": [
           {
            "colorbar": {
             "outlinewidth": 0,
             "ticks": ""
            },
            "type": "mesh3d"
           }
          ],
          "parcoords": [
           {
            "line": {
             "colorbar": {
              "outlinewidth": 0,
              "ticks": ""
             }
            },
            "type": "parcoords"
           }
          ],
          "pie": [
           {
            "automargin": true,
            "type": "pie"
           }
          ],
          "scatter": [
           {
            "fillpattern": {
             "fillmode": "overlay",
             "size": 10,
             "solidity": 0.2
            },
            "type": "scatter"
           }
          ],
          "scatter3d": [
           {
            "line": {
             "colorbar": {
              "outlinewidth": 0,
              "ticks": ""
             }
            },
            "marker": {
             "colorbar": {
              "outlinewidth": 0,
              "ticks": ""
             }
            },
            "type": "scatter3d"
           }
          ],
          "scattercarpet": [
           {
            "marker": {
             "colorbar": {
              "outlinewidth": 0,
              "ticks": ""
             }
            },
            "type": "scattercarpet"
           }
          ],
          "scattergeo": [
           {
            "marker": {
             "colorbar": {
              "outlinewidth": 0,
              "ticks": ""
             }
            },
            "type": "scattergeo"
           }
          ],
          "scattergl": [
           {
            "marker": {
             "colorbar": {
              "outlinewidth": 0,
              "ticks": ""
             }
            },
            "type": "scattergl"
           }
          ],
          "scattermapbox": [
           {
            "marker": {
             "colorbar": {
              "outlinewidth": 0,
              "ticks": ""
             }
            },
            "type": "scattermapbox"
           }
          ],
          "scatterpolar": [
           {
            "marker": {
             "colorbar": {
              "outlinewidth": 0,
              "ticks": ""
             }
            },
            "type": "scatterpolar"
           }
          ],
          "scatterpolargl": [
           {
            "marker": {
             "colorbar": {
              "outlinewidth": 0,
              "ticks": ""
             }
            },
            "type": "scatterpolargl"
           }
          ],
          "scatterternary": [
           {
            "marker": {
             "colorbar": {
              "outlinewidth": 0,
              "ticks": ""
             }
            },
            "type": "scatterternary"
           }
          ],
          "surface": [
           {
            "colorbar": {
             "outlinewidth": 0,
             "ticks": ""
            },
            "colorscale": [
             [
              0,
              "#0d0887"
             ],
             [
              0.1111111111111111,
              "#46039f"
             ],
             [
              0.2222222222222222,
              "#7201a8"
             ],
             [
              0.3333333333333333,
              "#9c179e"
             ],
             [
              0.4444444444444444,
              "#bd3786"
             ],
             [
              0.5555555555555556,
              "#d8576b"
             ],
             [
              0.6666666666666666,
              "#ed7953"
             ],
             [
              0.7777777777777778,
              "#fb9f3a"
             ],
             [
              0.8888888888888888,
              "#fdca26"
             ],
             [
              1,
              "#f0f921"
             ]
            ],
            "type": "surface"
           }
          ],
          "table": [
           {
            "cells": {
             "fill": {
              "color": "#EBF0F8"
             },
             "line": {
              "color": "white"
             }
            },
            "header": {
             "fill": {
              "color": "#C8D4E3"
             },
             "line": {
              "color": "white"
             }
            },
            "type": "table"
           }
          ]
         },
         "layout": {
          "annotationdefaults": {
           "arrowcolor": "#2a3f5f",
           "arrowhead": 0,
           "arrowwidth": 1
          },
          "autotypenumbers": "strict",
          "coloraxis": {
           "colorbar": {
            "outlinewidth": 0,
            "ticks": ""
           }
          },
          "colorscale": {
           "diverging": [
            [
             0,
             "#8e0152"
            ],
            [
             0.1,
             "#c51b7d"
            ],
            [
             0.2,
             "#de77ae"
            ],
            [
             0.3,
             "#f1b6da"
            ],
            [
             0.4,
             "#fde0ef"
            ],
            [
             0.5,
             "#f7f7f7"
            ],
            [
             0.6,
             "#e6f5d0"
            ],
            [
             0.7,
             "#b8e186"
            ],
            [
             0.8,
             "#7fbc41"
            ],
            [
             0.9,
             "#4d9221"
            ],
            [
             1,
             "#276419"
            ]
           ],
           "sequential": [
            [
             0,
             "#0d0887"
            ],
            [
             0.1111111111111111,
             "#46039f"
            ],
            [
             0.2222222222222222,
             "#7201a8"
            ],
            [
             0.3333333333333333,
             "#9c179e"
            ],
            [
             0.4444444444444444,
             "#bd3786"
            ],
            [
             0.5555555555555556,
             "#d8576b"
            ],
            [
             0.6666666666666666,
             "#ed7953"
            ],
            [
             0.7777777777777778,
             "#fb9f3a"
            ],
            [
             0.8888888888888888,
             "#fdca26"
            ],
            [
             1,
             "#f0f921"
            ]
           ],
           "sequentialminus": [
            [
             0,
             "#0d0887"
            ],
            [
             0.1111111111111111,
             "#46039f"
            ],
            [
             0.2222222222222222,
             "#7201a8"
            ],
            [
             0.3333333333333333,
             "#9c179e"
            ],
            [
             0.4444444444444444,
             "#bd3786"
            ],
            [
             0.5555555555555556,
             "#d8576b"
            ],
            [
             0.6666666666666666,
             "#ed7953"
            ],
            [
             0.7777777777777778,
             "#fb9f3a"
            ],
            [
             0.8888888888888888,
             "#fdca26"
            ],
            [
             1,
             "#f0f921"
            ]
           ]
          },
          "colorway": [
           "#636efa",
           "#EF553B",
           "#00cc96",
           "#ab63fa",
           "#FFA15A",
           "#19d3f3",
           "#FF6692",
           "#B6E880",
           "#FF97FF",
           "#FECB52"
          ],
          "font": {
           "color": "#2a3f5f"
          },
          "geo": {
           "bgcolor": "white",
           "lakecolor": "white",
           "landcolor": "#E5ECF6",
           "showlakes": true,
           "showland": true,
           "subunitcolor": "white"
          },
          "hoverlabel": {
           "align": "left"
          },
          "hovermode": "closest",
          "mapbox": {
           "style": "light"
          },
          "paper_bgcolor": "white",
          "plot_bgcolor": "#E5ECF6",
          "polar": {
           "angularaxis": {
            "gridcolor": "white",
            "linecolor": "white",
            "ticks": ""
           },
           "bgcolor": "#E5ECF6",
           "radialaxis": {
            "gridcolor": "white",
            "linecolor": "white",
            "ticks": ""
           }
          },
          "scene": {
           "xaxis": {
            "backgroundcolor": "#E5ECF6",
            "gridcolor": "white",
            "gridwidth": 2,
            "linecolor": "white",
            "showbackground": true,
            "ticks": "",
            "zerolinecolor": "white"
           },
           "yaxis": {
            "backgroundcolor": "#E5ECF6",
            "gridcolor": "white",
            "gridwidth": 2,
            "linecolor": "white",
            "showbackground": true,
            "ticks": "",
            "zerolinecolor": "white"
           },
           "zaxis": {
            "backgroundcolor": "#E5ECF6",
            "gridcolor": "white",
            "gridwidth": 2,
            "linecolor": "white",
            "showbackground": true,
            "ticks": "",
            "zerolinecolor": "white"
           }
          },
          "shapedefaults": {
           "line": {
            "color": "#2a3f5f"
           }
          },
          "ternary": {
           "aaxis": {
            "gridcolor": "white",
            "linecolor": "white",
            "ticks": ""
           },
           "baxis": {
            "gridcolor": "white",
            "linecolor": "white",
            "ticks": ""
           },
           "bgcolor": "#E5ECF6",
           "caxis": {
            "gridcolor": "white",
            "linecolor": "white",
            "ticks": ""
           }
          },
          "title": {
           "x": 0.05
          },
          "xaxis": {
           "automargin": true,
           "gridcolor": "white",
           "linecolor": "white",
           "ticks": "",
           "title": {
            "standoff": 15
           },
           "zerolinecolor": "white",
           "zerolinewidth": 2
          },
          "yaxis": {
           "automargin": true,
           "gridcolor": "white",
           "linecolor": "white",
           "ticks": "",
           "title": {
            "standoff": 15
           },
           "zerolinecolor": "white",
           "zerolinewidth": 2
          }
         }
        },
        "xaxis": {
         "anchor": "y",
         "domain": [
          0,
          1
         ],
         "title": {
          "text": "Date"
         }
        },
        "yaxis": {
         "anchor": "x",
         "domain": [
          0,
          1
         ],
         "title": {
          "text": "Average"
         }
        }
       }
      },
      "text/html": [
       "<div>                            <div id=\"31291ed5-2581-4aac-8459-8d2a23f6963d\" class=\"plotly-graph-div\" style=\"height:525px; width:100%;\"></div>            <script type=\"text/javascript\">                require([\"plotly\"], function(Plotly) {                    window.PLOTLYENV=window.PLOTLYENV || {};                                    if (document.getElementById(\"31291ed5-2581-4aac-8459-8d2a23f6963d\")) {                    Plotly.newPlot(                        \"31291ed5-2581-4aac-8459-8d2a23f6963d\",                        [{\"alignmentgroup\":\"True\",\"hovertemplate\":\"Commodity=Asparagus<br>Date=%{x}<br>Average=%{y}<extra></extra>\",\"legendgroup\":\"Asparagus\",\"marker\":{\"color\":\"#636efa\",\"pattern\":{\"shape\":\"\"}},\"name\":\"Asparagus\",\"offsetgroup\":\"Asparagus\",\"orientation\":\"v\",\"showlegend\":true,\"textposition\":\"auto\",\"x\":[\"2020-10-22\"],\"xaxis\":\"x\",\"y\":[1900.0],\"yaxis\":\"y\",\"type\":\"bar\"},{\"alignmentgroup\":\"True\",\"hovertemplate\":\"Commodity=Lime<br>Date=%{x}<br>Average=%{y}<extra></extra>\",\"legendgroup\":\"Lime\",\"marker\":{\"color\":\"#EF553B\",\"pattern\":{\"shape\":\"\"}},\"name\":\"Lime\",\"offsetgroup\":\"Lime\",\"orientation\":\"v\",\"showlegend\":true,\"textposition\":\"auto\",\"x\":[\"2018-03-21\"],\"xaxis\":\"x\",\"y\":[1475.0],\"yaxis\":\"y\",\"type\":\"bar\"},{\"alignmentgroup\":\"True\",\"hovertemplate\":\"Commodity=Parseley<br>Date=%{x}<br>Average=%{y}<extra></extra>\",\"legendgroup\":\"Parseley\",\"marker\":{\"color\":\"#00cc96\",\"pattern\":{\"shape\":\"\"}},\"name\":\"Parseley\",\"offsetgroup\":\"Parseley\",\"orientation\":\"v\",\"showlegend\":true,\"textposition\":\"auto\",\"x\":[\"2016-08-25\"],\"xaxis\":\"x\",\"y\":[850.0],\"yaxis\":\"y\",\"type\":\"bar\"},{\"alignmentgroup\":\"True\",\"hovertemplate\":\"Commodity=Mushroom(Button)<br>Date=%{x}<br>Average=%{y}<extra></extra>\",\"legendgroup\":\"Mushroom(Button)\",\"marker\":{\"color\":\"#ab63fa\",\"pattern\":{\"shape\":\"\"}},\"name\":\"Mushroom(Button)\",\"offsetgroup\":\"Mushroom(Button)\",\"orientation\":\"v\",\"showlegend\":true,\"textposition\":\"auto\",\"x\":[\"2019-10-06\"],\"xaxis\":\"x\",\"y\":[845.0],\"yaxis\":\"y\",\"type\":\"bar\"},{\"alignmentgroup\":\"True\",\"hovertemplate\":\"Commodity=Chilli Green(Akbare)<br>Date=%{x}<br>Average=%{y}<extra></extra>\",\"legendgroup\":\"Chilli Green(Akbare)\",\"marker\":{\"color\":\"#FFA15A\",\"pattern\":{\"shape\":\"\"}},\"name\":\"Chilli Green(Akbare)\",\"offsetgroup\":\"Chilli Green(Akbare)\",\"orientation\":\"v\",\"showlegend\":true,\"textposition\":\"auto\",\"x\":[\"2021-01-13\"],\"xaxis\":\"x\",\"y\":[750.0],\"yaxis\":\"y\",\"type\":\"bar\"},{\"alignmentgroup\":\"True\",\"hovertemplate\":\"Commodity=Strawberry<br>Date=%{x}<br>Average=%{y}<extra></extra>\",\"legendgroup\":\"Strawberry\",\"marker\":{\"color\":\"#19d3f3\",\"pattern\":{\"shape\":\"\"}},\"name\":\"Strawberry\",\"offsetgroup\":\"Strawberry\",\"orientation\":\"v\",\"showlegend\":true,\"textposition\":\"auto\",\"x\":[\"2020-11-24\"],\"xaxis\":\"x\",\"y\":[675.0],\"yaxis\":\"y\",\"type\":\"bar\"},{\"alignmentgroup\":\"True\",\"hovertemplate\":\"Commodity=Garlic Dry Chinese<br>Date=%{x}<br>Average=%{y}<extra></extra>\",\"legendgroup\":\"Garlic Dry Chinese\",\"marker\":{\"color\":\"#FF6692\",\"pattern\":{\"shape\":\"\"}},\"name\":\"Garlic Dry Chinese\",\"offsetgroup\":\"Garlic Dry Chinese\",\"orientation\":\"v\",\"showlegend\":true,\"textposition\":\"auto\",\"x\":[\"2020-02-18\"],\"xaxis\":\"x\",\"y\":[655.0],\"yaxis\":\"y\",\"type\":\"bar\"},{\"alignmentgroup\":\"True\",\"hovertemplate\":\"Commodity=Coriander Green<br>Date=%{x}<br>Average=%{y}<extra></extra>\",\"legendgroup\":\"Coriander Green\",\"marker\":{\"color\":\"#B6E880\",\"pattern\":{\"shape\":\"\"}},\"name\":\"Coriander Green\",\"offsetgroup\":\"Coriander Green\",\"orientation\":\"v\",\"showlegend\":true,\"textposition\":\"auto\",\"x\":[\"2018-08-22\"],\"xaxis\":\"x\",\"y\":[595.0],\"yaxis\":\"y\",\"type\":\"bar\"},{\"alignmentgroup\":\"True\",\"hovertemplate\":\"Commodity=Kiwi<br>Date=%{x}<br>Average=%{y}<extra></extra>\",\"legendgroup\":\"Kiwi\",\"marker\":{\"color\":\"#FF97FF\",\"pattern\":{\"shape\":\"\"}},\"name\":\"Kiwi\",\"offsetgroup\":\"Kiwi\",\"orientation\":\"v\",\"showlegend\":true,\"textposition\":\"auto\",\"x\":[\"2021-04-28\"],\"xaxis\":\"x\",\"y\":[550.0],\"yaxis\":\"y\",\"type\":\"bar\"},{\"alignmentgroup\":\"True\",\"hovertemplate\":\"Commodity=Garlic Dry Nepali<br>Date=%{x}<br>Average=%{y}<extra></extra>\",\"legendgroup\":\"Garlic Dry Nepali\",\"marker\":{\"color\":\"#FECB52\",\"pattern\":{\"shape\":\"\"}},\"name\":\"Garlic Dry Nepali\",\"offsetgroup\":\"Garlic Dry Nepali\",\"orientation\":\"v\",\"showlegend\":true,\"textposition\":\"auto\",\"x\":[\"2020-02-14\"],\"xaxis\":\"x\",\"y\":[510.0],\"yaxis\":\"y\",\"type\":\"bar\"}],                        {\"template\":{\"data\":{\"histogram2dcontour\":[{\"type\":\"histogram2dcontour\",\"colorbar\":{\"outlinewidth\":0,\"ticks\":\"\"},\"colorscale\":[[0.0,\"#0d0887\"],[0.1111111111111111,\"#46039f\"],[0.2222222222222222,\"#7201a8\"],[0.3333333333333333,\"#9c179e\"],[0.4444444444444444,\"#bd3786\"],[0.5555555555555556,\"#d8576b\"],[0.6666666666666666,\"#ed7953\"],[0.7777777777777778,\"#fb9f3a\"],[0.8888888888888888,\"#fdca26\"],[1.0,\"#f0f921\"]]}],\"choropleth\":[{\"type\":\"choropleth\",\"colorbar\":{\"outlinewidth\":0,\"ticks\":\"\"}}],\"histogram2d\":[{\"type\":\"histogram2d\",\"colorbar\":{\"outlinewidth\":0,\"ticks\":\"\"},\"colorscale\":[[0.0,\"#0d0887\"],[0.1111111111111111,\"#46039f\"],[0.2222222222222222,\"#7201a8\"],[0.3333333333333333,\"#9c179e\"],[0.4444444444444444,\"#bd3786\"],[0.5555555555555556,\"#d8576b\"],[0.6666666666666666,\"#ed7953\"],[0.7777777777777778,\"#fb9f3a\"],[0.8888888888888888,\"#fdca26\"],[1.0,\"#f0f921\"]]}],\"heatmap\":[{\"type\":\"heatmap\",\"colorbar\":{\"outlinewidth\":0,\"ticks\":\"\"},\"colorscale\":[[0.0,\"#0d0887\"],[0.1111111111111111,\"#46039f\"],[0.2222222222222222,\"#7201a8\"],[0.3333333333333333,\"#9c179e\"],[0.4444444444444444,\"#bd3786\"],[0.5555555555555556,\"#d8576b\"],[0.6666666666666666,\"#ed7953\"],[0.7777777777777778,\"#fb9f3a\"],[0.8888888888888888,\"#fdca26\"],[1.0,\"#f0f921\"]]}],\"heatmapgl\":[{\"type\":\"heatmapgl\",\"colorbar\":{\"outlinewidth\":0,\"ticks\":\"\"},\"colorscale\":[[0.0,\"#0d0887\"],[0.1111111111111111,\"#46039f\"],[0.2222222222222222,\"#7201a8\"],[0.3333333333333333,\"#9c179e\"],[0.4444444444444444,\"#bd3786\"],[0.5555555555555556,\"#d8576b\"],[0.6666666666666666,\"#ed7953\"],[0.7777777777777778,\"#fb9f3a\"],[0.8888888888888888,\"#fdca26\"],[1.0,\"#f0f921\"]]}],\"contourcarpet\":[{\"type\":\"contourcarpet\",\"colorbar\":{\"outlinewidth\":0,\"ticks\":\"\"}}],\"contour\":[{\"type\":\"contour\",\"colorbar\":{\"outlinewidth\":0,\"ticks\":\"\"},\"colorscale\":[[0.0,\"#0d0887\"],[0.1111111111111111,\"#46039f\"],[0.2222222222222222,\"#7201a8\"],[0.3333333333333333,\"#9c179e\"],[0.4444444444444444,\"#bd3786\"],[0.5555555555555556,\"#d8576b\"],[0.6666666666666666,\"#ed7953\"],[0.7777777777777778,\"#fb9f3a\"],[0.8888888888888888,\"#fdca26\"],[1.0,\"#f0f921\"]]}],\"surface\":[{\"type\":\"surface\",\"colorbar\":{\"outlinewidth\":0,\"ticks\":\"\"},\"colorscale\":[[0.0,\"#0d0887\"],[0.1111111111111111,\"#46039f\"],[0.2222222222222222,\"#7201a8\"],[0.3333333333333333,\"#9c179e\"],[0.4444444444444444,\"#bd3786\"],[0.5555555555555556,\"#d8576b\"],[0.6666666666666666,\"#ed7953\"],[0.7777777777777778,\"#fb9f3a\"],[0.8888888888888888,\"#fdca26\"],[1.0,\"#f0f921\"]]}],\"mesh3d\":[{\"type\":\"mesh3d\",\"colorbar\":{\"outlinewidth\":0,\"ticks\":\"\"}}],\"scatter\":[{\"fillpattern\":{\"fillmode\":\"overlay\",\"size\":10,\"solidity\":0.2},\"type\":\"scatter\"}],\"parcoords\":[{\"type\":\"parcoords\",\"line\":{\"colorbar\":{\"outlinewidth\":0,\"ticks\":\"\"}}}],\"scatterpolargl\":[{\"type\":\"scatterpolargl\",\"marker\":{\"colorbar\":{\"outlinewidth\":0,\"ticks\":\"\"}}}],\"bar\":[{\"error_x\":{\"color\":\"#2a3f5f\"},\"error_y\":{\"color\":\"#2a3f5f\"},\"marker\":{\"line\":{\"color\":\"#E5ECF6\",\"width\":0.5},\"pattern\":{\"fillmode\":\"overlay\",\"size\":10,\"solidity\":0.2}},\"type\":\"bar\"}],\"scattergeo\":[{\"type\":\"scattergeo\",\"marker\":{\"colorbar\":{\"outlinewidth\":0,\"ticks\":\"\"}}}],\"scatterpolar\":[{\"type\":\"scatterpolar\",\"marker\":{\"colorbar\":{\"outlinewidth\":0,\"ticks\":\"\"}}}],\"histogram\":[{\"marker\":{\"pattern\":{\"fillmode\":\"overlay\",\"size\":10,\"solidity\":0.2}},\"type\":\"histogram\"}],\"scattergl\":[{\"type\":\"scattergl\",\"marker\":{\"colorbar\":{\"outlinewidth\":0,\"ticks\":\"\"}}}],\"scatter3d\":[{\"type\":\"scatter3d\",\"line\":{\"colorbar\":{\"outlinewidth\":0,\"ticks\":\"\"}},\"marker\":{\"colorbar\":{\"outlinewidth\":0,\"ticks\":\"\"}}}],\"scattermapbox\":[{\"type\":\"scattermapbox\",\"marker\":{\"colorbar\":{\"outlinewidth\":0,\"ticks\":\"\"}}}],\"scatterternary\":[{\"type\":\"scatterternary\",\"marker\":{\"colorbar\":{\"outlinewidth\":0,\"ticks\":\"\"}}}],\"scattercarpet\":[{\"type\":\"scattercarpet\",\"marker\":{\"colorbar\":{\"outlinewidth\":0,\"ticks\":\"\"}}}],\"carpet\":[{\"aaxis\":{\"endlinecolor\":\"#2a3f5f\",\"gridcolor\":\"white\",\"linecolor\":\"white\",\"minorgridcolor\":\"white\",\"startlinecolor\":\"#2a3f5f\"},\"baxis\":{\"endlinecolor\":\"#2a3f5f\",\"gridcolor\":\"white\",\"linecolor\":\"white\",\"minorgridcolor\":\"white\",\"startlinecolor\":\"#2a3f5f\"},\"type\":\"carpet\"}],\"table\":[{\"cells\":{\"fill\":{\"color\":\"#EBF0F8\"},\"line\":{\"color\":\"white\"}},\"header\":{\"fill\":{\"color\":\"#C8D4E3\"},\"line\":{\"color\":\"white\"}},\"type\":\"table\"}],\"barpolar\":[{\"marker\":{\"line\":{\"color\":\"#E5ECF6\",\"width\":0.5},\"pattern\":{\"fillmode\":\"overlay\",\"size\":10,\"solidity\":0.2}},\"type\":\"barpolar\"}],\"pie\":[{\"automargin\":true,\"type\":\"pie\"}]},\"layout\":{\"autotypenumbers\":\"strict\",\"colorway\":[\"#636efa\",\"#EF553B\",\"#00cc96\",\"#ab63fa\",\"#FFA15A\",\"#19d3f3\",\"#FF6692\",\"#B6E880\",\"#FF97FF\",\"#FECB52\"],\"font\":{\"color\":\"#2a3f5f\"},\"hovermode\":\"closest\",\"hoverlabel\":{\"align\":\"left\"},\"paper_bgcolor\":\"white\",\"plot_bgcolor\":\"#E5ECF6\",\"polar\":{\"bgcolor\":\"#E5ECF6\",\"angularaxis\":{\"gridcolor\":\"white\",\"linecolor\":\"white\",\"ticks\":\"\"},\"radialaxis\":{\"gridcolor\":\"white\",\"linecolor\":\"white\",\"ticks\":\"\"}},\"ternary\":{\"bgcolor\":\"#E5ECF6\",\"aaxis\":{\"gridcolor\":\"white\",\"linecolor\":\"white\",\"ticks\":\"\"},\"baxis\":{\"gridcolor\":\"white\",\"linecolor\":\"white\",\"ticks\":\"\"},\"caxis\":{\"gridcolor\":\"white\",\"linecolor\":\"white\",\"ticks\":\"\"}},\"coloraxis\":{\"colorbar\":{\"outlinewidth\":0,\"ticks\":\"\"}},\"colorscale\":{\"sequential\":[[0.0,\"#0d0887\"],[0.1111111111111111,\"#46039f\"],[0.2222222222222222,\"#7201a8\"],[0.3333333333333333,\"#9c179e\"],[0.4444444444444444,\"#bd3786\"],[0.5555555555555556,\"#d8576b\"],[0.6666666666666666,\"#ed7953\"],[0.7777777777777778,\"#fb9f3a\"],[0.8888888888888888,\"#fdca26\"],[1.0,\"#f0f921\"]],\"sequentialminus\":[[0.0,\"#0d0887\"],[0.1111111111111111,\"#46039f\"],[0.2222222222222222,\"#7201a8\"],[0.3333333333333333,\"#9c179e\"],[0.4444444444444444,\"#bd3786\"],[0.5555555555555556,\"#d8576b\"],[0.6666666666666666,\"#ed7953\"],[0.7777777777777778,\"#fb9f3a\"],[0.8888888888888888,\"#fdca26\"],[1.0,\"#f0f921\"]],\"diverging\":[[0,\"#8e0152\"],[0.1,\"#c51b7d\"],[0.2,\"#de77ae\"],[0.3,\"#f1b6da\"],[0.4,\"#fde0ef\"],[0.5,\"#f7f7f7\"],[0.6,\"#e6f5d0\"],[0.7,\"#b8e186\"],[0.8,\"#7fbc41\"],[0.9,\"#4d9221\"],[1,\"#276419\"]]},\"xaxis\":{\"gridcolor\":\"white\",\"linecolor\":\"white\",\"ticks\":\"\",\"title\":{\"standoff\":15},\"zerolinecolor\":\"white\",\"automargin\":true,\"zerolinewidth\":2},\"yaxis\":{\"gridcolor\":\"white\",\"linecolor\":\"white\",\"ticks\":\"\",\"title\":{\"standoff\":15},\"zerolinecolor\":\"white\",\"automargin\":true,\"zerolinewidth\":2},\"scene\":{\"xaxis\":{\"backgroundcolor\":\"#E5ECF6\",\"gridcolor\":\"white\",\"linecolor\":\"white\",\"showbackground\":true,\"ticks\":\"\",\"zerolinecolor\":\"white\",\"gridwidth\":2},\"yaxis\":{\"backgroundcolor\":\"#E5ECF6\",\"gridcolor\":\"white\",\"linecolor\":\"white\",\"showbackground\":true,\"ticks\":\"\",\"zerolinecolor\":\"white\",\"gridwidth\":2},\"zaxis\":{\"backgroundcolor\":\"#E5ECF6\",\"gridcolor\":\"white\",\"linecolor\":\"white\",\"showbackground\":true,\"ticks\":\"\",\"zerolinecolor\":\"white\",\"gridwidth\":2}},\"shapedefaults\":{\"line\":{\"color\":\"#2a3f5f\"}},\"annotationdefaults\":{\"arrowcolor\":\"#2a3f5f\",\"arrowhead\":0,\"arrowwidth\":1},\"geo\":{\"bgcolor\":\"white\",\"landcolor\":\"#E5ECF6\",\"subunitcolor\":\"white\",\"showland\":true,\"showlakes\":true,\"lakecolor\":\"white\"},\"title\":{\"x\":0.05},\"mapbox\":{\"style\":\"light\"}}},\"xaxis\":{\"anchor\":\"y\",\"domain\":[0.0,1.0],\"title\":{\"text\":\"Date\"}},\"yaxis\":{\"anchor\":\"x\",\"domain\":[0.0,1.0],\"title\":{\"text\":\"Average\"}},\"legend\":{\"title\":{\"text\":\"Commodity\"},\"tracegroupgap\":0},\"margin\":{\"t\":60},\"barmode\":\"relative\"},                        {\"responsive\": true}                    ).then(function(){\n",
       "                            \n",
       "var gd = document.getElementById('31291ed5-2581-4aac-8459-8d2a23f6963d');\n",
       "var x = new MutationObserver(function (mutations, observer) {{\n",
       "        var display = window.getComputedStyle(gd).display;\n",
       "        if (!display || display === 'none') {{\n",
       "            console.log([gd, 'removed!']);\n",
       "            Plotly.purge(gd);\n",
       "            observer.disconnect();\n",
       "        }}\n",
       "}});\n",
       "\n",
       "// Listen for the removal of the full notebook cells\n",
       "var notebookContainer = gd.closest('#notebook-container');\n",
       "if (notebookContainer) {{\n",
       "    x.observe(notebookContainer, {childList: true});\n",
       "}}\n",
       "\n",
       "// Listen for the clearing of the current output cell\n",
       "var outputEl = gd.closest('.output');\n",
       "if (outputEl) {{\n",
       "    x.observe(outputEl, {childList: true});\n",
       "}}\n",
       "\n",
       "                        })                };                });            </script>        </div>"
      ]
     },
     "metadata": {},
     "output_type": "display_data"
    }
   ],
   "source": [
    "#Graph of maximum price of tarkari on which date and how much \n",
    "px.bar(df_withdate_max,x = 'Date',y = 'Average',color = 'Commodity')"
   ]
  },
  {
   "cell_type": "code",
   "execution_count": 205,
   "id": "0d715cdb",
   "metadata": {},
   "outputs": [],
   "source": [
    "import plotly.express as px"
   ]
  },
  {
   "cell_type": "code",
   "execution_count": 206,
   "id": "fa138894",
   "metadata": {},
   "outputs": [],
   "source": [
    "df_bubble = df_tarkari.loc[df_tarkari['Commodity'].isin(df_withdate_max['Commodity'])]"
   ]
  },
  {
   "cell_type": "code",
   "execution_count": 207,
   "id": "4dbf2d84",
   "metadata": {},
   "outputs": [],
   "source": [
    "df_bubble['date_year'] = pd.to_datetime(df_bubble['Date']).dt.year"
   ]
  },
  {
   "cell_type": "code",
   "execution_count": 208,
   "id": "565fa295",
   "metadata": {},
   "outputs": [
    {
     "data": {
      "text/html": [
       "<div>\n",
       "<style scoped>\n",
       "    .dataframe tbody tr th:only-of-type {\n",
       "        vertical-align: middle;\n",
       "    }\n",
       "\n",
       "    .dataframe tbody tr th {\n",
       "        vertical-align: top;\n",
       "    }\n",
       "\n",
       "    .dataframe thead th {\n",
       "        text-align: right;\n",
       "    }\n",
       "</style>\n",
       "<table border=\"1\" class=\"dataframe\">\n",
       "  <thead>\n",
       "    <tr style=\"text-align: right;\">\n",
       "      <th></th>\n",
       "      <th>SN</th>\n",
       "      <th>Commodity</th>\n",
       "      <th>Date</th>\n",
       "      <th>Unit</th>\n",
       "      <th>Minimum</th>\n",
       "      <th>Maximum</th>\n",
       "      <th>Average</th>\n",
       "      <th>date_year</th>\n",
       "    </tr>\n",
       "  </thead>\n",
       "  <tbody>\n",
       "    <tr>\n",
       "      <th>24604</th>\n",
       "      <td>24604</td>\n",
       "      <td>Asparagus</td>\n",
       "      <td>2014-08-17</td>\n",
       "      <td>Kg</td>\n",
       "      <td>60.0</td>\n",
       "      <td>70.0</td>\n",
       "      <td>65.0</td>\n",
       "      <td>2014</td>\n",
       "    </tr>\n",
       "    <tr>\n",
       "      <th>22057</th>\n",
       "      <td>22057</td>\n",
       "      <td>Asparagus</td>\n",
       "      <td>2014-07-09</td>\n",
       "      <td>Kg</td>\n",
       "      <td>100.0</td>\n",
       "      <td>110.0</td>\n",
       "      <td>105.0</td>\n",
       "      <td>2014</td>\n",
       "    </tr>\n",
       "    <tr>\n",
       "      <th>180</th>\n",
       "      <td>180</td>\n",
       "      <td>Asparagus</td>\n",
       "      <td>2013-06-18</td>\n",
       "      <td>Kg</td>\n",
       "      <td>100.0</td>\n",
       "      <td>120.0</td>\n",
       "      <td>110.0</td>\n",
       "      <td>2013</td>\n",
       "    </tr>\n",
       "    <tr>\n",
       "      <th>327</th>\n",
       "      <td>327</td>\n",
       "      <td>Asparagus</td>\n",
       "      <td>2013-06-20</td>\n",
       "      <td>Kg</td>\n",
       "      <td>100.0</td>\n",
       "      <td>120.0</td>\n",
       "      <td>110.0</td>\n",
       "      <td>2013</td>\n",
       "    </tr>\n",
       "    <tr>\n",
       "      <th>401</th>\n",
       "      <td>401</td>\n",
       "      <td>Asparagus</td>\n",
       "      <td>2013-06-21</td>\n",
       "      <td>Kg</td>\n",
       "      <td>100.0</td>\n",
       "      <td>120.0</td>\n",
       "      <td>110.0</td>\n",
       "      <td>2013</td>\n",
       "    </tr>\n",
       "    <tr>\n",
       "      <th>...</th>\n",
       "      <td>...</td>\n",
       "      <td>...</td>\n",
       "      <td>...</td>\n",
       "      <td>...</td>\n",
       "      <td>...</td>\n",
       "      <td>...</td>\n",
       "      <td>...</td>\n",
       "      <td>...</td>\n",
       "    </tr>\n",
       "    <tr>\n",
       "      <th>191329</th>\n",
       "      <td>191329</td>\n",
       "      <td>Asparagus</td>\n",
       "      <td>2021-03-16</td>\n",
       "      <td>Kg</td>\n",
       "      <td>950.0</td>\n",
       "      <td>1000.0</td>\n",
       "      <td>975.0</td>\n",
       "      <td>2021</td>\n",
       "    </tr>\n",
       "    <tr>\n",
       "      <th>197114</th>\n",
       "      <td>197114</td>\n",
       "      <td>Asparagus</td>\n",
       "      <td>2021-05-13</td>\n",
       "      <td>Kg</td>\n",
       "      <td>1000.0</td>\n",
       "      <td>1050.0</td>\n",
       "      <td>1025.0</td>\n",
       "      <td>2021</td>\n",
       "    </tr>\n",
       "    <tr>\n",
       "      <th>196931</th>\n",
       "      <td>196931</td>\n",
       "      <td>Asparagus</td>\n",
       "      <td>2021-05-11</td>\n",
       "      <td>Kg</td>\n",
       "      <td>1000.0</td>\n",
       "      <td>1200.0</td>\n",
       "      <td>1100.0</td>\n",
       "      <td>2021</td>\n",
       "    </tr>\n",
       "    <tr>\n",
       "      <th>197023</th>\n",
       "      <td>197023</td>\n",
       "      <td>Asparagus</td>\n",
       "      <td>2021-05-12</td>\n",
       "      <td>Kg</td>\n",
       "      <td>1000.0</td>\n",
       "      <td>1200.0</td>\n",
       "      <td>1100.0</td>\n",
       "      <td>2021</td>\n",
       "    </tr>\n",
       "    <tr>\n",
       "      <th>177595</th>\n",
       "      <td>177595</td>\n",
       "      <td>Asparagus</td>\n",
       "      <td>2020-10-22</td>\n",
       "      <td>Kg</td>\n",
       "      <td>1800.0</td>\n",
       "      <td>2000.0</td>\n",
       "      <td>1900.0</td>\n",
       "      <td>2020</td>\n",
       "    </tr>\n",
       "  </tbody>\n",
       "</table>\n",
       "<p>1055 rows × 8 columns</p>\n",
       "</div>"
      ],
      "text/plain": [
       "            SN  Commodity        Date Unit  Minimum  Maximum  Average  \\\n",
       "24604    24604  Asparagus  2014-08-17   Kg     60.0     70.0     65.0   \n",
       "22057    22057  Asparagus  2014-07-09   Kg    100.0    110.0    105.0   \n",
       "180        180  Asparagus  2013-06-18   Kg    100.0    120.0    110.0   \n",
       "327        327  Asparagus  2013-06-20   Kg    100.0    120.0    110.0   \n",
       "401        401  Asparagus  2013-06-21   Kg    100.0    120.0    110.0   \n",
       "...        ...        ...         ...  ...      ...      ...      ...   \n",
       "191329  191329  Asparagus  2021-03-16   Kg    950.0   1000.0    975.0   \n",
       "197114  197114  Asparagus  2021-05-13   Kg   1000.0   1050.0   1025.0   \n",
       "196931  196931  Asparagus  2021-05-11   Kg   1000.0   1200.0   1100.0   \n",
       "197023  197023  Asparagus  2021-05-12   Kg   1000.0   1200.0   1100.0   \n",
       "177595  177595  Asparagus  2020-10-22   Kg   1800.0   2000.0   1900.0   \n",
       "\n",
       "        date_year  \n",
       "24604        2014  \n",
       "22057        2014  \n",
       "180          2013  \n",
       "327          2013  \n",
       "401          2013  \n",
       "...           ...  \n",
       "191329       2021  \n",
       "197114       2021  \n",
       "196931       2021  \n",
       "197023       2021  \n",
       "177595       2020  \n",
       "\n",
       "[1055 rows x 8 columns]"
      ]
     },
     "execution_count": 208,
     "metadata": {},
     "output_type": "execute_result"
    }
   ],
   "source": [
    "df_bubble[df_bubble['Commodity'] == 'Asparagus'].sort_values(by = 'Average')"
   ]
  },
  {
   "cell_type": "code",
   "execution_count": 209,
   "id": "5075297c",
   "metadata": {},
   "outputs": [
    {
     "data": {
      "text/html": [
       "<div>\n",
       "<style scoped>\n",
       "    .dataframe tbody tr th:only-of-type {\n",
       "        vertical-align: middle;\n",
       "    }\n",
       "\n",
       "    .dataframe tbody tr th {\n",
       "        vertical-align: top;\n",
       "    }\n",
       "\n",
       "    .dataframe thead th {\n",
       "        text-align: right;\n",
       "    }\n",
       "</style>\n",
       "<table border=\"1\" class=\"dataframe\">\n",
       "  <thead>\n",
       "    <tr style=\"text-align: right;\">\n",
       "      <th></th>\n",
       "      <th>SN</th>\n",
       "      <th>Commodity</th>\n",
       "      <th>Date</th>\n",
       "      <th>Unit</th>\n",
       "      <th>Minimum</th>\n",
       "      <th>Maximum</th>\n",
       "      <th>Average</th>\n",
       "      <th>date_year</th>\n",
       "    </tr>\n",
       "  </thead>\n",
       "  <tbody>\n",
       "    <tr>\n",
       "      <th>34</th>\n",
       "      <td>34</td>\n",
       "      <td>Asparagus</td>\n",
       "      <td>2013-06-16</td>\n",
       "      <td>Kg</td>\n",
       "      <td>100.0</td>\n",
       "      <td>150.0</td>\n",
       "      <td>125.0</td>\n",
       "      <td>2013</td>\n",
       "    </tr>\n",
       "    <tr>\n",
       "      <th>42</th>\n",
       "      <td>42</td>\n",
       "      <td>Parseley</td>\n",
       "      <td>2013-06-16</td>\n",
       "      <td>Kg</td>\n",
       "      <td>180.0</td>\n",
       "      <td>190.0</td>\n",
       "      <td>185.0</td>\n",
       "      <td>2013</td>\n",
       "    </tr>\n",
       "    <tr>\n",
       "      <th>52</th>\n",
       "      <td>52</td>\n",
       "      <td>Lime</td>\n",
       "      <td>2013-06-16</td>\n",
       "      <td>Kg</td>\n",
       "      <td>200.0</td>\n",
       "      <td>400.0</td>\n",
       "      <td>300.0</td>\n",
       "      <td>2013</td>\n",
       "    </tr>\n",
       "    <tr>\n",
       "      <th>68</th>\n",
       "      <td>68</td>\n",
       "      <td>Coriander Green</td>\n",
       "      <td>2013-06-16</td>\n",
       "      <td>Kg</td>\n",
       "      <td>90.0</td>\n",
       "      <td>110.0</td>\n",
       "      <td>100.0</td>\n",
       "      <td>2013</td>\n",
       "    </tr>\n",
       "    <tr>\n",
       "      <th>69</th>\n",
       "      <td>69</td>\n",
       "      <td>Garlic Dry Chinese</td>\n",
       "      <td>2013-06-16</td>\n",
       "      <td>Kg</td>\n",
       "      <td>100.0</td>\n",
       "      <td>110.0</td>\n",
       "      <td>105.0</td>\n",
       "      <td>2013</td>\n",
       "    </tr>\n",
       "    <tr>\n",
       "      <th>...</th>\n",
       "      <td>...</td>\n",
       "      <td>...</td>\n",
       "      <td>...</td>\n",
       "      <td>...</td>\n",
       "      <td>...</td>\n",
       "      <td>...</td>\n",
       "      <td>...</td>\n",
       "      <td>...</td>\n",
       "    </tr>\n",
       "    <tr>\n",
       "      <th>197145</th>\n",
       "      <td>197145</td>\n",
       "      <td>Strawberry</td>\n",
       "      <td>2021-05-13</td>\n",
       "      <td>Kg</td>\n",
       "      <td>450.0</td>\n",
       "      <td>500.0</td>\n",
       "      <td>475.0</td>\n",
       "      <td>2021</td>\n",
       "    </tr>\n",
       "    <tr>\n",
       "      <th>197151</th>\n",
       "      <td>197151</td>\n",
       "      <td>Chilli Green(Akbare)</td>\n",
       "      <td>2021-05-13</td>\n",
       "      <td>Kg</td>\n",
       "      <td>140.0</td>\n",
       "      <td>150.0</td>\n",
       "      <td>145.0</td>\n",
       "      <td>2021</td>\n",
       "    </tr>\n",
       "    <tr>\n",
       "      <th>197154</th>\n",
       "      <td>197154</td>\n",
       "      <td>Coriander Green</td>\n",
       "      <td>2021-05-13</td>\n",
       "      <td>Kg</td>\n",
       "      <td>80.0</td>\n",
       "      <td>90.0</td>\n",
       "      <td>85.0</td>\n",
       "      <td>2021</td>\n",
       "    </tr>\n",
       "    <tr>\n",
       "      <th>197155</th>\n",
       "      <td>197155</td>\n",
       "      <td>Garlic Dry Chinese</td>\n",
       "      <td>2021-05-13</td>\n",
       "      <td>Kg</td>\n",
       "      <td>240.0</td>\n",
       "      <td>250.0</td>\n",
       "      <td>245.0</td>\n",
       "      <td>2021</td>\n",
       "    </tr>\n",
       "    <tr>\n",
       "      <th>197156</th>\n",
       "      <td>197156</td>\n",
       "      <td>Garlic Dry Nepali</td>\n",
       "      <td>2021-05-13</td>\n",
       "      <td>Kg</td>\n",
       "      <td>100.0</td>\n",
       "      <td>120.0</td>\n",
       "      <td>110.0</td>\n",
       "      <td>2021</td>\n",
       "    </tr>\n",
       "  </tbody>\n",
       "</table>\n",
       "<p>15803 rows × 8 columns</p>\n",
       "</div>"
      ],
      "text/plain": [
       "            SN             Commodity        Date Unit  Minimum  Maximum  \\\n",
       "34          34             Asparagus  2013-06-16   Kg    100.0    150.0   \n",
       "42          42              Parseley  2013-06-16   Kg    180.0    190.0   \n",
       "52          52                  Lime  2013-06-16   Kg    200.0    400.0   \n",
       "68          68       Coriander Green  2013-06-16   Kg     90.0    110.0   \n",
       "69          69    Garlic Dry Chinese  2013-06-16   Kg    100.0    110.0   \n",
       "...        ...                   ...         ...  ...      ...      ...   \n",
       "197145  197145            Strawberry  2021-05-13   Kg    450.0    500.0   \n",
       "197151  197151  Chilli Green(Akbare)  2021-05-13   Kg    140.0    150.0   \n",
       "197154  197154       Coriander Green  2021-05-13   Kg     80.0     90.0   \n",
       "197155  197155    Garlic Dry Chinese  2021-05-13   Kg    240.0    250.0   \n",
       "197156  197156     Garlic Dry Nepali  2021-05-13   Kg    100.0    120.0   \n",
       "\n",
       "        Average  date_year  \n",
       "34        125.0       2013  \n",
       "42        185.0       2013  \n",
       "52        300.0       2013  \n",
       "68        100.0       2013  \n",
       "69        105.0       2013  \n",
       "...         ...        ...  \n",
       "197145    475.0       2021  \n",
       "197151    145.0       2021  \n",
       "197154     85.0       2021  \n",
       "197155    245.0       2021  \n",
       "197156    110.0       2021  \n",
       "\n",
       "[15803 rows x 8 columns]"
      ]
     },
     "execution_count": 209,
     "metadata": {},
     "output_type": "execute_result"
    }
   ],
   "source": [
    "df_bubble"
   ]
  },
  {
   "cell_type": "code",
   "execution_count": 211,
   "id": "2a078925",
   "metadata": {},
   "outputs": [
    {
     "data": {
      "application/vnd.plotly.v1+json": {
       "config": {
        "plotlyServerURL": "https://plot.ly"
       },
       "data": [
        {
         "hovertemplate": "<b>%{hovertext}</b><br><br>Commodity=Asparagus<br>date_year=%{x}<br>Average=%{marker.size}<extra></extra>",
         "hovertext": [
          "Asparagus",
          "Asparagus",
          "Asparagus",
          "Asparagus",
          "Asparagus",
          "Asparagus",
          "Asparagus",
          "Asparagus",
          "Asparagus",
          "Asparagus",
          "Asparagus",
          "Asparagus",
          "Asparagus",
          "Asparagus",
          "Asparagus",
          "Asparagus",
          "Asparagus",
          "Asparagus",
          "Asparagus",
          "Asparagus",
          "Asparagus",
          "Asparagus",
          "Asparagus",
          "Asparagus",
          "Asparagus",
          "Asparagus",
          "Asparagus",
          "Asparagus",
          "Asparagus",
          "Asparagus",
          "Asparagus",
          "Asparagus",
          "Asparagus",
          "Asparagus",
          "Asparagus",
          "Asparagus",
          "Asparagus",
          "Asparagus",
          "Asparagus",
          "Asparagus",
          "Asparagus",
          "Asparagus",
          "Asparagus",
          "Asparagus",
          "Asparagus",
          "Asparagus",
          "Asparagus",
          "Asparagus",
          "Asparagus",
          "Asparagus",
          "Asparagus",
          "Asparagus",
          "Asparagus",
          "Asparagus",
          "Asparagus",
          "Asparagus",
          "Asparagus",
          "Asparagus",
          "Asparagus",
          "Asparagus",
          "Asparagus",
          "Asparagus",
          "Asparagus",
          "Asparagus",
          "Asparagus",
          "Asparagus",
          "Asparagus",
          "Asparagus",
          "Asparagus",
          "Asparagus",
          "Asparagus",
          "Asparagus",
          "Asparagus",
          "Asparagus",
          "Asparagus",
          "Asparagus",
          "Asparagus",
          "Asparagus",
          "Asparagus",
          "Asparagus",
          "Asparagus",
          "Asparagus",
          "Asparagus",
          "Asparagus",
          "Asparagus",
          "Asparagus",
          "Asparagus",
          "Asparagus",
          "Asparagus",
          "Asparagus",
          "Asparagus",
          "Asparagus",
          "Asparagus",
          "Asparagus",
          "Asparagus",
          "Asparagus",
          "Asparagus",
          "Asparagus",
          "Asparagus",
          "Asparagus",
          "Asparagus",
          "Asparagus",
          "Asparagus",
          "Asparagus",
          "Asparagus",
          "Asparagus"
         ],
         "ids": [
          "Asparagus",
          "Asparagus",
          "Asparagus",
          "Asparagus",
          "Asparagus",
          "Asparagus",
          "Asparagus",
          "Asparagus",
          "Asparagus",
          "Asparagus",
          "Asparagus",
          "Asparagus",
          "Asparagus",
          "Asparagus",
          "Asparagus",
          "Asparagus",
          "Asparagus",
          "Asparagus",
          "Asparagus",
          "Asparagus",
          "Asparagus",
          "Asparagus",
          "Asparagus",
          "Asparagus",
          "Asparagus",
          "Asparagus",
          "Asparagus",
          "Asparagus",
          "Asparagus",
          "Asparagus",
          "Asparagus",
          "Asparagus",
          "Asparagus",
          "Asparagus",
          "Asparagus",
          "Asparagus",
          "Asparagus",
          "Asparagus",
          "Asparagus",
          "Asparagus",
          "Asparagus",
          "Asparagus",
          "Asparagus",
          "Asparagus",
          "Asparagus",
          "Asparagus",
          "Asparagus",
          "Asparagus",
          "Asparagus",
          "Asparagus",
          "Asparagus",
          "Asparagus",
          "Asparagus",
          "Asparagus",
          "Asparagus",
          "Asparagus",
          "Asparagus",
          "Asparagus",
          "Asparagus",
          "Asparagus",
          "Asparagus",
          "Asparagus",
          "Asparagus",
          "Asparagus",
          "Asparagus",
          "Asparagus",
          "Asparagus",
          "Asparagus",
          "Asparagus",
          "Asparagus",
          "Asparagus",
          "Asparagus",
          "Asparagus",
          "Asparagus",
          "Asparagus",
          "Asparagus",
          "Asparagus",
          "Asparagus",
          "Asparagus",
          "Asparagus",
          "Asparagus",
          "Asparagus",
          "Asparagus",
          "Asparagus",
          "Asparagus",
          "Asparagus",
          "Asparagus",
          "Asparagus",
          "Asparagus",
          "Asparagus",
          "Asparagus",
          "Asparagus",
          "Asparagus",
          "Asparagus",
          "Asparagus",
          "Asparagus",
          "Asparagus",
          "Asparagus",
          "Asparagus",
          "Asparagus",
          "Asparagus",
          "Asparagus",
          "Asparagus",
          "Asparagus",
          "Asparagus",
          "Asparagus"
         ],
         "legendgroup": "Asparagus",
         "marker": {
          "color": "#636efa",
          "size": [
           125,
           125,
           110,
           112.5,
           110,
           110,
           112.5,
           115,
           112.5,
           112.5,
           120,
           125,
           125,
           125,
           125,
           125,
           125,
           135,
           125,
           125,
           125,
           130,
           130,
           130,
           130,
           130,
           130,
           135,
           135,
           135,
           135,
           135,
           160,
           165,
           165,
           165,
           175,
           175,
           175,
           175,
           175,
           150,
           175,
           175,
           180,
           190,
           190,
           190,
           210,
           210,
           225,
           225,
           225,
           225,
           190,
           225,
           225,
           225,
           225,
           175,
           225,
           225,
           225,
           190,
           175,
           175,
           190,
           225,
           210,
           210,
           210,
           190,
           190,
           190,
           190,
           190,
           325,
           375,
           375,
           375,
           275,
           325,
           275,
           275,
           325,
           190,
           210,
           275,
           275,
           225,
           225,
           190,
           190,
           210,
           190,
           190,
           190,
           190,
           190,
           190,
           375,
           375,
           375,
           375,
           325,
           325
          ],
          "sizemode": "area",
          "sizeref": 0.19,
          "symbol": "circle"
         },
         "mode": "markers",
         "name": "Asparagus",
         "orientation": "v",
         "showlegend": true,
         "type": "scatter",
         "x": [
          2013,
          2013,
          2013,
          2013,
          2013,
          2013,
          2013,
          2013,
          2013,
          2013,
          2013,
          2013,
          2013,
          2013,
          2013,
          2013,
          2013,
          2013,
          2013,
          2013,
          2013,
          2013,
          2013,
          2013,
          2013,
          2013,
          2013,
          2013,
          2013,
          2013,
          2013,
          2013,
          2013,
          2013,
          2013,
          2013,
          2013,
          2013,
          2013,
          2013,
          2013,
          2013,
          2013,
          2013,
          2013,
          2013,
          2013,
          2013,
          2013,
          2013,
          2013,
          2013,
          2013,
          2013,
          2013,
          2013,
          2013,
          2013,
          2013,
          2013,
          2013,
          2013,
          2013,
          2013,
          2013,
          2013,
          2013,
          2013,
          2013,
          2013,
          2013,
          2013,
          2013,
          2013,
          2013,
          2013,
          2013,
          2013,
          2013,
          2013,
          2013,
          2013,
          2013,
          2013,
          2013,
          2013,
          2013,
          2013,
          2013,
          2013,
          2013,
          2013,
          2013,
          2013,
          2013,
          2013,
          2013,
          2013,
          2013,
          2013,
          2013,
          2013,
          2013,
          2013,
          2013,
          2013
         ],
         "xaxis": "x",
         "y": [
          125,
          125,
          110,
          112.5,
          110,
          110,
          112.5,
          115,
          112.5,
          112.5,
          120,
          125,
          125,
          125,
          125,
          125,
          125,
          135,
          125,
          125,
          125,
          130,
          130,
          130,
          130,
          130,
          130,
          135,
          135,
          135,
          135,
          135,
          160,
          165,
          165,
          165,
          175,
          175,
          175,
          175,
          175,
          150,
          175,
          175,
          180,
          190,
          190,
          190,
          210,
          210,
          225,
          225,
          225,
          225,
          190,
          225,
          225,
          225,
          225,
          175,
          225,
          225,
          225,
          190,
          175,
          175,
          190,
          225,
          210,
          210,
          210,
          190,
          190,
          190,
          190,
          190,
          325,
          375,
          375,
          375,
          275,
          325,
          275,
          275,
          325,
          190,
          210,
          275,
          275,
          225,
          225,
          190,
          190,
          210,
          190,
          190,
          190,
          190,
          190,
          190,
          375,
          375,
          375,
          375,
          325,
          325
         ],
         "yaxis": "y"
        }
       ],
       "frames": [
        {
         "data": [
          {
           "hovertemplate": "<b>%{hovertext}</b><br><br>Commodity=Asparagus<br>date_year=%{x}<br>Average=%{marker.size}<extra></extra>",
           "hovertext": [
            "Asparagus",
            "Asparagus",
            "Asparagus",
            "Asparagus",
            "Asparagus",
            "Asparagus",
            "Asparagus",
            "Asparagus",
            "Asparagus",
            "Asparagus",
            "Asparagus",
            "Asparagus",
            "Asparagus",
            "Asparagus",
            "Asparagus",
            "Asparagus",
            "Asparagus",
            "Asparagus",
            "Asparagus",
            "Asparagus",
            "Asparagus",
            "Asparagus",
            "Asparagus",
            "Asparagus",
            "Asparagus",
            "Asparagus",
            "Asparagus",
            "Asparagus",
            "Asparagus",
            "Asparagus",
            "Asparagus",
            "Asparagus",
            "Asparagus",
            "Asparagus",
            "Asparagus",
            "Asparagus",
            "Asparagus",
            "Asparagus",
            "Asparagus",
            "Asparagus",
            "Asparagus",
            "Asparagus",
            "Asparagus",
            "Asparagus",
            "Asparagus",
            "Asparagus",
            "Asparagus",
            "Asparagus",
            "Asparagus",
            "Asparagus",
            "Asparagus",
            "Asparagus",
            "Asparagus",
            "Asparagus",
            "Asparagus",
            "Asparagus",
            "Asparagus",
            "Asparagus",
            "Asparagus",
            "Asparagus",
            "Asparagus",
            "Asparagus",
            "Asparagus",
            "Asparagus",
            "Asparagus",
            "Asparagus",
            "Asparagus",
            "Asparagus",
            "Asparagus",
            "Asparagus",
            "Asparagus",
            "Asparagus",
            "Asparagus",
            "Asparagus",
            "Asparagus",
            "Asparagus",
            "Asparagus",
            "Asparagus",
            "Asparagus",
            "Asparagus",
            "Asparagus",
            "Asparagus",
            "Asparagus",
            "Asparagus",
            "Asparagus",
            "Asparagus",
            "Asparagus",
            "Asparagus",
            "Asparagus",
            "Asparagus",
            "Asparagus",
            "Asparagus",
            "Asparagus",
            "Asparagus",
            "Asparagus",
            "Asparagus",
            "Asparagus",
            "Asparagus",
            "Asparagus",
            "Asparagus",
            "Asparagus",
            "Asparagus",
            "Asparagus",
            "Asparagus",
            "Asparagus",
            "Asparagus"
           ],
           "ids": [
            "Asparagus",
            "Asparagus",
            "Asparagus",
            "Asparagus",
            "Asparagus",
            "Asparagus",
            "Asparagus",
            "Asparagus",
            "Asparagus",
            "Asparagus",
            "Asparagus",
            "Asparagus",
            "Asparagus",
            "Asparagus",
            "Asparagus",
            "Asparagus",
            "Asparagus",
            "Asparagus",
            "Asparagus",
            "Asparagus",
            "Asparagus",
            "Asparagus",
            "Asparagus",
            "Asparagus",
            "Asparagus",
            "Asparagus",
            "Asparagus",
            "Asparagus",
            "Asparagus",
            "Asparagus",
            "Asparagus",
            "Asparagus",
            "Asparagus",
            "Asparagus",
            "Asparagus",
            "Asparagus",
            "Asparagus",
            "Asparagus",
            "Asparagus",
            "Asparagus",
            "Asparagus",
            "Asparagus",
            "Asparagus",
            "Asparagus",
            "Asparagus",
            "Asparagus",
            "Asparagus",
            "Asparagus",
            "Asparagus",
            "Asparagus",
            "Asparagus",
            "Asparagus",
            "Asparagus",
            "Asparagus",
            "Asparagus",
            "Asparagus",
            "Asparagus",
            "Asparagus",
            "Asparagus",
            "Asparagus",
            "Asparagus",
            "Asparagus",
            "Asparagus",
            "Asparagus",
            "Asparagus",
            "Asparagus",
            "Asparagus",
            "Asparagus",
            "Asparagus",
            "Asparagus",
            "Asparagus",
            "Asparagus",
            "Asparagus",
            "Asparagus",
            "Asparagus",
            "Asparagus",
            "Asparagus",
            "Asparagus",
            "Asparagus",
            "Asparagus",
            "Asparagus",
            "Asparagus",
            "Asparagus",
            "Asparagus",
            "Asparagus",
            "Asparagus",
            "Asparagus",
            "Asparagus",
            "Asparagus",
            "Asparagus",
            "Asparagus",
            "Asparagus",
            "Asparagus",
            "Asparagus",
            "Asparagus",
            "Asparagus",
            "Asparagus",
            "Asparagus",
            "Asparagus",
            "Asparagus",
            "Asparagus",
            "Asparagus",
            "Asparagus",
            "Asparagus",
            "Asparagus",
            "Asparagus"
           ],
           "legendgroup": "Asparagus",
           "marker": {
            "color": "#636efa",
            "size": [
             125,
             125,
             110,
             112.5,
             110,
             110,
             112.5,
             115,
             112.5,
             112.5,
             120,
             125,
             125,
             125,
             125,
             125,
             125,
             135,
             125,
             125,
             125,
             130,
             130,
             130,
             130,
             130,
             130,
             135,
             135,
             135,
             135,
             135,
             160,
             165,
             165,
             165,
             175,
             175,
             175,
             175,
             175,
             150,
             175,
             175,
             180,
             190,
             190,
             190,
             210,
             210,
             225,
             225,
             225,
             225,
             190,
             225,
             225,
             225,
             225,
             175,
             225,
             225,
             225,
             190,
             175,
             175,
             190,
             225,
             210,
             210,
             210,
             190,
             190,
             190,
             190,
             190,
             325,
             375,
             375,
             375,
             275,
             325,
             275,
             275,
             325,
             190,
             210,
             275,
             275,
             225,
             225,
             190,
             190,
             210,
             190,
             190,
             190,
             190,
             190,
             190,
             375,
             375,
             375,
             375,
             325,
             325
            ],
            "sizemode": "area",
            "sizeref": 0.19,
            "symbol": "circle"
           },
           "mode": "markers",
           "name": "Asparagus",
           "orientation": "v",
           "showlegend": true,
           "type": "scatter",
           "x": [
            2013,
            2013,
            2013,
            2013,
            2013,
            2013,
            2013,
            2013,
            2013,
            2013,
            2013,
            2013,
            2013,
            2013,
            2013,
            2013,
            2013,
            2013,
            2013,
            2013,
            2013,
            2013,
            2013,
            2013,
            2013,
            2013,
            2013,
            2013,
            2013,
            2013,
            2013,
            2013,
            2013,
            2013,
            2013,
            2013,
            2013,
            2013,
            2013,
            2013,
            2013,
            2013,
            2013,
            2013,
            2013,
            2013,
            2013,
            2013,
            2013,
            2013,
            2013,
            2013,
            2013,
            2013,
            2013,
            2013,
            2013,
            2013,
            2013,
            2013,
            2013,
            2013,
            2013,
            2013,
            2013,
            2013,
            2013,
            2013,
            2013,
            2013,
            2013,
            2013,
            2013,
            2013,
            2013,
            2013,
            2013,
            2013,
            2013,
            2013,
            2013,
            2013,
            2013,
            2013,
            2013,
            2013,
            2013,
            2013,
            2013,
            2013,
            2013,
            2013,
            2013,
            2013,
            2013,
            2013,
            2013,
            2013,
            2013,
            2013,
            2013,
            2013,
            2013,
            2013,
            2013,
            2013
           ],
           "xaxis": "x",
           "y": [
            125,
            125,
            110,
            112.5,
            110,
            110,
            112.5,
            115,
            112.5,
            112.5,
            120,
            125,
            125,
            125,
            125,
            125,
            125,
            135,
            125,
            125,
            125,
            130,
            130,
            130,
            130,
            130,
            130,
            135,
            135,
            135,
            135,
            135,
            160,
            165,
            165,
            165,
            175,
            175,
            175,
            175,
            175,
            150,
            175,
            175,
            180,
            190,
            190,
            190,
            210,
            210,
            225,
            225,
            225,
            225,
            190,
            225,
            225,
            225,
            225,
            175,
            225,
            225,
            225,
            190,
            175,
            175,
            190,
            225,
            210,
            210,
            210,
            190,
            190,
            190,
            190,
            190,
            325,
            375,
            375,
            375,
            275,
            325,
            275,
            275,
            325,
            190,
            210,
            275,
            275,
            225,
            225,
            190,
            190,
            210,
            190,
            190,
            190,
            190,
            190,
            190,
            375,
            375,
            375,
            375,
            325,
            325
           ],
           "yaxis": "y"
          }
         ],
         "name": "2013"
        },
        {
         "data": [
          {
           "hovertemplate": "<b>%{hovertext}</b><br><br>Commodity=Asparagus<br>date_year=%{x}<br>Average=%{marker.size}<extra></extra>",
           "hovertext": [
            "Asparagus",
            "Asparagus",
            "Asparagus",
            "Asparagus",
            "Asparagus",
            "Asparagus",
            "Asparagus",
            "Asparagus",
            "Asparagus",
            "Asparagus",
            "Asparagus",
            "Asparagus",
            "Asparagus",
            "Asparagus",
            "Asparagus",
            "Asparagus",
            "Asparagus",
            "Asparagus",
            "Asparagus",
            "Asparagus",
            "Asparagus",
            "Asparagus",
            "Asparagus",
            "Asparagus",
            "Asparagus",
            "Asparagus",
            "Asparagus",
            "Asparagus",
            "Asparagus",
            "Asparagus",
            "Asparagus",
            "Asparagus",
            "Asparagus",
            "Asparagus",
            "Asparagus",
            "Asparagus",
            "Asparagus",
            "Asparagus",
            "Asparagus",
            "Asparagus",
            "Asparagus",
            "Asparagus",
            "Asparagus",
            "Asparagus",
            "Asparagus",
            "Asparagus",
            "Asparagus",
            "Asparagus",
            "Asparagus",
            "Asparagus",
            "Asparagus",
            "Asparagus",
            "Asparagus",
            "Asparagus",
            "Asparagus",
            "Asparagus",
            "Asparagus",
            "Asparagus",
            "Asparagus",
            "Asparagus",
            "Asparagus",
            "Asparagus",
            "Asparagus",
            "Asparagus",
            "Asparagus",
            "Asparagus",
            "Asparagus",
            "Asparagus",
            "Asparagus",
            "Asparagus",
            "Asparagus",
            "Asparagus",
            "Asparagus",
            "Asparagus",
            "Asparagus",
            "Asparagus",
            "Asparagus",
            "Asparagus",
            "Asparagus",
            "Asparagus",
            "Asparagus",
            "Asparagus",
            "Asparagus",
            "Asparagus",
            "Asparagus",
            "Asparagus",
            "Asparagus",
            "Asparagus",
            "Asparagus",
            "Asparagus",
            "Asparagus",
            "Asparagus",
            "Asparagus",
            "Asparagus",
            "Asparagus",
            "Asparagus",
            "Asparagus",
            "Asparagus",
            "Asparagus",
            "Asparagus",
            "Asparagus",
            "Asparagus",
            "Asparagus",
            "Asparagus",
            "Asparagus",
            "Asparagus",
            "Asparagus",
            "Asparagus",
            "Asparagus",
            "Asparagus",
            "Asparagus",
            "Asparagus",
            "Asparagus",
            "Asparagus",
            "Asparagus",
            "Asparagus",
            "Asparagus",
            "Asparagus",
            "Asparagus",
            "Asparagus",
            "Asparagus",
            "Asparagus",
            "Asparagus",
            "Asparagus",
            "Asparagus",
            "Asparagus",
            "Asparagus",
            "Asparagus",
            "Asparagus",
            "Asparagus",
            "Asparagus",
            "Asparagus",
            "Asparagus",
            "Asparagus",
            "Asparagus",
            "Asparagus",
            "Asparagus",
            "Asparagus",
            "Asparagus",
            "Asparagus",
            "Asparagus",
            "Asparagus",
            "Asparagus",
            "Asparagus",
            "Asparagus",
            "Asparagus",
            "Asparagus",
            "Asparagus",
            "Asparagus",
            "Asparagus",
            "Asparagus",
            "Asparagus",
            "Asparagus",
            "Asparagus",
            "Asparagus",
            "Asparagus",
            "Asparagus",
            "Asparagus",
            "Asparagus",
            "Asparagus",
            "Asparagus",
            "Asparagus",
            "Asparagus",
            "Asparagus",
            "Asparagus",
            "Asparagus",
            "Asparagus",
            "Asparagus",
            "Asparagus",
            "Asparagus",
            "Asparagus",
            "Asparagus",
            "Asparagus",
            "Asparagus",
            "Asparagus",
            "Asparagus",
            "Asparagus",
            "Asparagus",
            "Asparagus",
            "Asparagus",
            "Asparagus",
            "Asparagus",
            "Asparagus",
            "Asparagus",
            "Asparagus",
            "Asparagus",
            "Asparagus",
            "Asparagus",
            "Asparagus"
           ],
           "ids": [
            "Asparagus",
            "Asparagus",
            "Asparagus",
            "Asparagus",
            "Asparagus",
            "Asparagus",
            "Asparagus",
            "Asparagus",
            "Asparagus",
            "Asparagus",
            "Asparagus",
            "Asparagus",
            "Asparagus",
            "Asparagus",
            "Asparagus",
            "Asparagus",
            "Asparagus",
            "Asparagus",
            "Asparagus",
            "Asparagus",
            "Asparagus",
            "Asparagus",
            "Asparagus",
            "Asparagus",
            "Asparagus",
            "Asparagus",
            "Asparagus",
            "Asparagus",
            "Asparagus",
            "Asparagus",
            "Asparagus",
            "Asparagus",
            "Asparagus",
            "Asparagus",
            "Asparagus",
            "Asparagus",
            "Asparagus",
            "Asparagus",
            "Asparagus",
            "Asparagus",
            "Asparagus",
            "Asparagus",
            "Asparagus",
            "Asparagus",
            "Asparagus",
            "Asparagus",
            "Asparagus",
            "Asparagus",
            "Asparagus",
            "Asparagus",
            "Asparagus",
            "Asparagus",
            "Asparagus",
            "Asparagus",
            "Asparagus",
            "Asparagus",
            "Asparagus",
            "Asparagus",
            "Asparagus",
            "Asparagus",
            "Asparagus",
            "Asparagus",
            "Asparagus",
            "Asparagus",
            "Asparagus",
            "Asparagus",
            "Asparagus",
            "Asparagus",
            "Asparagus",
            "Asparagus",
            "Asparagus",
            "Asparagus",
            "Asparagus",
            "Asparagus",
            "Asparagus",
            "Asparagus",
            "Asparagus",
            "Asparagus",
            "Asparagus",
            "Asparagus",
            "Asparagus",
            "Asparagus",
            "Asparagus",
            "Asparagus",
            "Asparagus",
            "Asparagus",
            "Asparagus",
            "Asparagus",
            "Asparagus",
            "Asparagus",
            "Asparagus",
            "Asparagus",
            "Asparagus",
            "Asparagus",
            "Asparagus",
            "Asparagus",
            "Asparagus",
            "Asparagus",
            "Asparagus",
            "Asparagus",
            "Asparagus",
            "Asparagus",
            "Asparagus",
            "Asparagus",
            "Asparagus",
            "Asparagus",
            "Asparagus",
            "Asparagus",
            "Asparagus",
            "Asparagus",
            "Asparagus",
            "Asparagus",
            "Asparagus",
            "Asparagus",
            "Asparagus",
            "Asparagus",
            "Asparagus",
            "Asparagus",
            "Asparagus",
            "Asparagus",
            "Asparagus",
            "Asparagus",
            "Asparagus",
            "Asparagus",
            "Asparagus",
            "Asparagus",
            "Asparagus",
            "Asparagus",
            "Asparagus",
            "Asparagus",
            "Asparagus",
            "Asparagus",
            "Asparagus",
            "Asparagus",
            "Asparagus",
            "Asparagus",
            "Asparagus",
            "Asparagus",
            "Asparagus",
            "Asparagus",
            "Asparagus",
            "Asparagus",
            "Asparagus",
            "Asparagus",
            "Asparagus",
            "Asparagus",
            "Asparagus",
            "Asparagus",
            "Asparagus",
            "Asparagus",
            "Asparagus",
            "Asparagus",
            "Asparagus",
            "Asparagus",
            "Asparagus",
            "Asparagus",
            "Asparagus",
            "Asparagus",
            "Asparagus",
            "Asparagus",
            "Asparagus",
            "Asparagus",
            "Asparagus",
            "Asparagus",
            "Asparagus",
            "Asparagus",
            "Asparagus",
            "Asparagus",
            "Asparagus",
            "Asparagus",
            "Asparagus",
            "Asparagus",
            "Asparagus",
            "Asparagus",
            "Asparagus",
            "Asparagus",
            "Asparagus",
            "Asparagus",
            "Asparagus",
            "Asparagus",
            "Asparagus",
            "Asparagus",
            "Asparagus",
            "Asparagus",
            "Asparagus",
            "Asparagus",
            "Asparagus",
            "Asparagus",
            "Asparagus"
           ],
           "legendgroup": "Asparagus",
           "marker": {
            "color": "#636efa",
            "size": [
             650,
             575,
             475,
             525,
             375,
             325,
             337.5,
             325,
             325,
             325,
             275,
             425,
             325,
             350,
             375,
             375,
             312.5,
             275,
             275,
             275,
             275,
             255,
             212.5,
             275,
             210,
             225,
             225,
             190,
             210,
             225,
             225,
             225,
             210,
             225,
             225,
             220,
             225,
             210,
             225,
             190,
             190,
             210,
             190,
             190,
             190,
             190,
             195,
             225,
             225,
             180,
             165,
             165,
             190,
             195,
             195,
             190,
             195,
             190,
             165,
             175,
             190,
             190,
             190,
             190,
             190,
             165,
             160,
             165,
             175,
             165,
             165,
             160,
             160,
             160,
             160,
             135,
             175,
             165,
             125,
             125,
             125,
             110,
             160,
             160,
             155,
             160,
             175,
             160,
             110,
             105,
             130,
             135,
             135,
             160,
             135,
             135,
             145,
             135,
             135,
             135,
             130,
             135,
             135,
             160,
             145,
             135,
             145,
             145,
             135,
             135,
             145,
             155,
             190,
             160,
             155,
             190,
             195,
             190,
             190,
             190,
             190,
             275,
             210,
             225,
             195,
             190,
             210,
             225,
             65,
             225,
             225,
             255,
             275,
             275,
             275,
             275,
             275,
             225,
             275,
             275,
             290,
             225,
             290,
             290,
             290,
             290,
             310,
             325,
             320,
             325,
             290,
             290,
             290,
             375,
             390,
             365,
             390,
             390,
             410,
             405,
             410,
             425,
             425,
             425,
             425,
             410,
             375,
             375,
             290,
             290,
             290,
             290,
             290,
             290,
             290,
             290,
             290,
             290,
             290,
             225,
             225,
             235,
             232.5,
             225,
             550,
             550,
             575,
             575,
             575
            ],
            "sizemode": "area",
            "sizeref": 0.19,
            "symbol": "circle"
           },
           "mode": "markers",
           "name": "Asparagus",
           "orientation": "v",
           "showlegend": true,
           "type": "scatter",
           "x": [
            2014,
            2014,
            2014,
            2014,
            2014,
            2014,
            2014,
            2014,
            2014,
            2014,
            2014,
            2014,
            2014,
            2014,
            2014,
            2014,
            2014,
            2014,
            2014,
            2014,
            2014,
            2014,
            2014,
            2014,
            2014,
            2014,
            2014,
            2014,
            2014,
            2014,
            2014,
            2014,
            2014,
            2014,
            2014,
            2014,
            2014,
            2014,
            2014,
            2014,
            2014,
            2014,
            2014,
            2014,
            2014,
            2014,
            2014,
            2014,
            2014,
            2014,
            2014,
            2014,
            2014,
            2014,
            2014,
            2014,
            2014,
            2014,
            2014,
            2014,
            2014,
            2014,
            2014,
            2014,
            2014,
            2014,
            2014,
            2014,
            2014,
            2014,
            2014,
            2014,
            2014,
            2014,
            2014,
            2014,
            2014,
            2014,
            2014,
            2014,
            2014,
            2014,
            2014,
            2014,
            2014,
            2014,
            2014,
            2014,
            2014,
            2014,
            2014,
            2014,
            2014,
            2014,
            2014,
            2014,
            2014,
            2014,
            2014,
            2014,
            2014,
            2014,
            2014,
            2014,
            2014,
            2014,
            2014,
            2014,
            2014,
            2014,
            2014,
            2014,
            2014,
            2014,
            2014,
            2014,
            2014,
            2014,
            2014,
            2014,
            2014,
            2014,
            2014,
            2014,
            2014,
            2014,
            2014,
            2014,
            2014,
            2014,
            2014,
            2014,
            2014,
            2014,
            2014,
            2014,
            2014,
            2014,
            2014,
            2014,
            2014,
            2014,
            2014,
            2014,
            2014,
            2014,
            2014,
            2014,
            2014,
            2014,
            2014,
            2014,
            2014,
            2014,
            2014,
            2014,
            2014,
            2014,
            2014,
            2014,
            2014,
            2014,
            2014,
            2014,
            2014,
            2014,
            2014,
            2014,
            2014,
            2014,
            2014,
            2014,
            2014,
            2014,
            2014,
            2014,
            2014,
            2014,
            2014,
            2014,
            2014,
            2014,
            2014,
            2014,
            2014,
            2014,
            2014,
            2014,
            2014
           ],
           "xaxis": "x",
           "y": [
            650,
            575,
            475,
            525,
            375,
            325,
            337.5,
            325,
            325,
            325,
            275,
            425,
            325,
            350,
            375,
            375,
            312.5,
            275,
            275,
            275,
            275,
            255,
            212.5,
            275,
            210,
            225,
            225,
            190,
            210,
            225,
            225,
            225,
            210,
            225,
            225,
            220,
            225,
            210,
            225,
            190,
            190,
            210,
            190,
            190,
            190,
            190,
            195,
            225,
            225,
            180,
            165,
            165,
            190,
            195,
            195,
            190,
            195,
            190,
            165,
            175,
            190,
            190,
            190,
            190,
            190,
            165,
            160,
            165,
            175,
            165,
            165,
            160,
            160,
            160,
            160,
            135,
            175,
            165,
            125,
            125,
            125,
            110,
            160,
            160,
            155,
            160,
            175,
            160,
            110,
            105,
            130,
            135,
            135,
            160,
            135,
            135,
            145,
            135,
            135,
            135,
            130,
            135,
            135,
            160,
            145,
            135,
            145,
            145,
            135,
            135,
            145,
            155,
            190,
            160,
            155,
            190,
            195,
            190,
            190,
            190,
            190,
            275,
            210,
            225,
            195,
            190,
            210,
            225,
            65,
            225,
            225,
            255,
            275,
            275,
            275,
            275,
            275,
            225,
            275,
            275,
            290,
            225,
            290,
            290,
            290,
            290,
            310,
            325,
            320,
            325,
            290,
            290,
            290,
            375,
            390,
            365,
            390,
            390,
            410,
            405,
            410,
            425,
            425,
            425,
            425,
            410,
            375,
            375,
            290,
            290,
            290,
            290,
            290,
            290,
            290,
            290,
            290,
            290,
            290,
            225,
            225,
            235,
            232.5,
            225,
            550,
            550,
            575,
            575,
            575
           ],
           "yaxis": "y"
          }
         ],
         "name": "2014"
        },
        {
         "data": [
          {
           "hovertemplate": "<b>%{hovertext}</b><br><br>Commodity=Asparagus<br>date_year=%{x}<br>Average=%{marker.size}<extra></extra>",
           "hovertext": [
            "Asparagus",
            "Asparagus",
            "Asparagus",
            "Asparagus",
            "Asparagus",
            "Asparagus",
            "Asparagus",
            "Asparagus",
            "Asparagus",
            "Asparagus",
            "Asparagus",
            "Asparagus",
            "Asparagus",
            "Asparagus",
            "Asparagus",
            "Asparagus",
            "Asparagus",
            "Asparagus",
            "Asparagus",
            "Asparagus",
            "Asparagus",
            "Asparagus",
            "Asparagus",
            "Asparagus",
            "Asparagus",
            "Asparagus",
            "Asparagus",
            "Asparagus",
            "Asparagus",
            "Asparagus",
            "Asparagus",
            "Asparagus",
            "Asparagus",
            "Asparagus",
            "Asparagus",
            "Asparagus",
            "Asparagus",
            "Asparagus",
            "Asparagus",
            "Asparagus",
            "Asparagus",
            "Asparagus",
            "Asparagus",
            "Asparagus",
            "Asparagus",
            "Asparagus",
            "Asparagus",
            "Asparagus",
            "Asparagus",
            "Asparagus",
            "Asparagus",
            "Asparagus",
            "Asparagus",
            "Asparagus",
            "Asparagus",
            "Asparagus",
            "Asparagus",
            "Asparagus",
            "Asparagus",
            "Asparagus",
            "Asparagus",
            "Asparagus",
            "Asparagus",
            "Asparagus",
            "Asparagus",
            "Asparagus",
            "Asparagus",
            "Asparagus",
            "Asparagus",
            "Asparagus",
            "Asparagus",
            "Asparagus",
            "Asparagus",
            "Asparagus",
            "Asparagus",
            "Asparagus",
            "Asparagus",
            "Asparagus",
            "Asparagus",
            "Asparagus",
            "Asparagus",
            "Asparagus",
            "Asparagus",
            "Asparagus",
            "Asparagus",
            "Asparagus",
            "Asparagus",
            "Asparagus",
            "Asparagus",
            "Asparagus",
            "Asparagus",
            "Asparagus",
            "Asparagus",
            "Asparagus",
            "Asparagus",
            "Asparagus",
            "Asparagus",
            "Asparagus",
            "Asparagus",
            "Asparagus",
            "Asparagus",
            "Asparagus",
            "Asparagus",
            "Asparagus",
            "Asparagus",
            "Asparagus",
            "Asparagus",
            "Asparagus",
            "Asparagus",
            "Asparagus",
            "Asparagus",
            "Asparagus",
            "Asparagus",
            "Asparagus",
            "Asparagus",
            "Asparagus",
            "Asparagus",
            "Asparagus",
            "Asparagus",
            "Asparagus",
            "Asparagus",
            "Asparagus",
            "Asparagus",
            "Asparagus",
            "Asparagus",
            "Asparagus",
            "Asparagus",
            "Asparagus",
            "Asparagus",
            "Asparagus",
            "Asparagus",
            "Asparagus",
            "Asparagus",
            "Asparagus",
            "Asparagus",
            "Asparagus",
            "Asparagus",
            "Asparagus",
            "Asparagus",
            "Asparagus",
            "Asparagus",
            "Asparagus",
            "Asparagus",
            "Asparagus",
            "Asparagus",
            "Asparagus",
            "Asparagus",
            "Asparagus",
            "Asparagus",
            "Asparagus",
            "Asparagus",
            "Asparagus",
            "Asparagus",
            "Asparagus",
            "Asparagus",
            "Asparagus",
            "Asparagus",
            "Asparagus",
            "Asparagus",
            "Asparagus",
            "Asparagus",
            "Asparagus",
            "Asparagus",
            "Asparagus",
            "Asparagus",
            "Asparagus",
            "Asparagus",
            "Asparagus",
            "Asparagus",
            "Asparagus",
            "Asparagus",
            "Asparagus",
            "Asparagus",
            "Asparagus",
            "Asparagus",
            "Asparagus",
            "Asparagus",
            "Asparagus",
            "Asparagus",
            "Asparagus",
            "Asparagus",
            "Asparagus",
            "Asparagus",
            "Asparagus",
            "Asparagus",
            "Asparagus",
            "Asparagus",
            "Asparagus",
            "Asparagus",
            "Asparagus",
            "Asparagus",
            "Asparagus",
            "Asparagus",
            "Asparagus",
            "Asparagus",
            "Asparagus",
            "Asparagus",
            "Asparagus",
            "Asparagus"
           ],
           "ids": [
            "Asparagus",
            "Asparagus",
            "Asparagus",
            "Asparagus",
            "Asparagus",
            "Asparagus",
            "Asparagus",
            "Asparagus",
            "Asparagus",
            "Asparagus",
            "Asparagus",
            "Asparagus",
            "Asparagus",
            "Asparagus",
            "Asparagus",
            "Asparagus",
            "Asparagus",
            "Asparagus",
            "Asparagus",
            "Asparagus",
            "Asparagus",
            "Asparagus",
            "Asparagus",
            "Asparagus",
            "Asparagus",
            "Asparagus",
            "Asparagus",
            "Asparagus",
            "Asparagus",
            "Asparagus",
            "Asparagus",
            "Asparagus",
            "Asparagus",
            "Asparagus",
            "Asparagus",
            "Asparagus",
            "Asparagus",
            "Asparagus",
            "Asparagus",
            "Asparagus",
            "Asparagus",
            "Asparagus",
            "Asparagus",
            "Asparagus",
            "Asparagus",
            "Asparagus",
            "Asparagus",
            "Asparagus",
            "Asparagus",
            "Asparagus",
            "Asparagus",
            "Asparagus",
            "Asparagus",
            "Asparagus",
            "Asparagus",
            "Asparagus",
            "Asparagus",
            "Asparagus",
            "Asparagus",
            "Asparagus",
            "Asparagus",
            "Asparagus",
            "Asparagus",
            "Asparagus",
            "Asparagus",
            "Asparagus",
            "Asparagus",
            "Asparagus",
            "Asparagus",
            "Asparagus",
            "Asparagus",
            "Asparagus",
            "Asparagus",
            "Asparagus",
            "Asparagus",
            "Asparagus",
            "Asparagus",
            "Asparagus",
            "Asparagus",
            "Asparagus",
            "Asparagus",
            "Asparagus",
            "Asparagus",
            "Asparagus",
            "Asparagus",
            "Asparagus",
            "Asparagus",
            "Asparagus",
            "Asparagus",
            "Asparagus",
            "Asparagus",
            "Asparagus",
            "Asparagus",
            "Asparagus",
            "Asparagus",
            "Asparagus",
            "Asparagus",
            "Asparagus",
            "Asparagus",
            "Asparagus",
            "Asparagus",
            "Asparagus",
            "Asparagus",
            "Asparagus",
            "Asparagus",
            "Asparagus",
            "Asparagus",
            "Asparagus",
            "Asparagus",
            "Asparagus",
            "Asparagus",
            "Asparagus",
            "Asparagus",
            "Asparagus",
            "Asparagus",
            "Asparagus",
            "Asparagus",
            "Asparagus",
            "Asparagus",
            "Asparagus",
            "Asparagus",
            "Asparagus",
            "Asparagus",
            "Asparagus",
            "Asparagus",
            "Asparagus",
            "Asparagus",
            "Asparagus",
            "Asparagus",
            "Asparagus",
            "Asparagus",
            "Asparagus",
            "Asparagus",
            "Asparagus",
            "Asparagus",
            "Asparagus",
            "Asparagus",
            "Asparagus",
            "Asparagus",
            "Asparagus",
            "Asparagus",
            "Asparagus",
            "Asparagus",
            "Asparagus",
            "Asparagus",
            "Asparagus",
            "Asparagus",
            "Asparagus",
            "Asparagus",
            "Asparagus",
            "Asparagus",
            "Asparagus",
            "Asparagus",
            "Asparagus",
            "Asparagus",
            "Asparagus",
            "Asparagus",
            "Asparagus",
            "Asparagus",
            "Asparagus",
            "Asparagus",
            "Asparagus",
            "Asparagus",
            "Asparagus",
            "Asparagus",
            "Asparagus",
            "Asparagus",
            "Asparagus",
            "Asparagus",
            "Asparagus",
            "Asparagus",
            "Asparagus",
            "Asparagus",
            "Asparagus",
            "Asparagus",
            "Asparagus",
            "Asparagus",
            "Asparagus",
            "Asparagus",
            "Asparagus",
            "Asparagus",
            "Asparagus",
            "Asparagus",
            "Asparagus",
            "Asparagus",
            "Asparagus",
            "Asparagus",
            "Asparagus",
            "Asparagus",
            "Asparagus",
            "Asparagus",
            "Asparagus",
            "Asparagus",
            "Asparagus",
            "Asparagus",
            "Asparagus",
            "Asparagus",
            "Asparagus",
            "Asparagus"
           ],
           "legendgroup": "Asparagus",
           "marker": {
            "color": "#636efa",
            "size": [
             650,
             525,
             550,
             550,
             550,
             550,
             525,
             550,
             390,
             390,
             390,
             375,
             475,
             475,
             475,
             475,
             475,
             350,
             350,
             475,
             475,
             475,
             375,
             375,
             375,
             375,
             330,
             325,
             330,
             325,
             325,
             310,
             355,
             355,
             355,
             355,
             355,
             325,
             325,
             315,
             325,
             315,
             315,
             255,
             255,
             255,
             265,
             275,
             275,
             255,
             235,
             235,
             225,
             225,
             225,
             225,
             225,
             235,
             235,
             235,
             235,
             235,
             252.5,
             255,
             255,
             255,
             255,
             245,
             245,
             255,
             255,
             255,
             255,
             205,
             205,
             235,
             235,
             235,
             235,
             265,
             245,
             245,
             250,
             245,
             235,
             245,
             235,
             235,
             225,
             225,
             225,
             222.5,
             225,
             205,
             215,
             225,
             225,
             252.5,
             245,
             245,
             200,
             215,
             215,
             205,
             205,
             205,
             235,
             200,
             235,
             255,
             252.5,
             245,
             235,
             235,
             225,
             235,
             235,
             245,
             235,
             235,
             235,
             195,
             235,
             235,
             235,
             235,
             235,
             235,
             240,
             235,
             235,
             235,
             255,
             245,
             235,
             230,
             235,
             235,
             235,
             235,
             192.5,
             245,
             225,
             235,
             235,
             235,
             235,
             235,
             235,
             235,
             235,
             235,
             255,
             235,
             235,
             245,
             220,
             255,
             245,
             255,
             245,
             305,
             305,
             305,
             305,
             305,
             305,
             305,
             305,
             305,
             295,
             305,
             305,
             305,
             305,
             305,
             290,
             305,
             305,
             345,
             355,
             355,
             345,
             375,
             355,
             355,
             355,
             355,
             345,
             355,
             355,
             355,
             355,
             355,
             355,
             355,
             355,
             355,
             265
            ],
            "sizemode": "area",
            "sizeref": 0.19,
            "symbol": "circle"
           },
           "mode": "markers",
           "name": "Asparagus",
           "orientation": "v",
           "showlegend": true,
           "type": "scatter",
           "x": [
            2015,
            2015,
            2015,
            2015,
            2015,
            2015,
            2015,
            2015,
            2015,
            2015,
            2015,
            2015,
            2015,
            2015,
            2015,
            2015,
            2015,
            2015,
            2015,
            2015,
            2015,
            2015,
            2015,
            2015,
            2015,
            2015,
            2015,
            2015,
            2015,
            2015,
            2015,
            2015,
            2015,
            2015,
            2015,
            2015,
            2015,
            2015,
            2015,
            2015,
            2015,
            2015,
            2015,
            2015,
            2015,
            2015,
            2015,
            2015,
            2015,
            2015,
            2015,
            2015,
            2015,
            2015,
            2015,
            2015,
            2015,
            2015,
            2015,
            2015,
            2015,
            2015,
            2015,
            2015,
            2015,
            2015,
            2015,
            2015,
            2015,
            2015,
            2015,
            2015,
            2015,
            2015,
            2015,
            2015,
            2015,
            2015,
            2015,
            2015,
            2015,
            2015,
            2015,
            2015,
            2015,
            2015,
            2015,
            2015,
            2015,
            2015,
            2015,
            2015,
            2015,
            2015,
            2015,
            2015,
            2015,
            2015,
            2015,
            2015,
            2015,
            2015,
            2015,
            2015,
            2015,
            2015,
            2015,
            2015,
            2015,
            2015,
            2015,
            2015,
            2015,
            2015,
            2015,
            2015,
            2015,
            2015,
            2015,
            2015,
            2015,
            2015,
            2015,
            2015,
            2015,
            2015,
            2015,
            2015,
            2015,
            2015,
            2015,
            2015,
            2015,
            2015,
            2015,
            2015,
            2015,
            2015,
            2015,
            2015,
            2015,
            2015,
            2015,
            2015,
            2015,
            2015,
            2015,
            2015,
            2015,
            2015,
            2015,
            2015,
            2015,
            2015,
            2015,
            2015,
            2015,
            2015,
            2015,
            2015,
            2015,
            2015,
            2015,
            2015,
            2015,
            2015,
            2015,
            2015,
            2015,
            2015,
            2015,
            2015,
            2015,
            2015,
            2015,
            2015,
            2015,
            2015,
            2015,
            2015,
            2015,
            2015,
            2015,
            2015,
            2015,
            2015,
            2015,
            2015,
            2015,
            2015,
            2015,
            2015,
            2015,
            2015,
            2015,
            2015,
            2015,
            2015,
            2015
           ],
           "xaxis": "x",
           "y": [
            650,
            525,
            550,
            550,
            550,
            550,
            525,
            550,
            390,
            390,
            390,
            375,
            475,
            475,
            475,
            475,
            475,
            350,
            350,
            475,
            475,
            475,
            375,
            375,
            375,
            375,
            330,
            325,
            330,
            325,
            325,
            310,
            355,
            355,
            355,
            355,
            355,
            325,
            325,
            315,
            325,
            315,
            315,
            255,
            255,
            255,
            265,
            275,
            275,
            255,
            235,
            235,
            225,
            225,
            225,
            225,
            225,
            235,
            235,
            235,
            235,
            235,
            252.5,
            255,
            255,
            255,
            255,
            245,
            245,
            255,
            255,
            255,
            255,
            205,
            205,
            235,
            235,
            235,
            235,
            265,
            245,
            245,
            250,
            245,
            235,
            245,
            235,
            235,
            225,
            225,
            225,
            222.5,
            225,
            205,
            215,
            225,
            225,
            252.5,
            245,
            245,
            200,
            215,
            215,
            205,
            205,
            205,
            235,
            200,
            235,
            255,
            252.5,
            245,
            235,
            235,
            225,
            235,
            235,
            245,
            235,
            235,
            235,
            195,
            235,
            235,
            235,
            235,
            235,
            235,
            240,
            235,
            235,
            235,
            255,
            245,
            235,
            230,
            235,
            235,
            235,
            235,
            192.5,
            245,
            225,
            235,
            235,
            235,
            235,
            235,
            235,
            235,
            235,
            235,
            255,
            235,
            235,
            245,
            220,
            255,
            245,
            255,
            245,
            305,
            305,
            305,
            305,
            305,
            305,
            305,
            305,
            305,
            295,
            305,
            305,
            305,
            305,
            305,
            290,
            305,
            305,
            345,
            355,
            355,
            345,
            375,
            355,
            355,
            355,
            355,
            345,
            355,
            355,
            355,
            355,
            355,
            355,
            355,
            355,
            355,
            265
           ],
           "yaxis": "y"
          }
         ],
         "name": "2015"
        },
        {
         "data": [
          {
           "hovertemplate": "<b>%{hovertext}</b><br><br>Commodity=Asparagus<br>date_year=%{x}<br>Average=%{marker.size}<extra></extra>",
           "hovertext": [
            "Asparagus",
            "Asparagus",
            "Asparagus",
            "Asparagus",
            "Asparagus",
            "Asparagus",
            "Asparagus",
            "Asparagus",
            "Asparagus",
            "Asparagus",
            "Asparagus",
            "Asparagus",
            "Asparagus",
            "Asparagus",
            "Asparagus",
            "Asparagus",
            "Asparagus",
            "Asparagus",
            "Asparagus",
            "Asparagus",
            "Asparagus",
            "Asparagus",
            "Asparagus",
            "Asparagus",
            "Asparagus",
            "Asparagus",
            "Asparagus",
            "Asparagus",
            "Asparagus",
            "Asparagus",
            "Asparagus",
            "Asparagus",
            "Asparagus",
            "Asparagus",
            "Asparagus",
            "Asparagus",
            "Asparagus",
            "Asparagus",
            "Asparagus",
            "Asparagus",
            "Asparagus",
            "Asparagus",
            "Asparagus",
            "Asparagus",
            "Asparagus",
            "Asparagus",
            "Asparagus",
            "Asparagus",
            "Asparagus",
            "Asparagus",
            "Asparagus",
            "Asparagus",
            "Asparagus",
            "Asparagus",
            "Asparagus",
            "Asparagus",
            "Asparagus",
            "Asparagus",
            "Asparagus",
            "Asparagus",
            "Asparagus",
            "Asparagus",
            "Asparagus",
            "Asparagus",
            "Asparagus",
            "Asparagus",
            "Asparagus",
            "Asparagus",
            "Asparagus",
            "Asparagus",
            "Asparagus",
            "Asparagus",
            "Asparagus",
            "Asparagus",
            "Asparagus",
            "Asparagus",
            "Asparagus",
            "Asparagus",
            "Asparagus",
            "Asparagus",
            "Asparagus",
            "Asparagus",
            "Asparagus",
            "Asparagus",
            "Asparagus",
            "Asparagus",
            "Asparagus",
            "Asparagus",
            "Asparagus",
            "Asparagus",
            "Asparagus",
            "Asparagus",
            "Asparagus",
            "Asparagus",
            "Asparagus",
            "Asparagus",
            "Asparagus",
            "Asparagus",
            "Asparagus",
            "Asparagus",
            "Asparagus",
            "Asparagus",
            "Asparagus",
            "Asparagus",
            "Asparagus",
            "Asparagus",
            "Asparagus",
            "Asparagus",
            "Asparagus",
            "Asparagus",
            "Asparagus",
            "Asparagus",
            "Asparagus",
            "Asparagus",
            "Asparagus",
            "Asparagus",
            "Asparagus",
            "Asparagus",
            "Asparagus",
            "Asparagus",
            "Asparagus",
            "Asparagus",
            "Asparagus",
            "Asparagus",
            "Asparagus",
            "Asparagus",
            "Asparagus",
            "Asparagus",
            "Asparagus",
            "Asparagus",
            "Asparagus",
            "Asparagus",
            "Asparagus",
            "Asparagus",
            "Asparagus",
            "Asparagus",
            "Asparagus",
            "Asparagus",
            "Asparagus",
            "Asparagus",
            "Asparagus",
            "Asparagus",
            "Asparagus",
            "Asparagus",
            "Asparagus",
            "Asparagus",
            "Asparagus",
            "Asparagus",
            "Asparagus",
            "Asparagus",
            "Asparagus",
            "Asparagus",
            "Asparagus",
            "Asparagus",
            "Asparagus",
            "Asparagus",
            "Asparagus",
            "Asparagus",
            "Asparagus",
            "Asparagus",
            "Asparagus",
            "Asparagus",
            "Asparagus"
           ],
           "ids": [
            "Asparagus",
            "Asparagus",
            "Asparagus",
            "Asparagus",
            "Asparagus",
            "Asparagus",
            "Asparagus",
            "Asparagus",
            "Asparagus",
            "Asparagus",
            "Asparagus",
            "Asparagus",
            "Asparagus",
            "Asparagus",
            "Asparagus",
            "Asparagus",
            "Asparagus",
            "Asparagus",
            "Asparagus",
            "Asparagus",
            "Asparagus",
            "Asparagus",
            "Asparagus",
            "Asparagus",
            "Asparagus",
            "Asparagus",
            "Asparagus",
            "Asparagus",
            "Asparagus",
            "Asparagus",
            "Asparagus",
            "Asparagus",
            "Asparagus",
            "Asparagus",
            "Asparagus",
            "Asparagus",
            "Asparagus",
            "Asparagus",
            "Asparagus",
            "Asparagus",
            "Asparagus",
            "Asparagus",
            "Asparagus",
            "Asparagus",
            "Asparagus",
            "Asparagus",
            "Asparagus",
            "Asparagus",
            "Asparagus",
            "Asparagus",
            "Asparagus",
            "Asparagus",
            "Asparagus",
            "Asparagus",
            "Asparagus",
            "Asparagus",
            "Asparagus",
            "Asparagus",
            "Asparagus",
            "Asparagus",
            "Asparagus",
            "Asparagus",
            "Asparagus",
            "Asparagus",
            "Asparagus",
            "Asparagus",
            "Asparagus",
            "Asparagus",
            "Asparagus",
            "Asparagus",
            "Asparagus",
            "Asparagus",
            "Asparagus",
            "Asparagus",
            "Asparagus",
            "Asparagus",
            "Asparagus",
            "Asparagus",
            "Asparagus",
            "Asparagus",
            "Asparagus",
            "Asparagus",
            "Asparagus",
            "Asparagus",
            "Asparagus",
            "Asparagus",
            "Asparagus",
            "Asparagus",
            "Asparagus",
            "Asparagus",
            "Asparagus",
            "Asparagus",
            "Asparagus",
            "Asparagus",
            "Asparagus",
            "Asparagus",
            "Asparagus",
            "Asparagus",
            "Asparagus",
            "Asparagus",
            "Asparagus",
            "Asparagus",
            "Asparagus",
            "Asparagus",
            "Asparagus",
            "Asparagus",
            "Asparagus",
            "Asparagus",
            "Asparagus",
            "Asparagus",
            "Asparagus",
            "Asparagus",
            "Asparagus",
            "Asparagus",
            "Asparagus",
            "Asparagus",
            "Asparagus",
            "Asparagus",
            "Asparagus",
            "Asparagus",
            "Asparagus",
            "Asparagus",
            "Asparagus",
            "Asparagus",
            "Asparagus",
            "Asparagus",
            "Asparagus",
            "Asparagus",
            "Asparagus",
            "Asparagus",
            "Asparagus",
            "Asparagus",
            "Asparagus",
            "Asparagus",
            "Asparagus",
            "Asparagus",
            "Asparagus",
            "Asparagus",
            "Asparagus",
            "Asparagus",
            "Asparagus",
            "Asparagus",
            "Asparagus",
            "Asparagus",
            "Asparagus",
            "Asparagus",
            "Asparagus",
            "Asparagus",
            "Asparagus",
            "Asparagus",
            "Asparagus",
            "Asparagus",
            "Asparagus",
            "Asparagus",
            "Asparagus",
            "Asparagus",
            "Asparagus",
            "Asparagus",
            "Asparagus",
            "Asparagus",
            "Asparagus",
            "Asparagus",
            "Asparagus"
           ],
           "legendgroup": "Asparagus",
           "marker": {
            "color": "#636efa",
            "size": [
             425,
             425,
             425,
             425,
             425,
             425,
             425,
             425,
             425,
             425,
             425,
             425,
             425,
             425,
             425,
             425,
             425,
             425,
             425,
             425,
             425,
             425,
             425,
             425,
             425,
             425,
             425,
             425,
             375,
             325,
             325,
             325,
             325,
             325,
             325,
             325,
             325,
             325,
             325,
             325,
             325,
             325,
             325,
             325,
             325,
             325,
             275,
             275,
             275,
             275,
             275,
             275,
             275,
             275,
             275,
             275,
             225,
             225,
             225,
             225,
             225,
             225,
             225,
             225,
             225,
             225,
             225,
             225,
             225,
             225,
             225,
             225,
             225,
             225,
             225,
             225,
             225,
             205,
             225,
             225,
             225,
             225,
             275,
             225,
             225,
             225,
             225,
             225,
             225,
             225,
             225,
             225,
             225,
             225,
             225,
             225,
             225,
             225,
             225,
             225,
             225,
             225,
             225,
             225,
             275,
             275,
             325,
             275,
             275,
             275,
             275,
             275,
             255,
             275,
             275,
             275,
             275,
             275,
             275,
             275,
             275,
             275,
             325,
             275,
             275,
             325,
             375,
             375,
             375,
             375,
             375,
             375,
             375,
             375,
             375,
             345,
             375,
             375,
             375,
             375,
             375,
             375,
             375,
             375,
             375,
             375,
             375,
             375,
             375,
             375,
             375,
             375,
             375,
             375,
             375,
             375,
             375,
             375,
             375,
             375,
             375,
             375,
             375
            ],
            "sizemode": "area",
            "sizeref": 0.19,
            "symbol": "circle"
           },
           "mode": "markers",
           "name": "Asparagus",
           "orientation": "v",
           "showlegend": true,
           "type": "scatter",
           "x": [
            2016,
            2016,
            2016,
            2016,
            2016,
            2016,
            2016,
            2016,
            2016,
            2016,
            2016,
            2016,
            2016,
            2016,
            2016,
            2016,
            2016,
            2016,
            2016,
            2016,
            2016,
            2016,
            2016,
            2016,
            2016,
            2016,
            2016,
            2016,
            2016,
            2016,
            2016,
            2016,
            2016,
            2016,
            2016,
            2016,
            2016,
            2016,
            2016,
            2016,
            2016,
            2016,
            2016,
            2016,
            2016,
            2016,
            2016,
            2016,
            2016,
            2016,
            2016,
            2016,
            2016,
            2016,
            2016,
            2016,
            2016,
            2016,
            2016,
            2016,
            2016,
            2016,
            2016,
            2016,
            2016,
            2016,
            2016,
            2016,
            2016,
            2016,
            2016,
            2016,
            2016,
            2016,
            2016,
            2016,
            2016,
            2016,
            2016,
            2016,
            2016,
            2016,
            2016,
            2016,
            2016,
            2016,
            2016,
            2016,
            2016,
            2016,
            2016,
            2016,
            2016,
            2016,
            2016,
            2016,
            2016,
            2016,
            2016,
            2016,
            2016,
            2016,
            2016,
            2016,
            2016,
            2016,
            2016,
            2016,
            2016,
            2016,
            2016,
            2016,
            2016,
            2016,
            2016,
            2016,
            2016,
            2016,
            2016,
            2016,
            2016,
            2016,
            2016,
            2016,
            2016,
            2016,
            2016,
            2016,
            2016,
            2016,
            2016,
            2016,
            2016,
            2016,
            2016,
            2016,
            2016,
            2016,
            2016,
            2016,
            2016,
            2016,
            2016,
            2016,
            2016,
            2016,
            2016,
            2016,
            2016,
            2016,
            2016,
            2016,
            2016,
            2016,
            2016,
            2016,
            2016,
            2016,
            2016,
            2016,
            2016,
            2016,
            2016
           ],
           "xaxis": "x",
           "y": [
            425,
            425,
            425,
            425,
            425,
            425,
            425,
            425,
            425,
            425,
            425,
            425,
            425,
            425,
            425,
            425,
            425,
            425,
            425,
            425,
            425,
            425,
            425,
            425,
            425,
            425,
            425,
            425,
            375,
            325,
            325,
            325,
            325,
            325,
            325,
            325,
            325,
            325,
            325,
            325,
            325,
            325,
            325,
            325,
            325,
            325,
            275,
            275,
            275,
            275,
            275,
            275,
            275,
            275,
            275,
            275,
            225,
            225,
            225,
            225,
            225,
            225,
            225,
            225,
            225,
            225,
            225,
            225,
            225,
            225,
            225,
            225,
            225,
            225,
            225,
            225,
            225,
            205,
            225,
            225,
            225,
            225,
            275,
            225,
            225,
            225,
            225,
            225,
            225,
            225,
            225,
            225,
            225,
            225,
            225,
            225,
            225,
            225,
            225,
            225,
            225,
            225,
            225,
            225,
            275,
            275,
            325,
            275,
            275,
            275,
            275,
            275,
            255,
            275,
            275,
            275,
            275,
            275,
            275,
            275,
            275,
            275,
            325,
            275,
            275,
            325,
            375,
            375,
            375,
            375,
            375,
            375,
            375,
            375,
            375,
            345,
            375,
            375,
            375,
            375,
            375,
            375,
            375,
            375,
            375,
            375,
            375,
            375,
            375,
            375,
            375,
            375,
            375,
            375,
            375,
            375,
            375,
            375,
            375,
            375,
            375,
            375,
            375
           ],
           "yaxis": "y"
          }
         ],
         "name": "2016"
        },
        {
         "data": [
          {
           "hovertemplate": "<b>%{hovertext}</b><br><br>Commodity=Asparagus<br>date_year=%{x}<br>Average=%{marker.size}<extra></extra>",
           "hovertext": [
            "Asparagus",
            "Asparagus",
            "Asparagus",
            "Asparagus",
            "Asparagus",
            "Asparagus",
            "Asparagus",
            "Asparagus",
            "Asparagus",
            "Asparagus",
            "Asparagus",
            "Asparagus",
            "Asparagus",
            "Asparagus",
            "Asparagus",
            "Asparagus",
            "Asparagus",
            "Asparagus",
            "Asparagus",
            "Asparagus",
            "Asparagus",
            "Asparagus",
            "Asparagus",
            "Asparagus",
            "Asparagus",
            "Asparagus",
            "Asparagus",
            "Asparagus",
            "Asparagus",
            "Asparagus",
            "Asparagus",
            "Asparagus",
            "Asparagus",
            "Asparagus",
            "Asparagus",
            "Asparagus",
            "Asparagus",
            "Asparagus",
            "Asparagus",
            "Asparagus",
            "Asparagus",
            "Asparagus",
            "Asparagus",
            "Asparagus",
            "Asparagus",
            "Asparagus",
            "Asparagus",
            "Asparagus",
            "Asparagus",
            "Asparagus",
            "Asparagus",
            "Asparagus",
            "Asparagus",
            "Asparagus",
            "Asparagus",
            "Asparagus",
            "Asparagus",
            "Asparagus",
            "Asparagus",
            "Asparagus",
            "Asparagus",
            "Asparagus",
            "Asparagus",
            "Asparagus",
            "Asparagus",
            "Asparagus",
            "Asparagus",
            "Asparagus",
            "Asparagus",
            "Asparagus",
            "Asparagus",
            "Asparagus",
            "Asparagus",
            "Asparagus",
            "Asparagus",
            "Asparagus",
            "Asparagus",
            "Asparagus",
            "Asparagus",
            "Asparagus",
            "Asparagus",
            "Asparagus",
            "Asparagus",
            "Asparagus",
            "Asparagus",
            "Asparagus",
            "Asparagus",
            "Asparagus",
            "Asparagus",
            "Asparagus",
            "Asparagus",
            "Asparagus",
            "Asparagus",
            "Asparagus",
            "Asparagus",
            "Asparagus",
            "Asparagus",
            "Asparagus",
            "Asparagus",
            "Asparagus",
            "Asparagus",
            "Asparagus",
            "Asparagus",
            "Asparagus",
            "Asparagus",
            "Asparagus",
            "Asparagus",
            "Asparagus",
            "Asparagus",
            "Asparagus",
            "Asparagus",
            "Asparagus",
            "Asparagus",
            "Asparagus",
            "Asparagus",
            "Asparagus",
            "Asparagus",
            "Asparagus",
            "Asparagus",
            "Asparagus",
            "Asparagus",
            "Asparagus",
            "Asparagus",
            "Asparagus",
            "Asparagus",
            "Asparagus",
            "Asparagus",
            "Asparagus",
            "Asparagus",
            "Asparagus",
            "Asparagus",
            "Asparagus",
            "Asparagus",
            "Asparagus",
            "Asparagus",
            "Asparagus",
            "Asparagus",
            "Asparagus",
            "Asparagus",
            "Asparagus",
            "Asparagus",
            "Asparagus",
            "Asparagus",
            "Asparagus",
            "Asparagus",
            "Asparagus",
            "Asparagus",
            "Asparagus",
            "Asparagus",
            "Asparagus",
            "Asparagus",
            "Asparagus",
            "Asparagus",
            "Asparagus",
            "Asparagus",
            "Asparagus",
            "Asparagus",
            "Asparagus",
            "Asparagus",
            "Asparagus",
            "Asparagus",
            "Asparagus",
            "Asparagus",
            "Asparagus",
            "Asparagus",
            "Asparagus",
            "Asparagus",
            "Asparagus",
            "Asparagus",
            "Asparagus",
            "Asparagus",
            "Asparagus",
            "Asparagus",
            "Asparagus",
            "Asparagus",
            "Asparagus",
            "Asparagus",
            "Asparagus",
            "Asparagus",
            "Asparagus",
            "Asparagus",
            "Asparagus",
            "Asparagus",
            "Asparagus",
            "Asparagus",
            "Asparagus",
            "Asparagus",
            "Asparagus"
           ],
           "ids": [
            "Asparagus",
            "Asparagus",
            "Asparagus",
            "Asparagus",
            "Asparagus",
            "Asparagus",
            "Asparagus",
            "Asparagus",
            "Asparagus",
            "Asparagus",
            "Asparagus",
            "Asparagus",
            "Asparagus",
            "Asparagus",
            "Asparagus",
            "Asparagus",
            "Asparagus",
            "Asparagus",
            "Asparagus",
            "Asparagus",
            "Asparagus",
            "Asparagus",
            "Asparagus",
            "Asparagus",
            "Asparagus",
            "Asparagus",
            "Asparagus",
            "Asparagus",
            "Asparagus",
            "Asparagus",
            "Asparagus",
            "Asparagus",
            "Asparagus",
            "Asparagus",
            "Asparagus",
            "Asparagus",
            "Asparagus",
            "Asparagus",
            "Asparagus",
            "Asparagus",
            "Asparagus",
            "Asparagus",
            "Asparagus",
            "Asparagus",
            "Asparagus",
            "Asparagus",
            "Asparagus",
            "Asparagus",
            "Asparagus",
            "Asparagus",
            "Asparagus",
            "Asparagus",
            "Asparagus",
            "Asparagus",
            "Asparagus",
            "Asparagus",
            "Asparagus",
            "Asparagus",
            "Asparagus",
            "Asparagus",
            "Asparagus",
            "Asparagus",
            "Asparagus",
            "Asparagus",
            "Asparagus",
            "Asparagus",
            "Asparagus",
            "Asparagus",
            "Asparagus",
            "Asparagus",
            "Asparagus",
            "Asparagus",
            "Asparagus",
            "Asparagus",
            "Asparagus",
            "Asparagus",
            "Asparagus",
            "Asparagus",
            "Asparagus",
            "Asparagus",
            "Asparagus",
            "Asparagus",
            "Asparagus",
            "Asparagus",
            "Asparagus",
            "Asparagus",
            "Asparagus",
            "Asparagus",
            "Asparagus",
            "Asparagus",
            "Asparagus",
            "Asparagus",
            "Asparagus",
            "Asparagus",
            "Asparagus",
            "Asparagus",
            "Asparagus",
            "Asparagus",
            "Asparagus",
            "Asparagus",
            "Asparagus",
            "Asparagus",
            "Asparagus",
            "Asparagus",
            "Asparagus",
            "Asparagus",
            "Asparagus",
            "Asparagus",
            "Asparagus",
            "Asparagus",
            "Asparagus",
            "Asparagus",
            "Asparagus",
            "Asparagus",
            "Asparagus",
            "Asparagus",
            "Asparagus",
            "Asparagus",
            "Asparagus",
            "Asparagus",
            "Asparagus",
            "Asparagus",
            "Asparagus",
            "Asparagus",
            "Asparagus",
            "Asparagus",
            "Asparagus",
            "Asparagus",
            "Asparagus",
            "Asparagus",
            "Asparagus",
            "Asparagus",
            "Asparagus",
            "Asparagus",
            "Asparagus",
            "Asparagus",
            "Asparagus",
            "Asparagus",
            "Asparagus",
            "Asparagus",
            "Asparagus",
            "Asparagus",
            "Asparagus",
            "Asparagus",
            "Asparagus",
            "Asparagus",
            "Asparagus",
            "Asparagus",
            "Asparagus",
            "Asparagus",
            "Asparagus",
            "Asparagus",
            "Asparagus",
            "Asparagus",
            "Asparagus",
            "Asparagus",
            "Asparagus",
            "Asparagus",
            "Asparagus",
            "Asparagus",
            "Asparagus",
            "Asparagus",
            "Asparagus",
            "Asparagus",
            "Asparagus",
            "Asparagus",
            "Asparagus",
            "Asparagus",
            "Asparagus",
            "Asparagus",
            "Asparagus",
            "Asparagus",
            "Asparagus",
            "Asparagus",
            "Asparagus",
            "Asparagus",
            "Asparagus",
            "Asparagus",
            "Asparagus",
            "Asparagus",
            "Asparagus",
            "Asparagus",
            "Asparagus",
            "Asparagus",
            "Asparagus",
            "Asparagus",
            "Asparagus",
            "Asparagus"
           ],
           "legendgroup": "Asparagus",
           "marker": {
            "color": "#636efa",
            "size": [
             375,
             475,
             475,
             425,
             425,
             425,
             425,
             425,
             425,
             425,
             425,
             425,
             425,
             425,
             425,
             425,
             425,
             425,
             425,
             425,
             425,
             425,
             425,
             425,
             425,
             425,
             425,
             425,
             375,
             375,
             375,
             325,
             325,
             325,
             325,
             325,
             325,
             325,
             325,
             325,
             325,
             325,
             325,
             325,
             325,
             325,
             325,
             325,
             325,
             325,
             325,
             325,
             325,
             325,
             325,
             325,
             325,
             325,
             325,
             325,
             325,
             325,
             325,
             325,
             325,
             325,
             325,
             325,
             325,
             325,
             325,
             325,
             325,
             325,
             325,
             325,
             325,
             325,
             325,
             325,
             325,
             325,
             325,
             325,
             325,
             325,
             325,
             325,
             325,
             325,
             325,
             325,
             325,
             325,
             325,
             325,
             325,
             325,
             325,
             325,
             325,
             325,
             325,
             325,
             325,
             325,
             325,
             325,
             325,
             325,
             325,
             325,
             325,
             325,
             325,
             325,
             325,
             325,
             325,
             325,
             325,
             325,
             325,
             325,
             325,
             325,
             325,
             325,
             325,
             325,
             325,
             325,
             325,
             325,
             325,
             325,
             325,
             325,
             325,
             325,
             325,
             325,
             325,
             325,
             325,
             325,
             325,
             325,
             325,
             325,
             325,
             325,
             325,
             325,
             325,
             325,
             425,
             425,
             425,
             425,
             425,
             425,
             425,
             425,
             425,
             425,
             425,
             425,
             425,
             425,
             425,
             425,
             425,
             425,
             425,
             425,
             425,
             425,
             425,
             425,
             425,
             425,
             425,
             425,
             425,
             425,
             425,
             425
            ],
            "sizemode": "area",
            "sizeref": 0.19,
            "symbol": "circle"
           },
           "mode": "markers",
           "name": "Asparagus",
           "orientation": "v",
           "showlegend": true,
           "type": "scatter",
           "x": [
            2017,
            2017,
            2017,
            2017,
            2017,
            2017,
            2017,
            2017,
            2017,
            2017,
            2017,
            2017,
            2017,
            2017,
            2017,
            2017,
            2017,
            2017,
            2017,
            2017,
            2017,
            2017,
            2017,
            2017,
            2017,
            2017,
            2017,
            2017,
            2017,
            2017,
            2017,
            2017,
            2017,
            2017,
            2017,
            2017,
            2017,
            2017,
            2017,
            2017,
            2017,
            2017,
            2017,
            2017,
            2017,
            2017,
            2017,
            2017,
            2017,
            2017,
            2017,
            2017,
            2017,
            2017,
            2017,
            2017,
            2017,
            2017,
            2017,
            2017,
            2017,
            2017,
            2017,
            2017,
            2017,
            2017,
            2017,
            2017,
            2017,
            2017,
            2017,
            2017,
            2017,
            2017,
            2017,
            2017,
            2017,
            2017,
            2017,
            2017,
            2017,
            2017,
            2017,
            2017,
            2017,
            2017,
            2017,
            2017,
            2017,
            2017,
            2017,
            2017,
            2017,
            2017,
            2017,
            2017,
            2017,
            2017,
            2017,
            2017,
            2017,
            2017,
            2017,
            2017,
            2017,
            2017,
            2017,
            2017,
            2017,
            2017,
            2017,
            2017,
            2017,
            2017,
            2017,
            2017,
            2017,
            2017,
            2017,
            2017,
            2017,
            2017,
            2017,
            2017,
            2017,
            2017,
            2017,
            2017,
            2017,
            2017,
            2017,
            2017,
            2017,
            2017,
            2017,
            2017,
            2017,
            2017,
            2017,
            2017,
            2017,
            2017,
            2017,
            2017,
            2017,
            2017,
            2017,
            2017,
            2017,
            2017,
            2017,
            2017,
            2017,
            2017,
            2017,
            2017,
            2017,
            2017,
            2017,
            2017,
            2017,
            2017,
            2017,
            2017,
            2017,
            2017,
            2017,
            2017,
            2017,
            2017,
            2017,
            2017,
            2017,
            2017,
            2017,
            2017,
            2017,
            2017,
            2017,
            2017,
            2017,
            2017,
            2017,
            2017,
            2017,
            2017,
            2017,
            2017
           ],
           "xaxis": "x",
           "y": [
            375,
            475,
            475,
            425,
            425,
            425,
            425,
            425,
            425,
            425,
            425,
            425,
            425,
            425,
            425,
            425,
            425,
            425,
            425,
            425,
            425,
            425,
            425,
            425,
            425,
            425,
            425,
            425,
            375,
            375,
            375,
            325,
            325,
            325,
            325,
            325,
            325,
            325,
            325,
            325,
            325,
            325,
            325,
            325,
            325,
            325,
            325,
            325,
            325,
            325,
            325,
            325,
            325,
            325,
            325,
            325,
            325,
            325,
            325,
            325,
            325,
            325,
            325,
            325,
            325,
            325,
            325,
            325,
            325,
            325,
            325,
            325,
            325,
            325,
            325,
            325,
            325,
            325,
            325,
            325,
            325,
            325,
            325,
            325,
            325,
            325,
            325,
            325,
            325,
            325,
            325,
            325,
            325,
            325,
            325,
            325,
            325,
            325,
            325,
            325,
            325,
            325,
            325,
            325,
            325,
            325,
            325,
            325,
            325,
            325,
            325,
            325,
            325,
            325,
            325,
            325,
            325,
            325,
            325,
            325,
            325,
            325,
            325,
            325,
            325,
            325,
            325,
            325,
            325,
            325,
            325,
            325,
            325,
            325,
            325,
            325,
            325,
            325,
            325,
            325,
            325,
            325,
            325,
            325,
            325,
            325,
            325,
            325,
            325,
            325,
            325,
            325,
            325,
            325,
            325,
            325,
            425,
            425,
            425,
            425,
            425,
            425,
            425,
            425,
            425,
            425,
            425,
            425,
            425,
            425,
            425,
            425,
            425,
            425,
            425,
            425,
            425,
            425,
            425,
            425,
            425,
            425,
            425,
            425,
            425,
            425,
            425,
            425
           ],
           "yaxis": "y"
          }
         ],
         "name": "2017"
        },
        {
         "data": [
          {
           "hovertemplate": "<b>%{hovertext}</b><br><br>Commodity=Asparagus<br>date_year=%{x}<br>Average=%{marker.size}<extra></extra>",
           "hovertext": [
            "Asparagus"
           ],
           "ids": [
            "Asparagus"
           ],
           "legendgroup": "Asparagus",
           "marker": {
            "color": "#636efa",
            "size": [
             450
            ],
            "sizemode": "area",
            "sizeref": 0.19,
            "symbol": "circle"
           },
           "mode": "markers",
           "name": "Asparagus",
           "orientation": "v",
           "showlegend": true,
           "type": "scatter",
           "x": [
            2018
           ],
           "xaxis": "x",
           "y": [
            450
           ],
           "yaxis": "y"
          }
         ],
         "name": "2018"
        },
        {
         "data": [
          {
           "hovertemplate": "<b>%{hovertext}</b><br><br>Commodity=Asparagus<br>date_year=%{x}<br>Average=%{marker.size}<extra></extra>",
           "hovertext": [
            "Asparagus",
            "Asparagus",
            "Asparagus",
            "Asparagus"
           ],
           "ids": [
            "Asparagus",
            "Asparagus",
            "Asparagus",
            "Asparagus"
           ],
           "legendgroup": "Asparagus",
           "marker": {
            "color": "#636efa",
            "size": [
             255,
             305,
             305,
             315
            ],
            "sizemode": "area",
            "sizeref": 0.19,
            "symbol": "circle"
           },
           "mode": "markers",
           "name": "Asparagus",
           "orientation": "v",
           "showlegend": true,
           "type": "scatter",
           "x": [
            2019,
            2019,
            2019,
            2019
           ],
           "xaxis": "x",
           "y": [
            255,
            305,
            305,
            315
           ],
           "yaxis": "y"
          }
         ],
         "name": "2019"
        },
        {
         "data": [
          {
           "hovertemplate": "<b>%{hovertext}</b><br><br>Commodity=Asparagus<br>date_year=%{x}<br>Average=%{marker.size}<extra></extra>",
           "hovertext": [
            "Asparagus",
            "Asparagus",
            "Asparagus",
            "Asparagus",
            "Asparagus",
            "Asparagus",
            "Asparagus",
            "Asparagus",
            "Asparagus",
            "Asparagus",
            "Asparagus",
            "Asparagus",
            "Asparagus",
            "Asparagus",
            "Asparagus",
            "Asparagus",
            "Asparagus",
            "Asparagus",
            "Asparagus",
            "Asparagus",
            "Asparagus",
            "Asparagus",
            "Asparagus",
            "Asparagus",
            "Asparagus",
            "Asparagus",
            "Asparagus",
            "Asparagus",
            "Asparagus",
            "Asparagus",
            "Asparagus",
            "Asparagus",
            "Asparagus",
            "Asparagus",
            "Asparagus",
            "Asparagus",
            "Asparagus",
            "Asparagus",
            "Asparagus",
            "Asparagus",
            "Asparagus",
            "Asparagus",
            "Asparagus",
            "Asparagus",
            "Asparagus",
            "Asparagus",
            "Asparagus",
            "Asparagus",
            "Asparagus",
            "Asparagus",
            "Asparagus",
            "Asparagus",
            "Asparagus",
            "Asparagus",
            "Asparagus",
            "Asparagus",
            "Asparagus",
            "Asparagus",
            "Asparagus",
            "Asparagus",
            "Asparagus",
            "Asparagus",
            "Asparagus",
            "Asparagus",
            "Asparagus",
            "Asparagus",
            "Asparagus",
            "Asparagus",
            "Asparagus",
            "Asparagus",
            "Asparagus",
            "Asparagus",
            "Asparagus",
            "Asparagus",
            "Asparagus",
            "Asparagus",
            "Asparagus",
            "Asparagus",
            "Asparagus",
            "Asparagus",
            "Asparagus",
            "Asparagus",
            "Asparagus",
            "Asparagus",
            "Asparagus",
            "Asparagus",
            "Asparagus",
            "Asparagus",
            "Asparagus",
            "Asparagus",
            "Asparagus",
            "Asparagus",
            "Asparagus",
            "Asparagus",
            "Asparagus",
            "Asparagus",
            "Asparagus",
            "Asparagus",
            "Asparagus",
            "Asparagus",
            "Asparagus",
            "Asparagus",
            "Asparagus",
            "Asparagus",
            "Asparagus",
            "Asparagus",
            "Asparagus",
            "Asparagus",
            "Asparagus",
            "Asparagus",
            "Asparagus",
            "Asparagus",
            "Asparagus",
            "Asparagus",
            "Asparagus",
            "Asparagus",
            "Asparagus",
            "Asparagus",
            "Asparagus",
            "Asparagus",
            "Asparagus",
            "Asparagus",
            "Asparagus",
            "Asparagus",
            "Asparagus",
            "Asparagus",
            "Asparagus",
            "Asparagus",
            "Asparagus",
            "Asparagus",
            "Asparagus",
            "Asparagus",
            "Asparagus",
            "Asparagus"
           ],
           "ids": [
            "Asparagus",
            "Asparagus",
            "Asparagus",
            "Asparagus",
            "Asparagus",
            "Asparagus",
            "Asparagus",
            "Asparagus",
            "Asparagus",
            "Asparagus",
            "Asparagus",
            "Asparagus",
            "Asparagus",
            "Asparagus",
            "Asparagus",
            "Asparagus",
            "Asparagus",
            "Asparagus",
            "Asparagus",
            "Asparagus",
            "Asparagus",
            "Asparagus",
            "Asparagus",
            "Asparagus",
            "Asparagus",
            "Asparagus",
            "Asparagus",
            "Asparagus",
            "Asparagus",
            "Asparagus",
            "Asparagus",
            "Asparagus",
            "Asparagus",
            "Asparagus",
            "Asparagus",
            "Asparagus",
            "Asparagus",
            "Asparagus",
            "Asparagus",
            "Asparagus",
            "Asparagus",
            "Asparagus",
            "Asparagus",
            "Asparagus",
            "Asparagus",
            "Asparagus",
            "Asparagus",
            "Asparagus",
            "Asparagus",
            "Asparagus",
            "Asparagus",
            "Asparagus",
            "Asparagus",
            "Asparagus",
            "Asparagus",
            "Asparagus",
            "Asparagus",
            "Asparagus",
            "Asparagus",
            "Asparagus",
            "Asparagus",
            "Asparagus",
            "Asparagus",
            "Asparagus",
            "Asparagus",
            "Asparagus",
            "Asparagus",
            "Asparagus",
            "Asparagus",
            "Asparagus",
            "Asparagus",
            "Asparagus",
            "Asparagus",
            "Asparagus",
            "Asparagus",
            "Asparagus",
            "Asparagus",
            "Asparagus",
            "Asparagus",
            "Asparagus",
            "Asparagus",
            "Asparagus",
            "Asparagus",
            "Asparagus",
            "Asparagus",
            "Asparagus",
            "Asparagus",
            "Asparagus",
            "Asparagus",
            "Asparagus",
            "Asparagus",
            "Asparagus",
            "Asparagus",
            "Asparagus",
            "Asparagus",
            "Asparagus",
            "Asparagus",
            "Asparagus",
            "Asparagus",
            "Asparagus",
            "Asparagus",
            "Asparagus",
            "Asparagus",
            "Asparagus",
            "Asparagus",
            "Asparagus",
            "Asparagus",
            "Asparagus",
            "Asparagus",
            "Asparagus",
            "Asparagus",
            "Asparagus",
            "Asparagus",
            "Asparagus",
            "Asparagus",
            "Asparagus",
            "Asparagus",
            "Asparagus",
            "Asparagus",
            "Asparagus",
            "Asparagus",
            "Asparagus",
            "Asparagus",
            "Asparagus",
            "Asparagus",
            "Asparagus",
            "Asparagus",
            "Asparagus",
            "Asparagus",
            "Asparagus",
            "Asparagus",
            "Asparagus",
            "Asparagus",
            "Asparagus"
           ],
           "legendgroup": "Asparagus",
           "marker": {
            "color": "#636efa",
            "size": [
             325,
             325,
             325,
             335,
             310,
             310,
             310,
             305,
             305,
             305,
             305,
             255,
             255,
             255,
             255,
             255,
             255,
             255,
             255,
             255,
             255,
             255,
             255,
             255,
             255,
             255,
             255,
             255,
             255,
             255,
             255,
             255,
             255,
             255,
             255,
             255,
             255,
             255,
             255,
             255,
             255,
             255,
             255,
             255,
             255,
             255,
             255,
             255,
             255,
             255,
             255,
             255,
             255,
             255,
             255,
             255,
             255,
             245,
             255,
             255,
             245,
             245,
             245,
             245,
             245,
             245,
             245,
             245,
             245,
             245,
             245,
             245,
             245,
             245,
             245,
             245,
             245,
             445,
             495,
             495,
             495,
             495,
             495,
             495,
             325,
             295,
             345,
             295,
             495,
             495,
             495,
             495,
             495,
             495,
             495,
             495,
             495,
             495,
             495,
             495,
             495,
             475,
             425,
             375,
             395,
             395,
             395,
             395,
             395,
             395,
             395,
             395,
             395,
             395,
             395,
             395,
             455,
             445,
             455,
             445,
             445,
             445,
             445,
             445,
             445,
             445,
             445,
             445,
             445,
             445,
             445,
             445,
             445,
             1900
            ],
            "sizemode": "area",
            "sizeref": 0.19,
            "symbol": "circle"
           },
           "mode": "markers",
           "name": "Asparagus",
           "orientation": "v",
           "showlegend": true,
           "type": "scatter",
           "x": [
            2020,
            2020,
            2020,
            2020,
            2020,
            2020,
            2020,
            2020,
            2020,
            2020,
            2020,
            2020,
            2020,
            2020,
            2020,
            2020,
            2020,
            2020,
            2020,
            2020,
            2020,
            2020,
            2020,
            2020,
            2020,
            2020,
            2020,
            2020,
            2020,
            2020,
            2020,
            2020,
            2020,
            2020,
            2020,
            2020,
            2020,
            2020,
            2020,
            2020,
            2020,
            2020,
            2020,
            2020,
            2020,
            2020,
            2020,
            2020,
            2020,
            2020,
            2020,
            2020,
            2020,
            2020,
            2020,
            2020,
            2020,
            2020,
            2020,
            2020,
            2020,
            2020,
            2020,
            2020,
            2020,
            2020,
            2020,
            2020,
            2020,
            2020,
            2020,
            2020,
            2020,
            2020,
            2020,
            2020,
            2020,
            2020,
            2020,
            2020,
            2020,
            2020,
            2020,
            2020,
            2020,
            2020,
            2020,
            2020,
            2020,
            2020,
            2020,
            2020,
            2020,
            2020,
            2020,
            2020,
            2020,
            2020,
            2020,
            2020,
            2020,
            2020,
            2020,
            2020,
            2020,
            2020,
            2020,
            2020,
            2020,
            2020,
            2020,
            2020,
            2020,
            2020,
            2020,
            2020,
            2020,
            2020,
            2020,
            2020,
            2020,
            2020,
            2020,
            2020,
            2020,
            2020,
            2020,
            2020,
            2020,
            2020,
            2020,
            2020,
            2020,
            2020
           ],
           "xaxis": "x",
           "y": [
            325,
            325,
            325,
            335,
            310,
            310,
            310,
            305,
            305,
            305,
            305,
            255,
            255,
            255,
            255,
            255,
            255,
            255,
            255,
            255,
            255,
            255,
            255,
            255,
            255,
            255,
            255,
            255,
            255,
            255,
            255,
            255,
            255,
            255,
            255,
            255,
            255,
            255,
            255,
            255,
            255,
            255,
            255,
            255,
            255,
            255,
            255,
            255,
            255,
            255,
            255,
            255,
            255,
            255,
            255,
            255,
            255,
            245,
            255,
            255,
            245,
            245,
            245,
            245,
            245,
            245,
            245,
            245,
            245,
            245,
            245,
            245,
            245,
            245,
            245,
            245,
            245,
            445,
            495,
            495,
            495,
            495,
            495,
            495,
            325,
            295,
            345,
            295,
            495,
            495,
            495,
            495,
            495,
            495,
            495,
            495,
            495,
            495,
            495,
            495,
            495,
            475,
            425,
            375,
            395,
            395,
            395,
            395,
            395,
            395,
            395,
            395,
            395,
            395,
            395,
            395,
            455,
            445,
            455,
            445,
            445,
            445,
            445,
            445,
            445,
            445,
            445,
            445,
            445,
            445,
            445,
            445,
            445,
            1900
           ],
           "yaxis": "y"
          }
         ],
         "name": "2020"
        },
        {
         "data": [
          {
           "hovertemplate": "<b>%{hovertext}</b><br><br>Commodity=Asparagus<br>date_year=%{x}<br>Average=%{marker.size}<extra></extra>",
           "hovertext": [
            "Asparagus",
            "Asparagus",
            "Asparagus",
            "Asparagus",
            "Asparagus",
            "Asparagus",
            "Asparagus",
            "Asparagus",
            "Asparagus",
            "Asparagus",
            "Asparagus",
            "Asparagus",
            "Asparagus",
            "Asparagus",
            "Asparagus",
            "Asparagus",
            "Asparagus",
            "Asparagus",
            "Asparagus",
            "Asparagus",
            "Asparagus",
            "Asparagus",
            "Asparagus",
            "Asparagus",
            "Asparagus",
            "Asparagus",
            "Asparagus",
            "Asparagus",
            "Asparagus",
            "Asparagus",
            "Asparagus",
            "Asparagus",
            "Asparagus",
            "Asparagus",
            "Asparagus",
            "Asparagus",
            "Asparagus",
            "Asparagus",
            "Asparagus",
            "Asparagus",
            "Asparagus",
            "Asparagus",
            "Asparagus",
            "Asparagus",
            "Asparagus",
            "Asparagus",
            "Asparagus",
            "Asparagus",
            "Asparagus",
            "Asparagus",
            "Asparagus",
            "Asparagus",
            "Asparagus",
            "Asparagus",
            "Asparagus",
            "Asparagus",
            "Asparagus",
            "Asparagus",
            "Asparagus",
            "Asparagus",
            "Asparagus",
            "Asparagus",
            "Asparagus",
            "Asparagus",
            "Asparagus",
            "Asparagus",
            "Asparagus",
            "Asparagus",
            "Asparagus",
            "Asparagus",
            "Asparagus"
           ],
           "ids": [
            "Asparagus",
            "Asparagus",
            "Asparagus",
            "Asparagus",
            "Asparagus",
            "Asparagus",
            "Asparagus",
            "Asparagus",
            "Asparagus",
            "Asparagus",
            "Asparagus",
            "Asparagus",
            "Asparagus",
            "Asparagus",
            "Asparagus",
            "Asparagus",
            "Asparagus",
            "Asparagus",
            "Asparagus",
            "Asparagus",
            "Asparagus",
            "Asparagus",
            "Asparagus",
            "Asparagus",
            "Asparagus",
            "Asparagus",
            "Asparagus",
            "Asparagus",
            "Asparagus",
            "Asparagus",
            "Asparagus",
            "Asparagus",
            "Asparagus",
            "Asparagus",
            "Asparagus",
            "Asparagus",
            "Asparagus",
            "Asparagus",
            "Asparagus",
            "Asparagus",
            "Asparagus",
            "Asparagus",
            "Asparagus",
            "Asparagus",
            "Asparagus",
            "Asparagus",
            "Asparagus",
            "Asparagus",
            "Asparagus",
            "Asparagus",
            "Asparagus",
            "Asparagus",
            "Asparagus",
            "Asparagus",
            "Asparagus",
            "Asparagus",
            "Asparagus",
            "Asparagus",
            "Asparagus",
            "Asparagus",
            "Asparagus",
            "Asparagus",
            "Asparagus",
            "Asparagus",
            "Asparagus",
            "Asparagus",
            "Asparagus",
            "Asparagus",
            "Asparagus",
            "Asparagus",
            "Asparagus"
           ],
           "legendgroup": "Asparagus",
           "marker": {
            "color": "#636efa",
            "size": [
             265,
             950,
             950,
             950,
             950,
             950,
             950,
             950,
             950,
             950,
             975,
             975,
             975,
             800,
             575,
             750,
             600,
             525,
             650,
             750,
             750,
             575,
             550,
             575,
             575,
             575,
             575,
             550,
             550,
             550,
             550,
             575,
             575,
             575,
             650,
             650,
             650,
             650,
             650,
             550,
             650,
             650,
             550,
             475,
             475,
             475,
             375,
             450,
             450,
             450,
             450,
             450,
             475,
             450,
             450,
             550,
             575,
             500,
             550,
             575,
             550,
             550,
             575,
             575,
             575,
             650,
             900,
             950,
             1100,
             1100,
             1025
            ],
            "sizemode": "area",
            "sizeref": 0.19,
            "symbol": "circle"
           },
           "mode": "markers",
           "name": "Asparagus",
           "orientation": "v",
           "showlegend": true,
           "type": "scatter",
           "x": [
            2021,
            2021,
            2021,
            2021,
            2021,
            2021,
            2021,
            2021,
            2021,
            2021,
            2021,
            2021,
            2021,
            2021,
            2021,
            2021,
            2021,
            2021,
            2021,
            2021,
            2021,
            2021,
            2021,
            2021,
            2021,
            2021,
            2021,
            2021,
            2021,
            2021,
            2021,
            2021,
            2021,
            2021,
            2021,
            2021,
            2021,
            2021,
            2021,
            2021,
            2021,
            2021,
            2021,
            2021,
            2021,
            2021,
            2021,
            2021,
            2021,
            2021,
            2021,
            2021,
            2021,
            2021,
            2021,
            2021,
            2021,
            2021,
            2021,
            2021,
            2021,
            2021,
            2021,
            2021,
            2021,
            2021,
            2021,
            2021,
            2021,
            2021,
            2021
           ],
           "xaxis": "x",
           "y": [
            265,
            950,
            950,
            950,
            950,
            950,
            950,
            950,
            950,
            950,
            975,
            975,
            975,
            800,
            575,
            750,
            600,
            525,
            650,
            750,
            750,
            575,
            550,
            575,
            575,
            575,
            575,
            550,
            550,
            550,
            550,
            575,
            575,
            575,
            650,
            650,
            650,
            650,
            650,
            550,
            650,
            650,
            550,
            475,
            475,
            475,
            375,
            450,
            450,
            450,
            450,
            450,
            475,
            450,
            450,
            550,
            575,
            500,
            550,
            575,
            550,
            550,
            575,
            575,
            575,
            650,
            900,
            950,
            1100,
            1100,
            1025
           ],
           "yaxis": "y"
          }
         ],
         "name": "2021"
        }
       ],
       "layout": {
        "legend": {
         "itemsizing": "constant",
         "title": {
          "text": "Commodity"
         },
         "tracegroupgap": 0
        },
        "margin": {
         "t": 60
        },
        "sliders": [
         {
          "active": 0,
          "currentvalue": {
           "prefix": "date_year="
          },
          "len": 0.9,
          "pad": {
           "b": 10,
           "t": 60
          },
          "steps": [
           {
            "args": [
             [
              "2013"
             ],
             {
              "frame": {
               "duration": 0,
               "redraw": false
              },
              "fromcurrent": true,
              "mode": "immediate",
              "transition": {
               "duration": 0,
               "easing": "linear"
              }
             }
            ],
            "label": "2013",
            "method": "animate"
           },
           {
            "args": [
             [
              "2014"
             ],
             {
              "frame": {
               "duration": 0,
               "redraw": false
              },
              "fromcurrent": true,
              "mode": "immediate",
              "transition": {
               "duration": 0,
               "easing": "linear"
              }
             }
            ],
            "label": "2014",
            "method": "animate"
           },
           {
            "args": [
             [
              "2015"
             ],
             {
              "frame": {
               "duration": 0,
               "redraw": false
              },
              "fromcurrent": true,
              "mode": "immediate",
              "transition": {
               "duration": 0,
               "easing": "linear"
              }
             }
            ],
            "label": "2015",
            "method": "animate"
           },
           {
            "args": [
             [
              "2016"
             ],
             {
              "frame": {
               "duration": 0,
               "redraw": false
              },
              "fromcurrent": true,
              "mode": "immediate",
              "transition": {
               "duration": 0,
               "easing": "linear"
              }
             }
            ],
            "label": "2016",
            "method": "animate"
           },
           {
            "args": [
             [
              "2017"
             ],
             {
              "frame": {
               "duration": 0,
               "redraw": false
              },
              "fromcurrent": true,
              "mode": "immediate",
              "transition": {
               "duration": 0,
               "easing": "linear"
              }
             }
            ],
            "label": "2017",
            "method": "animate"
           },
           {
            "args": [
             [
              "2018"
             ],
             {
              "frame": {
               "duration": 0,
               "redraw": false
              },
              "fromcurrent": true,
              "mode": "immediate",
              "transition": {
               "duration": 0,
               "easing": "linear"
              }
             }
            ],
            "label": "2018",
            "method": "animate"
           },
           {
            "args": [
             [
              "2019"
             ],
             {
              "frame": {
               "duration": 0,
               "redraw": false
              },
              "fromcurrent": true,
              "mode": "immediate",
              "transition": {
               "duration": 0,
               "easing": "linear"
              }
             }
            ],
            "label": "2019",
            "method": "animate"
           },
           {
            "args": [
             [
              "2020"
             ],
             {
              "frame": {
               "duration": 0,
               "redraw": false
              },
              "fromcurrent": true,
              "mode": "immediate",
              "transition": {
               "duration": 0,
               "easing": "linear"
              }
             }
            ],
            "label": "2020",
            "method": "animate"
           },
           {
            "args": [
             [
              "2021"
             ],
             {
              "frame": {
               "duration": 0,
               "redraw": false
              },
              "fromcurrent": true,
              "mode": "immediate",
              "transition": {
               "duration": 0,
               "easing": "linear"
              }
             }
            ],
            "label": "2021",
            "method": "animate"
           }
          ],
          "x": 0.1,
          "xanchor": "left",
          "y": 0,
          "yanchor": "top"
         }
        ],
        "template": {
         "data": {
          "bar": [
           {
            "error_x": {
             "color": "#2a3f5f"
            },
            "error_y": {
             "color": "#2a3f5f"
            },
            "marker": {
             "line": {
              "color": "#E5ECF6",
              "width": 0.5
             },
             "pattern": {
              "fillmode": "overlay",
              "size": 10,
              "solidity": 0.2
             }
            },
            "type": "bar"
           }
          ],
          "barpolar": [
           {
            "marker": {
             "line": {
              "color": "#E5ECF6",
              "width": 0.5
             },
             "pattern": {
              "fillmode": "overlay",
              "size": 10,
              "solidity": 0.2
             }
            },
            "type": "barpolar"
           }
          ],
          "carpet": [
           {
            "aaxis": {
             "endlinecolor": "#2a3f5f",
             "gridcolor": "white",
             "linecolor": "white",
             "minorgridcolor": "white",
             "startlinecolor": "#2a3f5f"
            },
            "baxis": {
             "endlinecolor": "#2a3f5f",
             "gridcolor": "white",
             "linecolor": "white",
             "minorgridcolor": "white",
             "startlinecolor": "#2a3f5f"
            },
            "type": "carpet"
           }
          ],
          "choropleth": [
           {
            "colorbar": {
             "outlinewidth": 0,
             "ticks": ""
            },
            "type": "choropleth"
           }
          ],
          "contour": [
           {
            "colorbar": {
             "outlinewidth": 0,
             "ticks": ""
            },
            "colorscale": [
             [
              0,
              "#0d0887"
             ],
             [
              0.1111111111111111,
              "#46039f"
             ],
             [
              0.2222222222222222,
              "#7201a8"
             ],
             [
              0.3333333333333333,
              "#9c179e"
             ],
             [
              0.4444444444444444,
              "#bd3786"
             ],
             [
              0.5555555555555556,
              "#d8576b"
             ],
             [
              0.6666666666666666,
              "#ed7953"
             ],
             [
              0.7777777777777778,
              "#fb9f3a"
             ],
             [
              0.8888888888888888,
              "#fdca26"
             ],
             [
              1,
              "#f0f921"
             ]
            ],
            "type": "contour"
           }
          ],
          "contourcarpet": [
           {
            "colorbar": {
             "outlinewidth": 0,
             "ticks": ""
            },
            "type": "contourcarpet"
           }
          ],
          "heatmap": [
           {
            "colorbar": {
             "outlinewidth": 0,
             "ticks": ""
            },
            "colorscale": [
             [
              0,
              "#0d0887"
             ],
             [
              0.1111111111111111,
              "#46039f"
             ],
             [
              0.2222222222222222,
              "#7201a8"
             ],
             [
              0.3333333333333333,
              "#9c179e"
             ],
             [
              0.4444444444444444,
              "#bd3786"
             ],
             [
              0.5555555555555556,
              "#d8576b"
             ],
             [
              0.6666666666666666,
              "#ed7953"
             ],
             [
              0.7777777777777778,
              "#fb9f3a"
             ],
             [
              0.8888888888888888,
              "#fdca26"
             ],
             [
              1,
              "#f0f921"
             ]
            ],
            "type": "heatmap"
           }
          ],
          "heatmapgl": [
           {
            "colorbar": {
             "outlinewidth": 0,
             "ticks": ""
            },
            "colorscale": [
             [
              0,
              "#0d0887"
             ],
             [
              0.1111111111111111,
              "#46039f"
             ],
             [
              0.2222222222222222,
              "#7201a8"
             ],
             [
              0.3333333333333333,
              "#9c179e"
             ],
             [
              0.4444444444444444,
              "#bd3786"
             ],
             [
              0.5555555555555556,
              "#d8576b"
             ],
             [
              0.6666666666666666,
              "#ed7953"
             ],
             [
              0.7777777777777778,
              "#fb9f3a"
             ],
             [
              0.8888888888888888,
              "#fdca26"
             ],
             [
              1,
              "#f0f921"
             ]
            ],
            "type": "heatmapgl"
           }
          ],
          "histogram": [
           {
            "marker": {
             "pattern": {
              "fillmode": "overlay",
              "size": 10,
              "solidity": 0.2
             }
            },
            "type": "histogram"
           }
          ],
          "histogram2d": [
           {
            "colorbar": {
             "outlinewidth": 0,
             "ticks": ""
            },
            "colorscale": [
             [
              0,
              "#0d0887"
             ],
             [
              0.1111111111111111,
              "#46039f"
             ],
             [
              0.2222222222222222,
              "#7201a8"
             ],
             [
              0.3333333333333333,
              "#9c179e"
             ],
             [
              0.4444444444444444,
              "#bd3786"
             ],
             [
              0.5555555555555556,
              "#d8576b"
             ],
             [
              0.6666666666666666,
              "#ed7953"
             ],
             [
              0.7777777777777778,
              "#fb9f3a"
             ],
             [
              0.8888888888888888,
              "#fdca26"
             ],
             [
              1,
              "#f0f921"
             ]
            ],
            "type": "histogram2d"
           }
          ],
          "histogram2dcontour": [
           {
            "colorbar": {
             "outlinewidth": 0,
             "ticks": ""
            },
            "colorscale": [
             [
              0,
              "#0d0887"
             ],
             [
              0.1111111111111111,
              "#46039f"
             ],
             [
              0.2222222222222222,
              "#7201a8"
             ],
             [
              0.3333333333333333,
              "#9c179e"
             ],
             [
              0.4444444444444444,
              "#bd3786"
             ],
             [
              0.5555555555555556,
              "#d8576b"
             ],
             [
              0.6666666666666666,
              "#ed7953"
             ],
             [
              0.7777777777777778,
              "#fb9f3a"
             ],
             [
              0.8888888888888888,
              "#fdca26"
             ],
             [
              1,
              "#f0f921"
             ]
            ],
            "type": "histogram2dcontour"
           }
          ],
          "mesh3d": [
           {
            "colorbar": {
             "outlinewidth": 0,
             "ticks": ""
            },
            "type": "mesh3d"
           }
          ],
          "parcoords": [
           {
            "line": {
             "colorbar": {
              "outlinewidth": 0,
              "ticks": ""
             }
            },
            "type": "parcoords"
           }
          ],
          "pie": [
           {
            "automargin": true,
            "type": "pie"
           }
          ],
          "scatter": [
           {
            "fillpattern": {
             "fillmode": "overlay",
             "size": 10,
             "solidity": 0.2
            },
            "type": "scatter"
           }
          ],
          "scatter3d": [
           {
            "line": {
             "colorbar": {
              "outlinewidth": 0,
              "ticks": ""
             }
            },
            "marker": {
             "colorbar": {
              "outlinewidth": 0,
              "ticks": ""
             }
            },
            "type": "scatter3d"
           }
          ],
          "scattercarpet": [
           {
            "marker": {
             "colorbar": {
              "outlinewidth": 0,
              "ticks": ""
             }
            },
            "type": "scattercarpet"
           }
          ],
          "scattergeo": [
           {
            "marker": {
             "colorbar": {
              "outlinewidth": 0,
              "ticks": ""
             }
            },
            "type": "scattergeo"
           }
          ],
          "scattergl": [
           {
            "marker": {
             "colorbar": {
              "outlinewidth": 0,
              "ticks": ""
             }
            },
            "type": "scattergl"
           }
          ],
          "scattermapbox": [
           {
            "marker": {
             "colorbar": {
              "outlinewidth": 0,
              "ticks": ""
             }
            },
            "type": "scattermapbox"
           }
          ],
          "scatterpolar": [
           {
            "marker": {
             "colorbar": {
              "outlinewidth": 0,
              "ticks": ""
             }
            },
            "type": "scatterpolar"
           }
          ],
          "scatterpolargl": [
           {
            "marker": {
             "colorbar": {
              "outlinewidth": 0,
              "ticks": ""
             }
            },
            "type": "scatterpolargl"
           }
          ],
          "scatterternary": [
           {
            "marker": {
             "colorbar": {
              "outlinewidth": 0,
              "ticks": ""
             }
            },
            "type": "scatterternary"
           }
          ],
          "surface": [
           {
            "colorbar": {
             "outlinewidth": 0,
             "ticks": ""
            },
            "colorscale": [
             [
              0,
              "#0d0887"
             ],
             [
              0.1111111111111111,
              "#46039f"
             ],
             [
              0.2222222222222222,
              "#7201a8"
             ],
             [
              0.3333333333333333,
              "#9c179e"
             ],
             [
              0.4444444444444444,
              "#bd3786"
             ],
             [
              0.5555555555555556,
              "#d8576b"
             ],
             [
              0.6666666666666666,
              "#ed7953"
             ],
             [
              0.7777777777777778,
              "#fb9f3a"
             ],
             [
              0.8888888888888888,
              "#fdca26"
             ],
             [
              1,
              "#f0f921"
             ]
            ],
            "type": "surface"
           }
          ],
          "table": [
           {
            "cells": {
             "fill": {
              "color": "#EBF0F8"
             },
             "line": {
              "color": "white"
             }
            },
            "header": {
             "fill": {
              "color": "#C8D4E3"
             },
             "line": {
              "color": "white"
             }
            },
            "type": "table"
           }
          ]
         },
         "layout": {
          "annotationdefaults": {
           "arrowcolor": "#2a3f5f",
           "arrowhead": 0,
           "arrowwidth": 1
          },
          "autotypenumbers": "strict",
          "coloraxis": {
           "colorbar": {
            "outlinewidth": 0,
            "ticks": ""
           }
          },
          "colorscale": {
           "diverging": [
            [
             0,
             "#8e0152"
            ],
            [
             0.1,
             "#c51b7d"
            ],
            [
             0.2,
             "#de77ae"
            ],
            [
             0.3,
             "#f1b6da"
            ],
            [
             0.4,
             "#fde0ef"
            ],
            [
             0.5,
             "#f7f7f7"
            ],
            [
             0.6,
             "#e6f5d0"
            ],
            [
             0.7,
             "#b8e186"
            ],
            [
             0.8,
             "#7fbc41"
            ],
            [
             0.9,
             "#4d9221"
            ],
            [
             1,
             "#276419"
            ]
           ],
           "sequential": [
            [
             0,
             "#0d0887"
            ],
            [
             0.1111111111111111,
             "#46039f"
            ],
            [
             0.2222222222222222,
             "#7201a8"
            ],
            [
             0.3333333333333333,
             "#9c179e"
            ],
            [
             0.4444444444444444,
             "#bd3786"
            ],
            [
             0.5555555555555556,
             "#d8576b"
            ],
            [
             0.6666666666666666,
             "#ed7953"
            ],
            [
             0.7777777777777778,
             "#fb9f3a"
            ],
            [
             0.8888888888888888,
             "#fdca26"
            ],
            [
             1,
             "#f0f921"
            ]
           ],
           "sequentialminus": [
            [
             0,
             "#0d0887"
            ],
            [
             0.1111111111111111,
             "#46039f"
            ],
            [
             0.2222222222222222,
             "#7201a8"
            ],
            [
             0.3333333333333333,
             "#9c179e"
            ],
            [
             0.4444444444444444,
             "#bd3786"
            ],
            [
             0.5555555555555556,
             "#d8576b"
            ],
            [
             0.6666666666666666,
             "#ed7953"
            ],
            [
             0.7777777777777778,
             "#fb9f3a"
            ],
            [
             0.8888888888888888,
             "#fdca26"
            ],
            [
             1,
             "#f0f921"
            ]
           ]
          },
          "colorway": [
           "#636efa",
           "#EF553B",
           "#00cc96",
           "#ab63fa",
           "#FFA15A",
           "#19d3f3",
           "#FF6692",
           "#B6E880",
           "#FF97FF",
           "#FECB52"
          ],
          "font": {
           "color": "#2a3f5f"
          },
          "geo": {
           "bgcolor": "white",
           "lakecolor": "white",
           "landcolor": "#E5ECF6",
           "showlakes": true,
           "showland": true,
           "subunitcolor": "white"
          },
          "hoverlabel": {
           "align": "left"
          },
          "hovermode": "closest",
          "mapbox": {
           "style": "light"
          },
          "paper_bgcolor": "white",
          "plot_bgcolor": "#E5ECF6",
          "polar": {
           "angularaxis": {
            "gridcolor": "white",
            "linecolor": "white",
            "ticks": ""
           },
           "bgcolor": "#E5ECF6",
           "radialaxis": {
            "gridcolor": "white",
            "linecolor": "white",
            "ticks": ""
           }
          },
          "scene": {
           "xaxis": {
            "backgroundcolor": "#E5ECF6",
            "gridcolor": "white",
            "gridwidth": 2,
            "linecolor": "white",
            "showbackground": true,
            "ticks": "",
            "zerolinecolor": "white"
           },
           "yaxis": {
            "backgroundcolor": "#E5ECF6",
            "gridcolor": "white",
            "gridwidth": 2,
            "linecolor": "white",
            "showbackground": true,
            "ticks": "",
            "zerolinecolor": "white"
           },
           "zaxis": {
            "backgroundcolor": "#E5ECF6",
            "gridcolor": "white",
            "gridwidth": 2,
            "linecolor": "white",
            "showbackground": true,
            "ticks": "",
            "zerolinecolor": "white"
           }
          },
          "shapedefaults": {
           "line": {
            "color": "#2a3f5f"
           }
          },
          "ternary": {
           "aaxis": {
            "gridcolor": "white",
            "linecolor": "white",
            "ticks": ""
           },
           "baxis": {
            "gridcolor": "white",
            "linecolor": "white",
            "ticks": ""
           },
           "bgcolor": "#E5ECF6",
           "caxis": {
            "gridcolor": "white",
            "linecolor": "white",
            "ticks": ""
           }
          },
          "title": {
           "x": 0.05
          },
          "xaxis": {
           "automargin": true,
           "gridcolor": "white",
           "linecolor": "white",
           "ticks": "",
           "title": {
            "standoff": 15
           },
           "zerolinecolor": "white",
           "zerolinewidth": 2
          },
          "yaxis": {
           "automargin": true,
           "gridcolor": "white",
           "linecolor": "white",
           "ticks": "",
           "title": {
            "standoff": 15
           },
           "zerolinecolor": "white",
           "zerolinewidth": 2
          }
         }
        },
        "updatemenus": [
         {
          "buttons": [
           {
            "args": [
             null,
             {
              "frame": {
               "duration": 500,
               "redraw": false
              },
              "fromcurrent": true,
              "mode": "immediate",
              "transition": {
               "duration": 500,
               "easing": "linear"
              }
             }
            ],
            "label": "&#9654;",
            "method": "animate"
           },
           {
            "args": [
             [
              null
             ],
             {
              "frame": {
               "duration": 0,
               "redraw": false
              },
              "fromcurrent": true,
              "mode": "immediate",
              "transition": {
               "duration": 0,
               "easing": "linear"
              }
             }
            ],
            "label": "&#9724;",
            "method": "animate"
           }
          ],
          "direction": "left",
          "pad": {
           "r": 10,
           "t": 70
          },
          "showactive": false,
          "type": "buttons",
          "x": 0.1,
          "xanchor": "right",
          "y": 0,
          "yanchor": "top"
         }
        ],
        "xaxis": {
         "anchor": "y",
         "categoryarray": [
          2013,
          2014,
          2015,
          2016,
          2017,
          2018,
          2019,
          2020,
          2021
         ],
         "categoryorder": "array",
         "domain": [
          0,
          1
         ],
         "range": [
          3.3036279763838894,
          3.306425027550687
         ],
         "title": {
          "text": "date_year"
         },
         "type": "log"
        },
        "yaxis": {
         "anchor": "x",
         "domain": [
          0,
          1
         ],
         "range": [
          0,
          2000
         ],
         "title": {
          "text": "Average"
         }
        }
       }
      },
      "text/html": [
       "<div>                            <div id=\"458a0a04-efcf-4884-8b33-a7613020e276\" class=\"plotly-graph-div\" style=\"height:525px; width:100%;\"></div>            <script type=\"text/javascript\">                require([\"plotly\"], function(Plotly) {                    window.PLOTLYENV=window.PLOTLYENV || {};                                    if (document.getElementById(\"458a0a04-efcf-4884-8b33-a7613020e276\")) {                    Plotly.newPlot(                        \"458a0a04-efcf-4884-8b33-a7613020e276\",                        [{\"hovertemplate\":\"<b>%{hovertext}</b><br><br>Commodity=Asparagus<br>date_year=%{x}<br>Average=%{marker.size}<extra></extra>\",\"hovertext\":[\"Asparagus\",\"Asparagus\",\"Asparagus\",\"Asparagus\",\"Asparagus\",\"Asparagus\",\"Asparagus\",\"Asparagus\",\"Asparagus\",\"Asparagus\",\"Asparagus\",\"Asparagus\",\"Asparagus\",\"Asparagus\",\"Asparagus\",\"Asparagus\",\"Asparagus\",\"Asparagus\",\"Asparagus\",\"Asparagus\",\"Asparagus\",\"Asparagus\",\"Asparagus\",\"Asparagus\",\"Asparagus\",\"Asparagus\",\"Asparagus\",\"Asparagus\",\"Asparagus\",\"Asparagus\",\"Asparagus\",\"Asparagus\",\"Asparagus\",\"Asparagus\",\"Asparagus\",\"Asparagus\",\"Asparagus\",\"Asparagus\",\"Asparagus\",\"Asparagus\",\"Asparagus\",\"Asparagus\",\"Asparagus\",\"Asparagus\",\"Asparagus\",\"Asparagus\",\"Asparagus\",\"Asparagus\",\"Asparagus\",\"Asparagus\",\"Asparagus\",\"Asparagus\",\"Asparagus\",\"Asparagus\",\"Asparagus\",\"Asparagus\",\"Asparagus\",\"Asparagus\",\"Asparagus\",\"Asparagus\",\"Asparagus\",\"Asparagus\",\"Asparagus\",\"Asparagus\",\"Asparagus\",\"Asparagus\",\"Asparagus\",\"Asparagus\",\"Asparagus\",\"Asparagus\",\"Asparagus\",\"Asparagus\",\"Asparagus\",\"Asparagus\",\"Asparagus\",\"Asparagus\",\"Asparagus\",\"Asparagus\",\"Asparagus\",\"Asparagus\",\"Asparagus\",\"Asparagus\",\"Asparagus\",\"Asparagus\",\"Asparagus\",\"Asparagus\",\"Asparagus\",\"Asparagus\",\"Asparagus\",\"Asparagus\",\"Asparagus\",\"Asparagus\",\"Asparagus\",\"Asparagus\",\"Asparagus\",\"Asparagus\",\"Asparagus\",\"Asparagus\",\"Asparagus\",\"Asparagus\",\"Asparagus\",\"Asparagus\",\"Asparagus\",\"Asparagus\",\"Asparagus\",\"Asparagus\"],\"ids\":[\"Asparagus\",\"Asparagus\",\"Asparagus\",\"Asparagus\",\"Asparagus\",\"Asparagus\",\"Asparagus\",\"Asparagus\",\"Asparagus\",\"Asparagus\",\"Asparagus\",\"Asparagus\",\"Asparagus\",\"Asparagus\",\"Asparagus\",\"Asparagus\",\"Asparagus\",\"Asparagus\",\"Asparagus\",\"Asparagus\",\"Asparagus\",\"Asparagus\",\"Asparagus\",\"Asparagus\",\"Asparagus\",\"Asparagus\",\"Asparagus\",\"Asparagus\",\"Asparagus\",\"Asparagus\",\"Asparagus\",\"Asparagus\",\"Asparagus\",\"Asparagus\",\"Asparagus\",\"Asparagus\",\"Asparagus\",\"Asparagus\",\"Asparagus\",\"Asparagus\",\"Asparagus\",\"Asparagus\",\"Asparagus\",\"Asparagus\",\"Asparagus\",\"Asparagus\",\"Asparagus\",\"Asparagus\",\"Asparagus\",\"Asparagus\",\"Asparagus\",\"Asparagus\",\"Asparagus\",\"Asparagus\",\"Asparagus\",\"Asparagus\",\"Asparagus\",\"Asparagus\",\"Asparagus\",\"Asparagus\",\"Asparagus\",\"Asparagus\",\"Asparagus\",\"Asparagus\",\"Asparagus\",\"Asparagus\",\"Asparagus\",\"Asparagus\",\"Asparagus\",\"Asparagus\",\"Asparagus\",\"Asparagus\",\"Asparagus\",\"Asparagus\",\"Asparagus\",\"Asparagus\",\"Asparagus\",\"Asparagus\",\"Asparagus\",\"Asparagus\",\"Asparagus\",\"Asparagus\",\"Asparagus\",\"Asparagus\",\"Asparagus\",\"Asparagus\",\"Asparagus\",\"Asparagus\",\"Asparagus\",\"Asparagus\",\"Asparagus\",\"Asparagus\",\"Asparagus\",\"Asparagus\",\"Asparagus\",\"Asparagus\",\"Asparagus\",\"Asparagus\",\"Asparagus\",\"Asparagus\",\"Asparagus\",\"Asparagus\",\"Asparagus\",\"Asparagus\",\"Asparagus\",\"Asparagus\"],\"legendgroup\":\"Asparagus\",\"marker\":{\"color\":\"#636efa\",\"size\":[125.0,125.0,110.0,112.5,110.0,110.0,112.5,115.0,112.5,112.5,120.0,125.0,125.0,125.0,125.0,125.0,125.0,135.0,125.0,125.0,125.0,130.0,130.0,130.0,130.0,130.0,130.0,135.0,135.0,135.0,135.0,135.0,160.0,165.0,165.0,165.0,175.0,175.0,175.0,175.0,175.0,150.0,175.0,175.0,180.0,190.0,190.0,190.0,210.0,210.0,225.0,225.0,225.0,225.0,190.0,225.0,225.0,225.0,225.0,175.0,225.0,225.0,225.0,190.0,175.0,175.0,190.0,225.0,210.0,210.0,210.0,190.0,190.0,190.0,190.0,190.0,325.0,375.0,375.0,375.0,275.0,325.0,275.0,275.0,325.0,190.0,210.0,275.0,275.0,225.0,225.0,190.0,190.0,210.0,190.0,190.0,190.0,190.0,190.0,190.0,375.0,375.0,375.0,375.0,325.0,325.0],\"sizemode\":\"area\",\"sizeref\":0.19,\"symbol\":\"circle\"},\"mode\":\"markers\",\"name\":\"Asparagus\",\"orientation\":\"v\",\"showlegend\":true,\"x\":[2013,2013,2013,2013,2013,2013,2013,2013,2013,2013,2013,2013,2013,2013,2013,2013,2013,2013,2013,2013,2013,2013,2013,2013,2013,2013,2013,2013,2013,2013,2013,2013,2013,2013,2013,2013,2013,2013,2013,2013,2013,2013,2013,2013,2013,2013,2013,2013,2013,2013,2013,2013,2013,2013,2013,2013,2013,2013,2013,2013,2013,2013,2013,2013,2013,2013,2013,2013,2013,2013,2013,2013,2013,2013,2013,2013,2013,2013,2013,2013,2013,2013,2013,2013,2013,2013,2013,2013,2013,2013,2013,2013,2013,2013,2013,2013,2013,2013,2013,2013,2013,2013,2013,2013,2013,2013],\"xaxis\":\"x\",\"y\":[125.0,125.0,110.0,112.5,110.0,110.0,112.5,115.0,112.5,112.5,120.0,125.0,125.0,125.0,125.0,125.0,125.0,135.0,125.0,125.0,125.0,130.0,130.0,130.0,130.0,130.0,130.0,135.0,135.0,135.0,135.0,135.0,160.0,165.0,165.0,165.0,175.0,175.0,175.0,175.0,175.0,150.0,175.0,175.0,180.0,190.0,190.0,190.0,210.0,210.0,225.0,225.0,225.0,225.0,190.0,225.0,225.0,225.0,225.0,175.0,225.0,225.0,225.0,190.0,175.0,175.0,190.0,225.0,210.0,210.0,210.0,190.0,190.0,190.0,190.0,190.0,325.0,375.0,375.0,375.0,275.0,325.0,275.0,275.0,325.0,190.0,210.0,275.0,275.0,225.0,225.0,190.0,190.0,210.0,190.0,190.0,190.0,190.0,190.0,190.0,375.0,375.0,375.0,375.0,325.0,325.0],\"yaxis\":\"y\",\"type\":\"scatter\"}],                        {\"template\":{\"data\":{\"histogram2dcontour\":[{\"type\":\"histogram2dcontour\",\"colorbar\":{\"outlinewidth\":0,\"ticks\":\"\"},\"colorscale\":[[0.0,\"#0d0887\"],[0.1111111111111111,\"#46039f\"],[0.2222222222222222,\"#7201a8\"],[0.3333333333333333,\"#9c179e\"],[0.4444444444444444,\"#bd3786\"],[0.5555555555555556,\"#d8576b\"],[0.6666666666666666,\"#ed7953\"],[0.7777777777777778,\"#fb9f3a\"],[0.8888888888888888,\"#fdca26\"],[1.0,\"#f0f921\"]]}],\"choropleth\":[{\"type\":\"choropleth\",\"colorbar\":{\"outlinewidth\":0,\"ticks\":\"\"}}],\"histogram2d\":[{\"type\":\"histogram2d\",\"colorbar\":{\"outlinewidth\":0,\"ticks\":\"\"},\"colorscale\":[[0.0,\"#0d0887\"],[0.1111111111111111,\"#46039f\"],[0.2222222222222222,\"#7201a8\"],[0.3333333333333333,\"#9c179e\"],[0.4444444444444444,\"#bd3786\"],[0.5555555555555556,\"#d8576b\"],[0.6666666666666666,\"#ed7953\"],[0.7777777777777778,\"#fb9f3a\"],[0.8888888888888888,\"#fdca26\"],[1.0,\"#f0f921\"]]}],\"heatmap\":[{\"type\":\"heatmap\",\"colorbar\":{\"outlinewidth\":0,\"ticks\":\"\"},\"colorscale\":[[0.0,\"#0d0887\"],[0.1111111111111111,\"#46039f\"],[0.2222222222222222,\"#7201a8\"],[0.3333333333333333,\"#9c179e\"],[0.4444444444444444,\"#bd3786\"],[0.5555555555555556,\"#d8576b\"],[0.6666666666666666,\"#ed7953\"],[0.7777777777777778,\"#fb9f3a\"],[0.8888888888888888,\"#fdca26\"],[1.0,\"#f0f921\"]]}],\"heatmapgl\":[{\"type\":\"heatmapgl\",\"colorbar\":{\"outlinewidth\":0,\"ticks\":\"\"},\"colorscale\":[[0.0,\"#0d0887\"],[0.1111111111111111,\"#46039f\"],[0.2222222222222222,\"#7201a8\"],[0.3333333333333333,\"#9c179e\"],[0.4444444444444444,\"#bd3786\"],[0.5555555555555556,\"#d8576b\"],[0.6666666666666666,\"#ed7953\"],[0.7777777777777778,\"#fb9f3a\"],[0.8888888888888888,\"#fdca26\"],[1.0,\"#f0f921\"]]}],\"contourcarpet\":[{\"type\":\"contourcarpet\",\"colorbar\":{\"outlinewidth\":0,\"ticks\":\"\"}}],\"contour\":[{\"type\":\"contour\",\"colorbar\":{\"outlinewidth\":0,\"ticks\":\"\"},\"colorscale\":[[0.0,\"#0d0887\"],[0.1111111111111111,\"#46039f\"],[0.2222222222222222,\"#7201a8\"],[0.3333333333333333,\"#9c179e\"],[0.4444444444444444,\"#bd3786\"],[0.5555555555555556,\"#d8576b\"],[0.6666666666666666,\"#ed7953\"],[0.7777777777777778,\"#fb9f3a\"],[0.8888888888888888,\"#fdca26\"],[1.0,\"#f0f921\"]]}],\"surface\":[{\"type\":\"surface\",\"colorbar\":{\"outlinewidth\":0,\"ticks\":\"\"},\"colorscale\":[[0.0,\"#0d0887\"],[0.1111111111111111,\"#46039f\"],[0.2222222222222222,\"#7201a8\"],[0.3333333333333333,\"#9c179e\"],[0.4444444444444444,\"#bd3786\"],[0.5555555555555556,\"#d8576b\"],[0.6666666666666666,\"#ed7953\"],[0.7777777777777778,\"#fb9f3a\"],[0.8888888888888888,\"#fdca26\"],[1.0,\"#f0f921\"]]}],\"mesh3d\":[{\"type\":\"mesh3d\",\"colorbar\":{\"outlinewidth\":0,\"ticks\":\"\"}}],\"scatter\":[{\"fillpattern\":{\"fillmode\":\"overlay\",\"size\":10,\"solidity\":0.2},\"type\":\"scatter\"}],\"parcoords\":[{\"type\":\"parcoords\",\"line\":{\"colorbar\":{\"outlinewidth\":0,\"ticks\":\"\"}}}],\"scatterpolargl\":[{\"type\":\"scatterpolargl\",\"marker\":{\"colorbar\":{\"outlinewidth\":0,\"ticks\":\"\"}}}],\"bar\":[{\"error_x\":{\"color\":\"#2a3f5f\"},\"error_y\":{\"color\":\"#2a3f5f\"},\"marker\":{\"line\":{\"color\":\"#E5ECF6\",\"width\":0.5},\"pattern\":{\"fillmode\":\"overlay\",\"size\":10,\"solidity\":0.2}},\"type\":\"bar\"}],\"scattergeo\":[{\"type\":\"scattergeo\",\"marker\":{\"colorbar\":{\"outlinewidth\":0,\"ticks\":\"\"}}}],\"scatterpolar\":[{\"type\":\"scatterpolar\",\"marker\":{\"colorbar\":{\"outlinewidth\":0,\"ticks\":\"\"}}}],\"histogram\":[{\"marker\":{\"pattern\":{\"fillmode\":\"overlay\",\"size\":10,\"solidity\":0.2}},\"type\":\"histogram\"}],\"scattergl\":[{\"type\":\"scattergl\",\"marker\":{\"colorbar\":{\"outlinewidth\":0,\"ticks\":\"\"}}}],\"scatter3d\":[{\"type\":\"scatter3d\",\"line\":{\"colorbar\":{\"outlinewidth\":0,\"ticks\":\"\"}},\"marker\":{\"colorbar\":{\"outlinewidth\":0,\"ticks\":\"\"}}}],\"scattermapbox\":[{\"type\":\"scattermapbox\",\"marker\":{\"colorbar\":{\"outlinewidth\":0,\"ticks\":\"\"}}}],\"scatterternary\":[{\"type\":\"scatterternary\",\"marker\":{\"colorbar\":{\"outlinewidth\":0,\"ticks\":\"\"}}}],\"scattercarpet\":[{\"type\":\"scattercarpet\",\"marker\":{\"colorbar\":{\"outlinewidth\":0,\"ticks\":\"\"}}}],\"carpet\":[{\"aaxis\":{\"endlinecolor\":\"#2a3f5f\",\"gridcolor\":\"white\",\"linecolor\":\"white\",\"minorgridcolor\":\"white\",\"startlinecolor\":\"#2a3f5f\"},\"baxis\":{\"endlinecolor\":\"#2a3f5f\",\"gridcolor\":\"white\",\"linecolor\":\"white\",\"minorgridcolor\":\"white\",\"startlinecolor\":\"#2a3f5f\"},\"type\":\"carpet\"}],\"table\":[{\"cells\":{\"fill\":{\"color\":\"#EBF0F8\"},\"line\":{\"color\":\"white\"}},\"header\":{\"fill\":{\"color\":\"#C8D4E3\"},\"line\":{\"color\":\"white\"}},\"type\":\"table\"}],\"barpolar\":[{\"marker\":{\"line\":{\"color\":\"#E5ECF6\",\"width\":0.5},\"pattern\":{\"fillmode\":\"overlay\",\"size\":10,\"solidity\":0.2}},\"type\":\"barpolar\"}],\"pie\":[{\"automargin\":true,\"type\":\"pie\"}]},\"layout\":{\"autotypenumbers\":\"strict\",\"colorway\":[\"#636efa\",\"#EF553B\",\"#00cc96\",\"#ab63fa\",\"#FFA15A\",\"#19d3f3\",\"#FF6692\",\"#B6E880\",\"#FF97FF\",\"#FECB52\"],\"font\":{\"color\":\"#2a3f5f\"},\"hovermode\":\"closest\",\"hoverlabel\":{\"align\":\"left\"},\"paper_bgcolor\":\"white\",\"plot_bgcolor\":\"#E5ECF6\",\"polar\":{\"bgcolor\":\"#E5ECF6\",\"angularaxis\":{\"gridcolor\":\"white\",\"linecolor\":\"white\",\"ticks\":\"\"},\"radialaxis\":{\"gridcolor\":\"white\",\"linecolor\":\"white\",\"ticks\":\"\"}},\"ternary\":{\"bgcolor\":\"#E5ECF6\",\"aaxis\":{\"gridcolor\":\"white\",\"linecolor\":\"white\",\"ticks\":\"\"},\"baxis\":{\"gridcolor\":\"white\",\"linecolor\":\"white\",\"ticks\":\"\"},\"caxis\":{\"gridcolor\":\"white\",\"linecolor\":\"white\",\"ticks\":\"\"}},\"coloraxis\":{\"colorbar\":{\"outlinewidth\":0,\"ticks\":\"\"}},\"colorscale\":{\"sequential\":[[0.0,\"#0d0887\"],[0.1111111111111111,\"#46039f\"],[0.2222222222222222,\"#7201a8\"],[0.3333333333333333,\"#9c179e\"],[0.4444444444444444,\"#bd3786\"],[0.5555555555555556,\"#d8576b\"],[0.6666666666666666,\"#ed7953\"],[0.7777777777777778,\"#fb9f3a\"],[0.8888888888888888,\"#fdca26\"],[1.0,\"#f0f921\"]],\"sequentialminus\":[[0.0,\"#0d0887\"],[0.1111111111111111,\"#46039f\"],[0.2222222222222222,\"#7201a8\"],[0.3333333333333333,\"#9c179e\"],[0.4444444444444444,\"#bd3786\"],[0.5555555555555556,\"#d8576b\"],[0.6666666666666666,\"#ed7953\"],[0.7777777777777778,\"#fb9f3a\"],[0.8888888888888888,\"#fdca26\"],[1.0,\"#f0f921\"]],\"diverging\":[[0,\"#8e0152\"],[0.1,\"#c51b7d\"],[0.2,\"#de77ae\"],[0.3,\"#f1b6da\"],[0.4,\"#fde0ef\"],[0.5,\"#f7f7f7\"],[0.6,\"#e6f5d0\"],[0.7,\"#b8e186\"],[0.8,\"#7fbc41\"],[0.9,\"#4d9221\"],[1,\"#276419\"]]},\"xaxis\":{\"gridcolor\":\"white\",\"linecolor\":\"white\",\"ticks\":\"\",\"title\":{\"standoff\":15},\"zerolinecolor\":\"white\",\"automargin\":true,\"zerolinewidth\":2},\"yaxis\":{\"gridcolor\":\"white\",\"linecolor\":\"white\",\"ticks\":\"\",\"title\":{\"standoff\":15},\"zerolinecolor\":\"white\",\"automargin\":true,\"zerolinewidth\":2},\"scene\":{\"xaxis\":{\"backgroundcolor\":\"#E5ECF6\",\"gridcolor\":\"white\",\"linecolor\":\"white\",\"showbackground\":true,\"ticks\":\"\",\"zerolinecolor\":\"white\",\"gridwidth\":2},\"yaxis\":{\"backgroundcolor\":\"#E5ECF6\",\"gridcolor\":\"white\",\"linecolor\":\"white\",\"showbackground\":true,\"ticks\":\"\",\"zerolinecolor\":\"white\",\"gridwidth\":2},\"zaxis\":{\"backgroundcolor\":\"#E5ECF6\",\"gridcolor\":\"white\",\"linecolor\":\"white\",\"showbackground\":true,\"ticks\":\"\",\"zerolinecolor\":\"white\",\"gridwidth\":2}},\"shapedefaults\":{\"line\":{\"color\":\"#2a3f5f\"}},\"annotationdefaults\":{\"arrowcolor\":\"#2a3f5f\",\"arrowhead\":0,\"arrowwidth\":1},\"geo\":{\"bgcolor\":\"white\",\"landcolor\":\"#E5ECF6\",\"subunitcolor\":\"white\",\"showland\":true,\"showlakes\":true,\"lakecolor\":\"white\"},\"title\":{\"x\":0.05},\"mapbox\":{\"style\":\"light\"}}},\"xaxis\":{\"anchor\":\"y\",\"domain\":[0.0,1.0],\"title\":{\"text\":\"date_year\"},\"type\":\"log\",\"range\":[3.3036279763838894,3.306425027550687],\"categoryorder\":\"array\",\"categoryarray\":[2013,2014,2015,2016,2017,2018,2019,2020,2021]},\"yaxis\":{\"anchor\":\"x\",\"domain\":[0.0,1.0],\"title\":{\"text\":\"Average\"},\"range\":[0,2000]},\"legend\":{\"title\":{\"text\":\"Commodity\"},\"tracegroupgap\":0,\"itemsizing\":\"constant\"},\"margin\":{\"t\":60},\"updatemenus\":[{\"buttons\":[{\"args\":[null,{\"frame\":{\"duration\":500,\"redraw\":false},\"mode\":\"immediate\",\"fromcurrent\":true,\"transition\":{\"duration\":500,\"easing\":\"linear\"}}],\"label\":\"&#9654;\",\"method\":\"animate\"},{\"args\":[[null],{\"frame\":{\"duration\":0,\"redraw\":false},\"mode\":\"immediate\",\"fromcurrent\":true,\"transition\":{\"duration\":0,\"easing\":\"linear\"}}],\"label\":\"&#9724;\",\"method\":\"animate\"}],\"direction\":\"left\",\"pad\":{\"r\":10,\"t\":70},\"showactive\":false,\"type\":\"buttons\",\"x\":0.1,\"xanchor\":\"right\",\"y\":0,\"yanchor\":\"top\"}],\"sliders\":[{\"active\":0,\"currentvalue\":{\"prefix\":\"date_year=\"},\"len\":0.9,\"pad\":{\"b\":10,\"t\":60},\"steps\":[{\"args\":[[\"2013\"],{\"frame\":{\"duration\":0,\"redraw\":false},\"mode\":\"immediate\",\"fromcurrent\":true,\"transition\":{\"duration\":0,\"easing\":\"linear\"}}],\"label\":\"2013\",\"method\":\"animate\"},{\"args\":[[\"2014\"],{\"frame\":{\"duration\":0,\"redraw\":false},\"mode\":\"immediate\",\"fromcurrent\":true,\"transition\":{\"duration\":0,\"easing\":\"linear\"}}],\"label\":\"2014\",\"method\":\"animate\"},{\"args\":[[\"2015\"],{\"frame\":{\"duration\":0,\"redraw\":false},\"mode\":\"immediate\",\"fromcurrent\":true,\"transition\":{\"duration\":0,\"easing\":\"linear\"}}],\"label\":\"2015\",\"method\":\"animate\"},{\"args\":[[\"2016\"],{\"frame\":{\"duration\":0,\"redraw\":false},\"mode\":\"immediate\",\"fromcurrent\":true,\"transition\":{\"duration\":0,\"easing\":\"linear\"}}],\"label\":\"2016\",\"method\":\"animate\"},{\"args\":[[\"2017\"],{\"frame\":{\"duration\":0,\"redraw\":false},\"mode\":\"immediate\",\"fromcurrent\":true,\"transition\":{\"duration\":0,\"easing\":\"linear\"}}],\"label\":\"2017\",\"method\":\"animate\"},{\"args\":[[\"2018\"],{\"frame\":{\"duration\":0,\"redraw\":false},\"mode\":\"immediate\",\"fromcurrent\":true,\"transition\":{\"duration\":0,\"easing\":\"linear\"}}],\"label\":\"2018\",\"method\":\"animate\"},{\"args\":[[\"2019\"],{\"frame\":{\"duration\":0,\"redraw\":false},\"mode\":\"immediate\",\"fromcurrent\":true,\"transition\":{\"duration\":0,\"easing\":\"linear\"}}],\"label\":\"2019\",\"method\":\"animate\"},{\"args\":[[\"2020\"],{\"frame\":{\"duration\":0,\"redraw\":false},\"mode\":\"immediate\",\"fromcurrent\":true,\"transition\":{\"duration\":0,\"easing\":\"linear\"}}],\"label\":\"2020\",\"method\":\"animate\"},{\"args\":[[\"2021\"],{\"frame\":{\"duration\":0,\"redraw\":false},\"mode\":\"immediate\",\"fromcurrent\":true,\"transition\":{\"duration\":0,\"easing\":\"linear\"}}],\"label\":\"2021\",\"method\":\"animate\"}],\"x\":0.1,\"xanchor\":\"left\",\"y\":0,\"yanchor\":\"top\"}]},                        {\"responsive\": true}                    ).then(function(){\n",
       "                            Plotly.addFrames('458a0a04-efcf-4884-8b33-a7613020e276', [{\"data\":[{\"hovertemplate\":\"<b>%{hovertext}</b><br><br>Commodity=Asparagus<br>date_year=%{x}<br>Average=%{marker.size}<extra></extra>\",\"hovertext\":[\"Asparagus\",\"Asparagus\",\"Asparagus\",\"Asparagus\",\"Asparagus\",\"Asparagus\",\"Asparagus\",\"Asparagus\",\"Asparagus\",\"Asparagus\",\"Asparagus\",\"Asparagus\",\"Asparagus\",\"Asparagus\",\"Asparagus\",\"Asparagus\",\"Asparagus\",\"Asparagus\",\"Asparagus\",\"Asparagus\",\"Asparagus\",\"Asparagus\",\"Asparagus\",\"Asparagus\",\"Asparagus\",\"Asparagus\",\"Asparagus\",\"Asparagus\",\"Asparagus\",\"Asparagus\",\"Asparagus\",\"Asparagus\",\"Asparagus\",\"Asparagus\",\"Asparagus\",\"Asparagus\",\"Asparagus\",\"Asparagus\",\"Asparagus\",\"Asparagus\",\"Asparagus\",\"Asparagus\",\"Asparagus\",\"Asparagus\",\"Asparagus\",\"Asparagus\",\"Asparagus\",\"Asparagus\",\"Asparagus\",\"Asparagus\",\"Asparagus\",\"Asparagus\",\"Asparagus\",\"Asparagus\",\"Asparagus\",\"Asparagus\",\"Asparagus\",\"Asparagus\",\"Asparagus\",\"Asparagus\",\"Asparagus\",\"Asparagus\",\"Asparagus\",\"Asparagus\",\"Asparagus\",\"Asparagus\",\"Asparagus\",\"Asparagus\",\"Asparagus\",\"Asparagus\",\"Asparagus\",\"Asparagus\",\"Asparagus\",\"Asparagus\",\"Asparagus\",\"Asparagus\",\"Asparagus\",\"Asparagus\",\"Asparagus\",\"Asparagus\",\"Asparagus\",\"Asparagus\",\"Asparagus\",\"Asparagus\",\"Asparagus\",\"Asparagus\",\"Asparagus\",\"Asparagus\",\"Asparagus\",\"Asparagus\",\"Asparagus\",\"Asparagus\",\"Asparagus\",\"Asparagus\",\"Asparagus\",\"Asparagus\",\"Asparagus\",\"Asparagus\",\"Asparagus\",\"Asparagus\",\"Asparagus\",\"Asparagus\",\"Asparagus\",\"Asparagus\",\"Asparagus\",\"Asparagus\"],\"ids\":[\"Asparagus\",\"Asparagus\",\"Asparagus\",\"Asparagus\",\"Asparagus\",\"Asparagus\",\"Asparagus\",\"Asparagus\",\"Asparagus\",\"Asparagus\",\"Asparagus\",\"Asparagus\",\"Asparagus\",\"Asparagus\",\"Asparagus\",\"Asparagus\",\"Asparagus\",\"Asparagus\",\"Asparagus\",\"Asparagus\",\"Asparagus\",\"Asparagus\",\"Asparagus\",\"Asparagus\",\"Asparagus\",\"Asparagus\",\"Asparagus\",\"Asparagus\",\"Asparagus\",\"Asparagus\",\"Asparagus\",\"Asparagus\",\"Asparagus\",\"Asparagus\",\"Asparagus\",\"Asparagus\",\"Asparagus\",\"Asparagus\",\"Asparagus\",\"Asparagus\",\"Asparagus\",\"Asparagus\",\"Asparagus\",\"Asparagus\",\"Asparagus\",\"Asparagus\",\"Asparagus\",\"Asparagus\",\"Asparagus\",\"Asparagus\",\"Asparagus\",\"Asparagus\",\"Asparagus\",\"Asparagus\",\"Asparagus\",\"Asparagus\",\"Asparagus\",\"Asparagus\",\"Asparagus\",\"Asparagus\",\"Asparagus\",\"Asparagus\",\"Asparagus\",\"Asparagus\",\"Asparagus\",\"Asparagus\",\"Asparagus\",\"Asparagus\",\"Asparagus\",\"Asparagus\",\"Asparagus\",\"Asparagus\",\"Asparagus\",\"Asparagus\",\"Asparagus\",\"Asparagus\",\"Asparagus\",\"Asparagus\",\"Asparagus\",\"Asparagus\",\"Asparagus\",\"Asparagus\",\"Asparagus\",\"Asparagus\",\"Asparagus\",\"Asparagus\",\"Asparagus\",\"Asparagus\",\"Asparagus\",\"Asparagus\",\"Asparagus\",\"Asparagus\",\"Asparagus\",\"Asparagus\",\"Asparagus\",\"Asparagus\",\"Asparagus\",\"Asparagus\",\"Asparagus\",\"Asparagus\",\"Asparagus\",\"Asparagus\",\"Asparagus\",\"Asparagus\",\"Asparagus\",\"Asparagus\"],\"legendgroup\":\"Asparagus\",\"marker\":{\"color\":\"#636efa\",\"size\":[125.0,125.0,110.0,112.5,110.0,110.0,112.5,115.0,112.5,112.5,120.0,125.0,125.0,125.0,125.0,125.0,125.0,135.0,125.0,125.0,125.0,130.0,130.0,130.0,130.0,130.0,130.0,135.0,135.0,135.0,135.0,135.0,160.0,165.0,165.0,165.0,175.0,175.0,175.0,175.0,175.0,150.0,175.0,175.0,180.0,190.0,190.0,190.0,210.0,210.0,225.0,225.0,225.0,225.0,190.0,225.0,225.0,225.0,225.0,175.0,225.0,225.0,225.0,190.0,175.0,175.0,190.0,225.0,210.0,210.0,210.0,190.0,190.0,190.0,190.0,190.0,325.0,375.0,375.0,375.0,275.0,325.0,275.0,275.0,325.0,190.0,210.0,275.0,275.0,225.0,225.0,190.0,190.0,210.0,190.0,190.0,190.0,190.0,190.0,190.0,375.0,375.0,375.0,375.0,325.0,325.0],\"sizemode\":\"area\",\"sizeref\":0.19,\"symbol\":\"circle\"},\"mode\":\"markers\",\"name\":\"Asparagus\",\"orientation\":\"v\",\"showlegend\":true,\"x\":[2013,2013,2013,2013,2013,2013,2013,2013,2013,2013,2013,2013,2013,2013,2013,2013,2013,2013,2013,2013,2013,2013,2013,2013,2013,2013,2013,2013,2013,2013,2013,2013,2013,2013,2013,2013,2013,2013,2013,2013,2013,2013,2013,2013,2013,2013,2013,2013,2013,2013,2013,2013,2013,2013,2013,2013,2013,2013,2013,2013,2013,2013,2013,2013,2013,2013,2013,2013,2013,2013,2013,2013,2013,2013,2013,2013,2013,2013,2013,2013,2013,2013,2013,2013,2013,2013,2013,2013,2013,2013,2013,2013,2013,2013,2013,2013,2013,2013,2013,2013,2013,2013,2013,2013,2013,2013],\"xaxis\":\"x\",\"y\":[125.0,125.0,110.0,112.5,110.0,110.0,112.5,115.0,112.5,112.5,120.0,125.0,125.0,125.0,125.0,125.0,125.0,135.0,125.0,125.0,125.0,130.0,130.0,130.0,130.0,130.0,130.0,135.0,135.0,135.0,135.0,135.0,160.0,165.0,165.0,165.0,175.0,175.0,175.0,175.0,175.0,150.0,175.0,175.0,180.0,190.0,190.0,190.0,210.0,210.0,225.0,225.0,225.0,225.0,190.0,225.0,225.0,225.0,225.0,175.0,225.0,225.0,225.0,190.0,175.0,175.0,190.0,225.0,210.0,210.0,210.0,190.0,190.0,190.0,190.0,190.0,325.0,375.0,375.0,375.0,275.0,325.0,275.0,275.0,325.0,190.0,210.0,275.0,275.0,225.0,225.0,190.0,190.0,210.0,190.0,190.0,190.0,190.0,190.0,190.0,375.0,375.0,375.0,375.0,325.0,325.0],\"yaxis\":\"y\",\"type\":\"scatter\"}],\"name\":\"2013\"},{\"data\":[{\"hovertemplate\":\"<b>%{hovertext}</b><br><br>Commodity=Asparagus<br>date_year=%{x}<br>Average=%{marker.size}<extra></extra>\",\"hovertext\":[\"Asparagus\",\"Asparagus\",\"Asparagus\",\"Asparagus\",\"Asparagus\",\"Asparagus\",\"Asparagus\",\"Asparagus\",\"Asparagus\",\"Asparagus\",\"Asparagus\",\"Asparagus\",\"Asparagus\",\"Asparagus\",\"Asparagus\",\"Asparagus\",\"Asparagus\",\"Asparagus\",\"Asparagus\",\"Asparagus\",\"Asparagus\",\"Asparagus\",\"Asparagus\",\"Asparagus\",\"Asparagus\",\"Asparagus\",\"Asparagus\",\"Asparagus\",\"Asparagus\",\"Asparagus\",\"Asparagus\",\"Asparagus\",\"Asparagus\",\"Asparagus\",\"Asparagus\",\"Asparagus\",\"Asparagus\",\"Asparagus\",\"Asparagus\",\"Asparagus\",\"Asparagus\",\"Asparagus\",\"Asparagus\",\"Asparagus\",\"Asparagus\",\"Asparagus\",\"Asparagus\",\"Asparagus\",\"Asparagus\",\"Asparagus\",\"Asparagus\",\"Asparagus\",\"Asparagus\",\"Asparagus\",\"Asparagus\",\"Asparagus\",\"Asparagus\",\"Asparagus\",\"Asparagus\",\"Asparagus\",\"Asparagus\",\"Asparagus\",\"Asparagus\",\"Asparagus\",\"Asparagus\",\"Asparagus\",\"Asparagus\",\"Asparagus\",\"Asparagus\",\"Asparagus\",\"Asparagus\",\"Asparagus\",\"Asparagus\",\"Asparagus\",\"Asparagus\",\"Asparagus\",\"Asparagus\",\"Asparagus\",\"Asparagus\",\"Asparagus\",\"Asparagus\",\"Asparagus\",\"Asparagus\",\"Asparagus\",\"Asparagus\",\"Asparagus\",\"Asparagus\",\"Asparagus\",\"Asparagus\",\"Asparagus\",\"Asparagus\",\"Asparagus\",\"Asparagus\",\"Asparagus\",\"Asparagus\",\"Asparagus\",\"Asparagus\",\"Asparagus\",\"Asparagus\",\"Asparagus\",\"Asparagus\",\"Asparagus\",\"Asparagus\",\"Asparagus\",\"Asparagus\",\"Asparagus\",\"Asparagus\",\"Asparagus\",\"Asparagus\",\"Asparagus\",\"Asparagus\",\"Asparagus\",\"Asparagus\",\"Asparagus\",\"Asparagus\",\"Asparagus\",\"Asparagus\",\"Asparagus\",\"Asparagus\",\"Asparagus\",\"Asparagus\",\"Asparagus\",\"Asparagus\",\"Asparagus\",\"Asparagus\",\"Asparagus\",\"Asparagus\",\"Asparagus\",\"Asparagus\",\"Asparagus\",\"Asparagus\",\"Asparagus\",\"Asparagus\",\"Asparagus\",\"Asparagus\",\"Asparagus\",\"Asparagus\",\"Asparagus\",\"Asparagus\",\"Asparagus\",\"Asparagus\",\"Asparagus\",\"Asparagus\",\"Asparagus\",\"Asparagus\",\"Asparagus\",\"Asparagus\",\"Asparagus\",\"Asparagus\",\"Asparagus\",\"Asparagus\",\"Asparagus\",\"Asparagus\",\"Asparagus\",\"Asparagus\",\"Asparagus\",\"Asparagus\",\"Asparagus\",\"Asparagus\",\"Asparagus\",\"Asparagus\",\"Asparagus\",\"Asparagus\",\"Asparagus\",\"Asparagus\",\"Asparagus\",\"Asparagus\",\"Asparagus\",\"Asparagus\",\"Asparagus\",\"Asparagus\",\"Asparagus\",\"Asparagus\",\"Asparagus\",\"Asparagus\",\"Asparagus\",\"Asparagus\",\"Asparagus\",\"Asparagus\",\"Asparagus\",\"Asparagus\",\"Asparagus\",\"Asparagus\",\"Asparagus\",\"Asparagus\",\"Asparagus\",\"Asparagus\",\"Asparagus\",\"Asparagus\"],\"ids\":[\"Asparagus\",\"Asparagus\",\"Asparagus\",\"Asparagus\",\"Asparagus\",\"Asparagus\",\"Asparagus\",\"Asparagus\",\"Asparagus\",\"Asparagus\",\"Asparagus\",\"Asparagus\",\"Asparagus\",\"Asparagus\",\"Asparagus\",\"Asparagus\",\"Asparagus\",\"Asparagus\",\"Asparagus\",\"Asparagus\",\"Asparagus\",\"Asparagus\",\"Asparagus\",\"Asparagus\",\"Asparagus\",\"Asparagus\",\"Asparagus\",\"Asparagus\",\"Asparagus\",\"Asparagus\",\"Asparagus\",\"Asparagus\",\"Asparagus\",\"Asparagus\",\"Asparagus\",\"Asparagus\",\"Asparagus\",\"Asparagus\",\"Asparagus\",\"Asparagus\",\"Asparagus\",\"Asparagus\",\"Asparagus\",\"Asparagus\",\"Asparagus\",\"Asparagus\",\"Asparagus\",\"Asparagus\",\"Asparagus\",\"Asparagus\",\"Asparagus\",\"Asparagus\",\"Asparagus\",\"Asparagus\",\"Asparagus\",\"Asparagus\",\"Asparagus\",\"Asparagus\",\"Asparagus\",\"Asparagus\",\"Asparagus\",\"Asparagus\",\"Asparagus\",\"Asparagus\",\"Asparagus\",\"Asparagus\",\"Asparagus\",\"Asparagus\",\"Asparagus\",\"Asparagus\",\"Asparagus\",\"Asparagus\",\"Asparagus\",\"Asparagus\",\"Asparagus\",\"Asparagus\",\"Asparagus\",\"Asparagus\",\"Asparagus\",\"Asparagus\",\"Asparagus\",\"Asparagus\",\"Asparagus\",\"Asparagus\",\"Asparagus\",\"Asparagus\",\"Asparagus\",\"Asparagus\",\"Asparagus\",\"Asparagus\",\"Asparagus\",\"Asparagus\",\"Asparagus\",\"Asparagus\",\"Asparagus\",\"Asparagus\",\"Asparagus\",\"Asparagus\",\"Asparagus\",\"Asparagus\",\"Asparagus\",\"Asparagus\",\"Asparagus\",\"Asparagus\",\"Asparagus\",\"Asparagus\",\"Asparagus\",\"Asparagus\",\"Asparagus\",\"Asparagus\",\"Asparagus\",\"Asparagus\",\"Asparagus\",\"Asparagus\",\"Asparagus\",\"Asparagus\",\"Asparagus\",\"Asparagus\",\"Asparagus\",\"Asparagus\",\"Asparagus\",\"Asparagus\",\"Asparagus\",\"Asparagus\",\"Asparagus\",\"Asparagus\",\"Asparagus\",\"Asparagus\",\"Asparagus\",\"Asparagus\",\"Asparagus\",\"Asparagus\",\"Asparagus\",\"Asparagus\",\"Asparagus\",\"Asparagus\",\"Asparagus\",\"Asparagus\",\"Asparagus\",\"Asparagus\",\"Asparagus\",\"Asparagus\",\"Asparagus\",\"Asparagus\",\"Asparagus\",\"Asparagus\",\"Asparagus\",\"Asparagus\",\"Asparagus\",\"Asparagus\",\"Asparagus\",\"Asparagus\",\"Asparagus\",\"Asparagus\",\"Asparagus\",\"Asparagus\",\"Asparagus\",\"Asparagus\",\"Asparagus\",\"Asparagus\",\"Asparagus\",\"Asparagus\",\"Asparagus\",\"Asparagus\",\"Asparagus\",\"Asparagus\",\"Asparagus\",\"Asparagus\",\"Asparagus\",\"Asparagus\",\"Asparagus\",\"Asparagus\",\"Asparagus\",\"Asparagus\",\"Asparagus\",\"Asparagus\",\"Asparagus\",\"Asparagus\",\"Asparagus\",\"Asparagus\",\"Asparagus\",\"Asparagus\",\"Asparagus\",\"Asparagus\",\"Asparagus\",\"Asparagus\",\"Asparagus\",\"Asparagus\",\"Asparagus\"],\"legendgroup\":\"Asparagus\",\"marker\":{\"color\":\"#636efa\",\"size\":[650.0,575.0,475.0,525.0,375.0,325.0,337.5,325.0,325.0,325.0,275.0,425.0,325.0,350.0,375.0,375.0,312.5,275.0,275.0,275.0,275.0,255.0,212.5,275.0,210.0,225.0,225.0,190.0,210.0,225.0,225.0,225.0,210.0,225.0,225.0,220.0,225.0,210.0,225.0,190.0,190.0,210.0,190.0,190.0,190.0,190.0,195.0,225.0,225.0,180.0,165.0,165.0,190.0,195.0,195.0,190.0,195.0,190.0,165.0,175.0,190.0,190.0,190.0,190.0,190.0,165.0,160.0,165.0,175.0,165.0,165.0,160.0,160.0,160.0,160.0,135.0,175.0,165.0,125.0,125.0,125.0,110.0,160.0,160.0,155.0,160.0,175.0,160.0,110.0,105.0,130.0,135.0,135.0,160.0,135.0,135.0,145.0,135.0,135.0,135.0,130.0,135.0,135.0,160.0,145.0,135.0,145.0,145.0,135.0,135.0,145.0,155.0,190.0,160.0,155.0,190.0,195.0,190.0,190.0,190.0,190.0,275.0,210.0,225.0,195.0,190.0,210.0,225.0,65.0,225.0,225.0,255.0,275.0,275.0,275.0,275.0,275.0,225.0,275.0,275.0,290.0,225.0,290.0,290.0,290.0,290.0,310.0,325.0,320.0,325.0,290.0,290.0,290.0,375.0,390.0,365.0,390.0,390.0,410.0,405.0,410.0,425.0,425.0,425.0,425.0,410.0,375.0,375.0,290.0,290.0,290.0,290.0,290.0,290.0,290.0,290.0,290.0,290.0,290.0,225.0,225.0,235.0,232.5,225.0,550.0,550.0,575.0,575.0,575.0],\"sizemode\":\"area\",\"sizeref\":0.19,\"symbol\":\"circle\"},\"mode\":\"markers\",\"name\":\"Asparagus\",\"orientation\":\"v\",\"showlegend\":true,\"x\":[2014,2014,2014,2014,2014,2014,2014,2014,2014,2014,2014,2014,2014,2014,2014,2014,2014,2014,2014,2014,2014,2014,2014,2014,2014,2014,2014,2014,2014,2014,2014,2014,2014,2014,2014,2014,2014,2014,2014,2014,2014,2014,2014,2014,2014,2014,2014,2014,2014,2014,2014,2014,2014,2014,2014,2014,2014,2014,2014,2014,2014,2014,2014,2014,2014,2014,2014,2014,2014,2014,2014,2014,2014,2014,2014,2014,2014,2014,2014,2014,2014,2014,2014,2014,2014,2014,2014,2014,2014,2014,2014,2014,2014,2014,2014,2014,2014,2014,2014,2014,2014,2014,2014,2014,2014,2014,2014,2014,2014,2014,2014,2014,2014,2014,2014,2014,2014,2014,2014,2014,2014,2014,2014,2014,2014,2014,2014,2014,2014,2014,2014,2014,2014,2014,2014,2014,2014,2014,2014,2014,2014,2014,2014,2014,2014,2014,2014,2014,2014,2014,2014,2014,2014,2014,2014,2014,2014,2014,2014,2014,2014,2014,2014,2014,2014,2014,2014,2014,2014,2014,2014,2014,2014,2014,2014,2014,2014,2014,2014,2014,2014,2014,2014,2014,2014,2014,2014,2014,2014],\"xaxis\":\"x\",\"y\":[650.0,575.0,475.0,525.0,375.0,325.0,337.5,325.0,325.0,325.0,275.0,425.0,325.0,350.0,375.0,375.0,312.5,275.0,275.0,275.0,275.0,255.0,212.5,275.0,210.0,225.0,225.0,190.0,210.0,225.0,225.0,225.0,210.0,225.0,225.0,220.0,225.0,210.0,225.0,190.0,190.0,210.0,190.0,190.0,190.0,190.0,195.0,225.0,225.0,180.0,165.0,165.0,190.0,195.0,195.0,190.0,195.0,190.0,165.0,175.0,190.0,190.0,190.0,190.0,190.0,165.0,160.0,165.0,175.0,165.0,165.0,160.0,160.0,160.0,160.0,135.0,175.0,165.0,125.0,125.0,125.0,110.0,160.0,160.0,155.0,160.0,175.0,160.0,110.0,105.0,130.0,135.0,135.0,160.0,135.0,135.0,145.0,135.0,135.0,135.0,130.0,135.0,135.0,160.0,145.0,135.0,145.0,145.0,135.0,135.0,145.0,155.0,190.0,160.0,155.0,190.0,195.0,190.0,190.0,190.0,190.0,275.0,210.0,225.0,195.0,190.0,210.0,225.0,65.0,225.0,225.0,255.0,275.0,275.0,275.0,275.0,275.0,225.0,275.0,275.0,290.0,225.0,290.0,290.0,290.0,290.0,310.0,325.0,320.0,325.0,290.0,290.0,290.0,375.0,390.0,365.0,390.0,390.0,410.0,405.0,410.0,425.0,425.0,425.0,425.0,410.0,375.0,375.0,290.0,290.0,290.0,290.0,290.0,290.0,290.0,290.0,290.0,290.0,290.0,225.0,225.0,235.0,232.5,225.0,550.0,550.0,575.0,575.0,575.0],\"yaxis\":\"y\",\"type\":\"scatter\"}],\"name\":\"2014\"},{\"data\":[{\"hovertemplate\":\"<b>%{hovertext}</b><br><br>Commodity=Asparagus<br>date_year=%{x}<br>Average=%{marker.size}<extra></extra>\",\"hovertext\":[\"Asparagus\",\"Asparagus\",\"Asparagus\",\"Asparagus\",\"Asparagus\",\"Asparagus\",\"Asparagus\",\"Asparagus\",\"Asparagus\",\"Asparagus\",\"Asparagus\",\"Asparagus\",\"Asparagus\",\"Asparagus\",\"Asparagus\",\"Asparagus\",\"Asparagus\",\"Asparagus\",\"Asparagus\",\"Asparagus\",\"Asparagus\",\"Asparagus\",\"Asparagus\",\"Asparagus\",\"Asparagus\",\"Asparagus\",\"Asparagus\",\"Asparagus\",\"Asparagus\",\"Asparagus\",\"Asparagus\",\"Asparagus\",\"Asparagus\",\"Asparagus\",\"Asparagus\",\"Asparagus\",\"Asparagus\",\"Asparagus\",\"Asparagus\",\"Asparagus\",\"Asparagus\",\"Asparagus\",\"Asparagus\",\"Asparagus\",\"Asparagus\",\"Asparagus\",\"Asparagus\",\"Asparagus\",\"Asparagus\",\"Asparagus\",\"Asparagus\",\"Asparagus\",\"Asparagus\",\"Asparagus\",\"Asparagus\",\"Asparagus\",\"Asparagus\",\"Asparagus\",\"Asparagus\",\"Asparagus\",\"Asparagus\",\"Asparagus\",\"Asparagus\",\"Asparagus\",\"Asparagus\",\"Asparagus\",\"Asparagus\",\"Asparagus\",\"Asparagus\",\"Asparagus\",\"Asparagus\",\"Asparagus\",\"Asparagus\",\"Asparagus\",\"Asparagus\",\"Asparagus\",\"Asparagus\",\"Asparagus\",\"Asparagus\",\"Asparagus\",\"Asparagus\",\"Asparagus\",\"Asparagus\",\"Asparagus\",\"Asparagus\",\"Asparagus\",\"Asparagus\",\"Asparagus\",\"Asparagus\",\"Asparagus\",\"Asparagus\",\"Asparagus\",\"Asparagus\",\"Asparagus\",\"Asparagus\",\"Asparagus\",\"Asparagus\",\"Asparagus\",\"Asparagus\",\"Asparagus\",\"Asparagus\",\"Asparagus\",\"Asparagus\",\"Asparagus\",\"Asparagus\",\"Asparagus\",\"Asparagus\",\"Asparagus\",\"Asparagus\",\"Asparagus\",\"Asparagus\",\"Asparagus\",\"Asparagus\",\"Asparagus\",\"Asparagus\",\"Asparagus\",\"Asparagus\",\"Asparagus\",\"Asparagus\",\"Asparagus\",\"Asparagus\",\"Asparagus\",\"Asparagus\",\"Asparagus\",\"Asparagus\",\"Asparagus\",\"Asparagus\",\"Asparagus\",\"Asparagus\",\"Asparagus\",\"Asparagus\",\"Asparagus\",\"Asparagus\",\"Asparagus\",\"Asparagus\",\"Asparagus\",\"Asparagus\",\"Asparagus\",\"Asparagus\",\"Asparagus\",\"Asparagus\",\"Asparagus\",\"Asparagus\",\"Asparagus\",\"Asparagus\",\"Asparagus\",\"Asparagus\",\"Asparagus\",\"Asparagus\",\"Asparagus\",\"Asparagus\",\"Asparagus\",\"Asparagus\",\"Asparagus\",\"Asparagus\",\"Asparagus\",\"Asparagus\",\"Asparagus\",\"Asparagus\",\"Asparagus\",\"Asparagus\",\"Asparagus\",\"Asparagus\",\"Asparagus\",\"Asparagus\",\"Asparagus\",\"Asparagus\",\"Asparagus\",\"Asparagus\",\"Asparagus\",\"Asparagus\",\"Asparagus\",\"Asparagus\",\"Asparagus\",\"Asparagus\",\"Asparagus\",\"Asparagus\",\"Asparagus\",\"Asparagus\",\"Asparagus\",\"Asparagus\",\"Asparagus\",\"Asparagus\",\"Asparagus\",\"Asparagus\",\"Asparagus\",\"Asparagus\",\"Asparagus\",\"Asparagus\",\"Asparagus\",\"Asparagus\",\"Asparagus\",\"Asparagus\",\"Asparagus\",\"Asparagus\",\"Asparagus\",\"Asparagus\",\"Asparagus\",\"Asparagus\"],\"ids\":[\"Asparagus\",\"Asparagus\",\"Asparagus\",\"Asparagus\",\"Asparagus\",\"Asparagus\",\"Asparagus\",\"Asparagus\",\"Asparagus\",\"Asparagus\",\"Asparagus\",\"Asparagus\",\"Asparagus\",\"Asparagus\",\"Asparagus\",\"Asparagus\",\"Asparagus\",\"Asparagus\",\"Asparagus\",\"Asparagus\",\"Asparagus\",\"Asparagus\",\"Asparagus\",\"Asparagus\",\"Asparagus\",\"Asparagus\",\"Asparagus\",\"Asparagus\",\"Asparagus\",\"Asparagus\",\"Asparagus\",\"Asparagus\",\"Asparagus\",\"Asparagus\",\"Asparagus\",\"Asparagus\",\"Asparagus\",\"Asparagus\",\"Asparagus\",\"Asparagus\",\"Asparagus\",\"Asparagus\",\"Asparagus\",\"Asparagus\",\"Asparagus\",\"Asparagus\",\"Asparagus\",\"Asparagus\",\"Asparagus\",\"Asparagus\",\"Asparagus\",\"Asparagus\",\"Asparagus\",\"Asparagus\",\"Asparagus\",\"Asparagus\",\"Asparagus\",\"Asparagus\",\"Asparagus\",\"Asparagus\",\"Asparagus\",\"Asparagus\",\"Asparagus\",\"Asparagus\",\"Asparagus\",\"Asparagus\",\"Asparagus\",\"Asparagus\",\"Asparagus\",\"Asparagus\",\"Asparagus\",\"Asparagus\",\"Asparagus\",\"Asparagus\",\"Asparagus\",\"Asparagus\",\"Asparagus\",\"Asparagus\",\"Asparagus\",\"Asparagus\",\"Asparagus\",\"Asparagus\",\"Asparagus\",\"Asparagus\",\"Asparagus\",\"Asparagus\",\"Asparagus\",\"Asparagus\",\"Asparagus\",\"Asparagus\",\"Asparagus\",\"Asparagus\",\"Asparagus\",\"Asparagus\",\"Asparagus\",\"Asparagus\",\"Asparagus\",\"Asparagus\",\"Asparagus\",\"Asparagus\",\"Asparagus\",\"Asparagus\",\"Asparagus\",\"Asparagus\",\"Asparagus\",\"Asparagus\",\"Asparagus\",\"Asparagus\",\"Asparagus\",\"Asparagus\",\"Asparagus\",\"Asparagus\",\"Asparagus\",\"Asparagus\",\"Asparagus\",\"Asparagus\",\"Asparagus\",\"Asparagus\",\"Asparagus\",\"Asparagus\",\"Asparagus\",\"Asparagus\",\"Asparagus\",\"Asparagus\",\"Asparagus\",\"Asparagus\",\"Asparagus\",\"Asparagus\",\"Asparagus\",\"Asparagus\",\"Asparagus\",\"Asparagus\",\"Asparagus\",\"Asparagus\",\"Asparagus\",\"Asparagus\",\"Asparagus\",\"Asparagus\",\"Asparagus\",\"Asparagus\",\"Asparagus\",\"Asparagus\",\"Asparagus\",\"Asparagus\",\"Asparagus\",\"Asparagus\",\"Asparagus\",\"Asparagus\",\"Asparagus\",\"Asparagus\",\"Asparagus\",\"Asparagus\",\"Asparagus\",\"Asparagus\",\"Asparagus\",\"Asparagus\",\"Asparagus\",\"Asparagus\",\"Asparagus\",\"Asparagus\",\"Asparagus\",\"Asparagus\",\"Asparagus\",\"Asparagus\",\"Asparagus\",\"Asparagus\",\"Asparagus\",\"Asparagus\",\"Asparagus\",\"Asparagus\",\"Asparagus\",\"Asparagus\",\"Asparagus\",\"Asparagus\",\"Asparagus\",\"Asparagus\",\"Asparagus\",\"Asparagus\",\"Asparagus\",\"Asparagus\",\"Asparagus\",\"Asparagus\",\"Asparagus\",\"Asparagus\",\"Asparagus\",\"Asparagus\",\"Asparagus\",\"Asparagus\",\"Asparagus\",\"Asparagus\",\"Asparagus\",\"Asparagus\",\"Asparagus\",\"Asparagus\",\"Asparagus\",\"Asparagus\",\"Asparagus\",\"Asparagus\",\"Asparagus\"],\"legendgroup\":\"Asparagus\",\"marker\":{\"color\":\"#636efa\",\"size\":[650.0,525.0,550.0,550.0,550.0,550.0,525.0,550.0,390.0,390.0,390.0,375.0,475.0,475.0,475.0,475.0,475.0,350.0,350.0,475.0,475.0,475.0,375.0,375.0,375.0,375.0,330.0,325.0,330.0,325.0,325.0,310.0,355.0,355.0,355.0,355.0,355.0,325.0,325.0,315.0,325.0,315.0,315.0,255.0,255.0,255.0,265.0,275.0,275.0,255.0,235.0,235.0,225.0,225.0,225.0,225.0,225.0,235.0,235.0,235.0,235.0,235.0,252.5,255.0,255.0,255.0,255.0,245.0,245.0,255.0,255.0,255.0,255.0,205.0,205.0,235.0,235.0,235.0,235.0,265.0,245.0,245.0,250.0,245.0,235.0,245.0,235.0,235.0,225.0,225.0,225.0,222.5,225.0,205.0,215.0,225.0,225.0,252.5,245.0,245.0,200.0,215.0,215.0,205.0,205.0,205.0,235.0,200.0,235.0,255.0,252.5,245.0,235.0,235.0,225.0,235.0,235.0,245.0,235.0,235.0,235.0,195.0,235.0,235.0,235.0,235.0,235.0,235.0,240.0,235.0,235.0,235.0,255.0,245.0,235.0,230.0,235.0,235.0,235.0,235.0,192.5,245.0,225.0,235.0,235.0,235.0,235.0,235.0,235.0,235.0,235.0,235.0,255.0,235.0,235.0,245.0,220.0,255.0,245.0,255.0,245.0,305.0,305.0,305.0,305.0,305.0,305.0,305.0,305.0,305.0,295.0,305.0,305.0,305.0,305.0,305.0,290.0,305.0,305.0,345.0,355.0,355.0,345.0,375.0,355.0,355.0,355.0,355.0,345.0,355.0,355.0,355.0,355.0,355.0,355.0,355.0,355.0,355.0,265.0],\"sizemode\":\"area\",\"sizeref\":0.19,\"symbol\":\"circle\"},\"mode\":\"markers\",\"name\":\"Asparagus\",\"orientation\":\"v\",\"showlegend\":true,\"x\":[2015,2015,2015,2015,2015,2015,2015,2015,2015,2015,2015,2015,2015,2015,2015,2015,2015,2015,2015,2015,2015,2015,2015,2015,2015,2015,2015,2015,2015,2015,2015,2015,2015,2015,2015,2015,2015,2015,2015,2015,2015,2015,2015,2015,2015,2015,2015,2015,2015,2015,2015,2015,2015,2015,2015,2015,2015,2015,2015,2015,2015,2015,2015,2015,2015,2015,2015,2015,2015,2015,2015,2015,2015,2015,2015,2015,2015,2015,2015,2015,2015,2015,2015,2015,2015,2015,2015,2015,2015,2015,2015,2015,2015,2015,2015,2015,2015,2015,2015,2015,2015,2015,2015,2015,2015,2015,2015,2015,2015,2015,2015,2015,2015,2015,2015,2015,2015,2015,2015,2015,2015,2015,2015,2015,2015,2015,2015,2015,2015,2015,2015,2015,2015,2015,2015,2015,2015,2015,2015,2015,2015,2015,2015,2015,2015,2015,2015,2015,2015,2015,2015,2015,2015,2015,2015,2015,2015,2015,2015,2015,2015,2015,2015,2015,2015,2015,2015,2015,2015,2015,2015,2015,2015,2015,2015,2015,2015,2015,2015,2015,2015,2015,2015,2015,2015,2015,2015,2015,2015,2015,2015,2015,2015,2015,2015,2015,2015,2015,2015],\"xaxis\":\"x\",\"y\":[650.0,525.0,550.0,550.0,550.0,550.0,525.0,550.0,390.0,390.0,390.0,375.0,475.0,475.0,475.0,475.0,475.0,350.0,350.0,475.0,475.0,475.0,375.0,375.0,375.0,375.0,330.0,325.0,330.0,325.0,325.0,310.0,355.0,355.0,355.0,355.0,355.0,325.0,325.0,315.0,325.0,315.0,315.0,255.0,255.0,255.0,265.0,275.0,275.0,255.0,235.0,235.0,225.0,225.0,225.0,225.0,225.0,235.0,235.0,235.0,235.0,235.0,252.5,255.0,255.0,255.0,255.0,245.0,245.0,255.0,255.0,255.0,255.0,205.0,205.0,235.0,235.0,235.0,235.0,265.0,245.0,245.0,250.0,245.0,235.0,245.0,235.0,235.0,225.0,225.0,225.0,222.5,225.0,205.0,215.0,225.0,225.0,252.5,245.0,245.0,200.0,215.0,215.0,205.0,205.0,205.0,235.0,200.0,235.0,255.0,252.5,245.0,235.0,235.0,225.0,235.0,235.0,245.0,235.0,235.0,235.0,195.0,235.0,235.0,235.0,235.0,235.0,235.0,240.0,235.0,235.0,235.0,255.0,245.0,235.0,230.0,235.0,235.0,235.0,235.0,192.5,245.0,225.0,235.0,235.0,235.0,235.0,235.0,235.0,235.0,235.0,235.0,255.0,235.0,235.0,245.0,220.0,255.0,245.0,255.0,245.0,305.0,305.0,305.0,305.0,305.0,305.0,305.0,305.0,305.0,295.0,305.0,305.0,305.0,305.0,305.0,290.0,305.0,305.0,345.0,355.0,355.0,345.0,375.0,355.0,355.0,355.0,355.0,345.0,355.0,355.0,355.0,355.0,355.0,355.0,355.0,355.0,355.0,265.0],\"yaxis\":\"y\",\"type\":\"scatter\"}],\"name\":\"2015\"},{\"data\":[{\"hovertemplate\":\"<b>%{hovertext}</b><br><br>Commodity=Asparagus<br>date_year=%{x}<br>Average=%{marker.size}<extra></extra>\",\"hovertext\":[\"Asparagus\",\"Asparagus\",\"Asparagus\",\"Asparagus\",\"Asparagus\",\"Asparagus\",\"Asparagus\",\"Asparagus\",\"Asparagus\",\"Asparagus\",\"Asparagus\",\"Asparagus\",\"Asparagus\",\"Asparagus\",\"Asparagus\",\"Asparagus\",\"Asparagus\",\"Asparagus\",\"Asparagus\",\"Asparagus\",\"Asparagus\",\"Asparagus\",\"Asparagus\",\"Asparagus\",\"Asparagus\",\"Asparagus\",\"Asparagus\",\"Asparagus\",\"Asparagus\",\"Asparagus\",\"Asparagus\",\"Asparagus\",\"Asparagus\",\"Asparagus\",\"Asparagus\",\"Asparagus\",\"Asparagus\",\"Asparagus\",\"Asparagus\",\"Asparagus\",\"Asparagus\",\"Asparagus\",\"Asparagus\",\"Asparagus\",\"Asparagus\",\"Asparagus\",\"Asparagus\",\"Asparagus\",\"Asparagus\",\"Asparagus\",\"Asparagus\",\"Asparagus\",\"Asparagus\",\"Asparagus\",\"Asparagus\",\"Asparagus\",\"Asparagus\",\"Asparagus\",\"Asparagus\",\"Asparagus\",\"Asparagus\",\"Asparagus\",\"Asparagus\",\"Asparagus\",\"Asparagus\",\"Asparagus\",\"Asparagus\",\"Asparagus\",\"Asparagus\",\"Asparagus\",\"Asparagus\",\"Asparagus\",\"Asparagus\",\"Asparagus\",\"Asparagus\",\"Asparagus\",\"Asparagus\",\"Asparagus\",\"Asparagus\",\"Asparagus\",\"Asparagus\",\"Asparagus\",\"Asparagus\",\"Asparagus\",\"Asparagus\",\"Asparagus\",\"Asparagus\",\"Asparagus\",\"Asparagus\",\"Asparagus\",\"Asparagus\",\"Asparagus\",\"Asparagus\",\"Asparagus\",\"Asparagus\",\"Asparagus\",\"Asparagus\",\"Asparagus\",\"Asparagus\",\"Asparagus\",\"Asparagus\",\"Asparagus\",\"Asparagus\",\"Asparagus\",\"Asparagus\",\"Asparagus\",\"Asparagus\",\"Asparagus\",\"Asparagus\",\"Asparagus\",\"Asparagus\",\"Asparagus\",\"Asparagus\",\"Asparagus\",\"Asparagus\",\"Asparagus\",\"Asparagus\",\"Asparagus\",\"Asparagus\",\"Asparagus\",\"Asparagus\",\"Asparagus\",\"Asparagus\",\"Asparagus\",\"Asparagus\",\"Asparagus\",\"Asparagus\",\"Asparagus\",\"Asparagus\",\"Asparagus\",\"Asparagus\",\"Asparagus\",\"Asparagus\",\"Asparagus\",\"Asparagus\",\"Asparagus\",\"Asparagus\",\"Asparagus\",\"Asparagus\",\"Asparagus\",\"Asparagus\",\"Asparagus\",\"Asparagus\",\"Asparagus\",\"Asparagus\",\"Asparagus\",\"Asparagus\",\"Asparagus\",\"Asparagus\",\"Asparagus\",\"Asparagus\",\"Asparagus\",\"Asparagus\",\"Asparagus\",\"Asparagus\",\"Asparagus\",\"Asparagus\",\"Asparagus\",\"Asparagus\",\"Asparagus\",\"Asparagus\",\"Asparagus\",\"Asparagus\"],\"ids\":[\"Asparagus\",\"Asparagus\",\"Asparagus\",\"Asparagus\",\"Asparagus\",\"Asparagus\",\"Asparagus\",\"Asparagus\",\"Asparagus\",\"Asparagus\",\"Asparagus\",\"Asparagus\",\"Asparagus\",\"Asparagus\",\"Asparagus\",\"Asparagus\",\"Asparagus\",\"Asparagus\",\"Asparagus\",\"Asparagus\",\"Asparagus\",\"Asparagus\",\"Asparagus\",\"Asparagus\",\"Asparagus\",\"Asparagus\",\"Asparagus\",\"Asparagus\",\"Asparagus\",\"Asparagus\",\"Asparagus\",\"Asparagus\",\"Asparagus\",\"Asparagus\",\"Asparagus\",\"Asparagus\",\"Asparagus\",\"Asparagus\",\"Asparagus\",\"Asparagus\",\"Asparagus\",\"Asparagus\",\"Asparagus\",\"Asparagus\",\"Asparagus\",\"Asparagus\",\"Asparagus\",\"Asparagus\",\"Asparagus\",\"Asparagus\",\"Asparagus\",\"Asparagus\",\"Asparagus\",\"Asparagus\",\"Asparagus\",\"Asparagus\",\"Asparagus\",\"Asparagus\",\"Asparagus\",\"Asparagus\",\"Asparagus\",\"Asparagus\",\"Asparagus\",\"Asparagus\",\"Asparagus\",\"Asparagus\",\"Asparagus\",\"Asparagus\",\"Asparagus\",\"Asparagus\",\"Asparagus\",\"Asparagus\",\"Asparagus\",\"Asparagus\",\"Asparagus\",\"Asparagus\",\"Asparagus\",\"Asparagus\",\"Asparagus\",\"Asparagus\",\"Asparagus\",\"Asparagus\",\"Asparagus\",\"Asparagus\",\"Asparagus\",\"Asparagus\",\"Asparagus\",\"Asparagus\",\"Asparagus\",\"Asparagus\",\"Asparagus\",\"Asparagus\",\"Asparagus\",\"Asparagus\",\"Asparagus\",\"Asparagus\",\"Asparagus\",\"Asparagus\",\"Asparagus\",\"Asparagus\",\"Asparagus\",\"Asparagus\",\"Asparagus\",\"Asparagus\",\"Asparagus\",\"Asparagus\",\"Asparagus\",\"Asparagus\",\"Asparagus\",\"Asparagus\",\"Asparagus\",\"Asparagus\",\"Asparagus\",\"Asparagus\",\"Asparagus\",\"Asparagus\",\"Asparagus\",\"Asparagus\",\"Asparagus\",\"Asparagus\",\"Asparagus\",\"Asparagus\",\"Asparagus\",\"Asparagus\",\"Asparagus\",\"Asparagus\",\"Asparagus\",\"Asparagus\",\"Asparagus\",\"Asparagus\",\"Asparagus\",\"Asparagus\",\"Asparagus\",\"Asparagus\",\"Asparagus\",\"Asparagus\",\"Asparagus\",\"Asparagus\",\"Asparagus\",\"Asparagus\",\"Asparagus\",\"Asparagus\",\"Asparagus\",\"Asparagus\",\"Asparagus\",\"Asparagus\",\"Asparagus\",\"Asparagus\",\"Asparagus\",\"Asparagus\",\"Asparagus\",\"Asparagus\",\"Asparagus\",\"Asparagus\",\"Asparagus\",\"Asparagus\",\"Asparagus\",\"Asparagus\",\"Asparagus\",\"Asparagus\",\"Asparagus\",\"Asparagus\",\"Asparagus\"],\"legendgroup\":\"Asparagus\",\"marker\":{\"color\":\"#636efa\",\"size\":[425.0,425.0,425.0,425.0,425.0,425.0,425.0,425.0,425.0,425.0,425.0,425.0,425.0,425.0,425.0,425.0,425.0,425.0,425.0,425.0,425.0,425.0,425.0,425.0,425.0,425.0,425.0,425.0,375.0,325.0,325.0,325.0,325.0,325.0,325.0,325.0,325.0,325.0,325.0,325.0,325.0,325.0,325.0,325.0,325.0,325.0,275.0,275.0,275.0,275.0,275.0,275.0,275.0,275.0,275.0,275.0,225.0,225.0,225.0,225.0,225.0,225.0,225.0,225.0,225.0,225.0,225.0,225.0,225.0,225.0,225.0,225.0,225.0,225.0,225.0,225.0,225.0,205.0,225.0,225.0,225.0,225.0,275.0,225.0,225.0,225.0,225.0,225.0,225.0,225.0,225.0,225.0,225.0,225.0,225.0,225.0,225.0,225.0,225.0,225.0,225.0,225.0,225.0,225.0,275.0,275.0,325.0,275.0,275.0,275.0,275.0,275.0,255.0,275.0,275.0,275.0,275.0,275.0,275.0,275.0,275.0,275.0,325.0,275.0,275.0,325.0,375.0,375.0,375.0,375.0,375.0,375.0,375.0,375.0,375.0,345.0,375.0,375.0,375.0,375.0,375.0,375.0,375.0,375.0,375.0,375.0,375.0,375.0,375.0,375.0,375.0,375.0,375.0,375.0,375.0,375.0,375.0,375.0,375.0,375.0,375.0,375.0,375.0],\"sizemode\":\"area\",\"sizeref\":0.19,\"symbol\":\"circle\"},\"mode\":\"markers\",\"name\":\"Asparagus\",\"orientation\":\"v\",\"showlegend\":true,\"x\":[2016,2016,2016,2016,2016,2016,2016,2016,2016,2016,2016,2016,2016,2016,2016,2016,2016,2016,2016,2016,2016,2016,2016,2016,2016,2016,2016,2016,2016,2016,2016,2016,2016,2016,2016,2016,2016,2016,2016,2016,2016,2016,2016,2016,2016,2016,2016,2016,2016,2016,2016,2016,2016,2016,2016,2016,2016,2016,2016,2016,2016,2016,2016,2016,2016,2016,2016,2016,2016,2016,2016,2016,2016,2016,2016,2016,2016,2016,2016,2016,2016,2016,2016,2016,2016,2016,2016,2016,2016,2016,2016,2016,2016,2016,2016,2016,2016,2016,2016,2016,2016,2016,2016,2016,2016,2016,2016,2016,2016,2016,2016,2016,2016,2016,2016,2016,2016,2016,2016,2016,2016,2016,2016,2016,2016,2016,2016,2016,2016,2016,2016,2016,2016,2016,2016,2016,2016,2016,2016,2016,2016,2016,2016,2016,2016,2016,2016,2016,2016,2016,2016,2016,2016,2016,2016,2016,2016,2016,2016,2016,2016,2016,2016],\"xaxis\":\"x\",\"y\":[425.0,425.0,425.0,425.0,425.0,425.0,425.0,425.0,425.0,425.0,425.0,425.0,425.0,425.0,425.0,425.0,425.0,425.0,425.0,425.0,425.0,425.0,425.0,425.0,425.0,425.0,425.0,425.0,375.0,325.0,325.0,325.0,325.0,325.0,325.0,325.0,325.0,325.0,325.0,325.0,325.0,325.0,325.0,325.0,325.0,325.0,275.0,275.0,275.0,275.0,275.0,275.0,275.0,275.0,275.0,275.0,225.0,225.0,225.0,225.0,225.0,225.0,225.0,225.0,225.0,225.0,225.0,225.0,225.0,225.0,225.0,225.0,225.0,225.0,225.0,225.0,225.0,205.0,225.0,225.0,225.0,225.0,275.0,225.0,225.0,225.0,225.0,225.0,225.0,225.0,225.0,225.0,225.0,225.0,225.0,225.0,225.0,225.0,225.0,225.0,225.0,225.0,225.0,225.0,275.0,275.0,325.0,275.0,275.0,275.0,275.0,275.0,255.0,275.0,275.0,275.0,275.0,275.0,275.0,275.0,275.0,275.0,325.0,275.0,275.0,325.0,375.0,375.0,375.0,375.0,375.0,375.0,375.0,375.0,375.0,345.0,375.0,375.0,375.0,375.0,375.0,375.0,375.0,375.0,375.0,375.0,375.0,375.0,375.0,375.0,375.0,375.0,375.0,375.0,375.0,375.0,375.0,375.0,375.0,375.0,375.0,375.0,375.0],\"yaxis\":\"y\",\"type\":\"scatter\"}],\"name\":\"2016\"},{\"data\":[{\"hovertemplate\":\"<b>%{hovertext}</b><br><br>Commodity=Asparagus<br>date_year=%{x}<br>Average=%{marker.size}<extra></extra>\",\"hovertext\":[\"Asparagus\",\"Asparagus\",\"Asparagus\",\"Asparagus\",\"Asparagus\",\"Asparagus\",\"Asparagus\",\"Asparagus\",\"Asparagus\",\"Asparagus\",\"Asparagus\",\"Asparagus\",\"Asparagus\",\"Asparagus\",\"Asparagus\",\"Asparagus\",\"Asparagus\",\"Asparagus\",\"Asparagus\",\"Asparagus\",\"Asparagus\",\"Asparagus\",\"Asparagus\",\"Asparagus\",\"Asparagus\",\"Asparagus\",\"Asparagus\",\"Asparagus\",\"Asparagus\",\"Asparagus\",\"Asparagus\",\"Asparagus\",\"Asparagus\",\"Asparagus\",\"Asparagus\",\"Asparagus\",\"Asparagus\",\"Asparagus\",\"Asparagus\",\"Asparagus\",\"Asparagus\",\"Asparagus\",\"Asparagus\",\"Asparagus\",\"Asparagus\",\"Asparagus\",\"Asparagus\",\"Asparagus\",\"Asparagus\",\"Asparagus\",\"Asparagus\",\"Asparagus\",\"Asparagus\",\"Asparagus\",\"Asparagus\",\"Asparagus\",\"Asparagus\",\"Asparagus\",\"Asparagus\",\"Asparagus\",\"Asparagus\",\"Asparagus\",\"Asparagus\",\"Asparagus\",\"Asparagus\",\"Asparagus\",\"Asparagus\",\"Asparagus\",\"Asparagus\",\"Asparagus\",\"Asparagus\",\"Asparagus\",\"Asparagus\",\"Asparagus\",\"Asparagus\",\"Asparagus\",\"Asparagus\",\"Asparagus\",\"Asparagus\",\"Asparagus\",\"Asparagus\",\"Asparagus\",\"Asparagus\",\"Asparagus\",\"Asparagus\",\"Asparagus\",\"Asparagus\",\"Asparagus\",\"Asparagus\",\"Asparagus\",\"Asparagus\",\"Asparagus\",\"Asparagus\",\"Asparagus\",\"Asparagus\",\"Asparagus\",\"Asparagus\",\"Asparagus\",\"Asparagus\",\"Asparagus\",\"Asparagus\",\"Asparagus\",\"Asparagus\",\"Asparagus\",\"Asparagus\",\"Asparagus\",\"Asparagus\",\"Asparagus\",\"Asparagus\",\"Asparagus\",\"Asparagus\",\"Asparagus\",\"Asparagus\",\"Asparagus\",\"Asparagus\",\"Asparagus\",\"Asparagus\",\"Asparagus\",\"Asparagus\",\"Asparagus\",\"Asparagus\",\"Asparagus\",\"Asparagus\",\"Asparagus\",\"Asparagus\",\"Asparagus\",\"Asparagus\",\"Asparagus\",\"Asparagus\",\"Asparagus\",\"Asparagus\",\"Asparagus\",\"Asparagus\",\"Asparagus\",\"Asparagus\",\"Asparagus\",\"Asparagus\",\"Asparagus\",\"Asparagus\",\"Asparagus\",\"Asparagus\",\"Asparagus\",\"Asparagus\",\"Asparagus\",\"Asparagus\",\"Asparagus\",\"Asparagus\",\"Asparagus\",\"Asparagus\",\"Asparagus\",\"Asparagus\",\"Asparagus\",\"Asparagus\",\"Asparagus\",\"Asparagus\",\"Asparagus\",\"Asparagus\",\"Asparagus\",\"Asparagus\",\"Asparagus\",\"Asparagus\",\"Asparagus\",\"Asparagus\",\"Asparagus\",\"Asparagus\",\"Asparagus\",\"Asparagus\",\"Asparagus\",\"Asparagus\",\"Asparagus\",\"Asparagus\",\"Asparagus\",\"Asparagus\",\"Asparagus\",\"Asparagus\",\"Asparagus\",\"Asparagus\",\"Asparagus\",\"Asparagus\",\"Asparagus\",\"Asparagus\",\"Asparagus\",\"Asparagus\",\"Asparagus\",\"Asparagus\",\"Asparagus\",\"Asparagus\",\"Asparagus\"],\"ids\":[\"Asparagus\",\"Asparagus\",\"Asparagus\",\"Asparagus\",\"Asparagus\",\"Asparagus\",\"Asparagus\",\"Asparagus\",\"Asparagus\",\"Asparagus\",\"Asparagus\",\"Asparagus\",\"Asparagus\",\"Asparagus\",\"Asparagus\",\"Asparagus\",\"Asparagus\",\"Asparagus\",\"Asparagus\",\"Asparagus\",\"Asparagus\",\"Asparagus\",\"Asparagus\",\"Asparagus\",\"Asparagus\",\"Asparagus\",\"Asparagus\",\"Asparagus\",\"Asparagus\",\"Asparagus\",\"Asparagus\",\"Asparagus\",\"Asparagus\",\"Asparagus\",\"Asparagus\",\"Asparagus\",\"Asparagus\",\"Asparagus\",\"Asparagus\",\"Asparagus\",\"Asparagus\",\"Asparagus\",\"Asparagus\",\"Asparagus\",\"Asparagus\",\"Asparagus\",\"Asparagus\",\"Asparagus\",\"Asparagus\",\"Asparagus\",\"Asparagus\",\"Asparagus\",\"Asparagus\",\"Asparagus\",\"Asparagus\",\"Asparagus\",\"Asparagus\",\"Asparagus\",\"Asparagus\",\"Asparagus\",\"Asparagus\",\"Asparagus\",\"Asparagus\",\"Asparagus\",\"Asparagus\",\"Asparagus\",\"Asparagus\",\"Asparagus\",\"Asparagus\",\"Asparagus\",\"Asparagus\",\"Asparagus\",\"Asparagus\",\"Asparagus\",\"Asparagus\",\"Asparagus\",\"Asparagus\",\"Asparagus\",\"Asparagus\",\"Asparagus\",\"Asparagus\",\"Asparagus\",\"Asparagus\",\"Asparagus\",\"Asparagus\",\"Asparagus\",\"Asparagus\",\"Asparagus\",\"Asparagus\",\"Asparagus\",\"Asparagus\",\"Asparagus\",\"Asparagus\",\"Asparagus\",\"Asparagus\",\"Asparagus\",\"Asparagus\",\"Asparagus\",\"Asparagus\",\"Asparagus\",\"Asparagus\",\"Asparagus\",\"Asparagus\",\"Asparagus\",\"Asparagus\",\"Asparagus\",\"Asparagus\",\"Asparagus\",\"Asparagus\",\"Asparagus\",\"Asparagus\",\"Asparagus\",\"Asparagus\",\"Asparagus\",\"Asparagus\",\"Asparagus\",\"Asparagus\",\"Asparagus\",\"Asparagus\",\"Asparagus\",\"Asparagus\",\"Asparagus\",\"Asparagus\",\"Asparagus\",\"Asparagus\",\"Asparagus\",\"Asparagus\",\"Asparagus\",\"Asparagus\",\"Asparagus\",\"Asparagus\",\"Asparagus\",\"Asparagus\",\"Asparagus\",\"Asparagus\",\"Asparagus\",\"Asparagus\",\"Asparagus\",\"Asparagus\",\"Asparagus\",\"Asparagus\",\"Asparagus\",\"Asparagus\",\"Asparagus\",\"Asparagus\",\"Asparagus\",\"Asparagus\",\"Asparagus\",\"Asparagus\",\"Asparagus\",\"Asparagus\",\"Asparagus\",\"Asparagus\",\"Asparagus\",\"Asparagus\",\"Asparagus\",\"Asparagus\",\"Asparagus\",\"Asparagus\",\"Asparagus\",\"Asparagus\",\"Asparagus\",\"Asparagus\",\"Asparagus\",\"Asparagus\",\"Asparagus\",\"Asparagus\",\"Asparagus\",\"Asparagus\",\"Asparagus\",\"Asparagus\",\"Asparagus\",\"Asparagus\",\"Asparagus\",\"Asparagus\",\"Asparagus\",\"Asparagus\",\"Asparagus\",\"Asparagus\",\"Asparagus\",\"Asparagus\",\"Asparagus\",\"Asparagus\",\"Asparagus\",\"Asparagus\",\"Asparagus\",\"Asparagus\",\"Asparagus\"],\"legendgroup\":\"Asparagus\",\"marker\":{\"color\":\"#636efa\",\"size\":[375.0,475.0,475.0,425.0,425.0,425.0,425.0,425.0,425.0,425.0,425.0,425.0,425.0,425.0,425.0,425.0,425.0,425.0,425.0,425.0,425.0,425.0,425.0,425.0,425.0,425.0,425.0,425.0,375.0,375.0,375.0,325.0,325.0,325.0,325.0,325.0,325.0,325.0,325.0,325.0,325.0,325.0,325.0,325.0,325.0,325.0,325.0,325.0,325.0,325.0,325.0,325.0,325.0,325.0,325.0,325.0,325.0,325.0,325.0,325.0,325.0,325.0,325.0,325.0,325.0,325.0,325.0,325.0,325.0,325.0,325.0,325.0,325.0,325.0,325.0,325.0,325.0,325.0,325.0,325.0,325.0,325.0,325.0,325.0,325.0,325.0,325.0,325.0,325.0,325.0,325.0,325.0,325.0,325.0,325.0,325.0,325.0,325.0,325.0,325.0,325.0,325.0,325.0,325.0,325.0,325.0,325.0,325.0,325.0,325.0,325.0,325.0,325.0,325.0,325.0,325.0,325.0,325.0,325.0,325.0,325.0,325.0,325.0,325.0,325.0,325.0,325.0,325.0,325.0,325.0,325.0,325.0,325.0,325.0,325.0,325.0,325.0,325.0,325.0,325.0,325.0,325.0,325.0,325.0,325.0,325.0,325.0,325.0,325.0,325.0,325.0,325.0,325.0,325.0,325.0,325.0,425.0,425.0,425.0,425.0,425.0,425.0,425.0,425.0,425.0,425.0,425.0,425.0,425.0,425.0,425.0,425.0,425.0,425.0,425.0,425.0,425.0,425.0,425.0,425.0,425.0,425.0,425.0,425.0,425.0,425.0,425.0,425.0],\"sizemode\":\"area\",\"sizeref\":0.19,\"symbol\":\"circle\"},\"mode\":\"markers\",\"name\":\"Asparagus\",\"orientation\":\"v\",\"showlegend\":true,\"x\":[2017,2017,2017,2017,2017,2017,2017,2017,2017,2017,2017,2017,2017,2017,2017,2017,2017,2017,2017,2017,2017,2017,2017,2017,2017,2017,2017,2017,2017,2017,2017,2017,2017,2017,2017,2017,2017,2017,2017,2017,2017,2017,2017,2017,2017,2017,2017,2017,2017,2017,2017,2017,2017,2017,2017,2017,2017,2017,2017,2017,2017,2017,2017,2017,2017,2017,2017,2017,2017,2017,2017,2017,2017,2017,2017,2017,2017,2017,2017,2017,2017,2017,2017,2017,2017,2017,2017,2017,2017,2017,2017,2017,2017,2017,2017,2017,2017,2017,2017,2017,2017,2017,2017,2017,2017,2017,2017,2017,2017,2017,2017,2017,2017,2017,2017,2017,2017,2017,2017,2017,2017,2017,2017,2017,2017,2017,2017,2017,2017,2017,2017,2017,2017,2017,2017,2017,2017,2017,2017,2017,2017,2017,2017,2017,2017,2017,2017,2017,2017,2017,2017,2017,2017,2017,2017,2017,2017,2017,2017,2017,2017,2017,2017,2017,2017,2017,2017,2017,2017,2017,2017,2017,2017,2017,2017,2017,2017,2017,2017,2017,2017,2017,2017,2017,2017,2017,2017,2017],\"xaxis\":\"x\",\"y\":[375.0,475.0,475.0,425.0,425.0,425.0,425.0,425.0,425.0,425.0,425.0,425.0,425.0,425.0,425.0,425.0,425.0,425.0,425.0,425.0,425.0,425.0,425.0,425.0,425.0,425.0,425.0,425.0,375.0,375.0,375.0,325.0,325.0,325.0,325.0,325.0,325.0,325.0,325.0,325.0,325.0,325.0,325.0,325.0,325.0,325.0,325.0,325.0,325.0,325.0,325.0,325.0,325.0,325.0,325.0,325.0,325.0,325.0,325.0,325.0,325.0,325.0,325.0,325.0,325.0,325.0,325.0,325.0,325.0,325.0,325.0,325.0,325.0,325.0,325.0,325.0,325.0,325.0,325.0,325.0,325.0,325.0,325.0,325.0,325.0,325.0,325.0,325.0,325.0,325.0,325.0,325.0,325.0,325.0,325.0,325.0,325.0,325.0,325.0,325.0,325.0,325.0,325.0,325.0,325.0,325.0,325.0,325.0,325.0,325.0,325.0,325.0,325.0,325.0,325.0,325.0,325.0,325.0,325.0,325.0,325.0,325.0,325.0,325.0,325.0,325.0,325.0,325.0,325.0,325.0,325.0,325.0,325.0,325.0,325.0,325.0,325.0,325.0,325.0,325.0,325.0,325.0,325.0,325.0,325.0,325.0,325.0,325.0,325.0,325.0,325.0,325.0,325.0,325.0,325.0,325.0,425.0,425.0,425.0,425.0,425.0,425.0,425.0,425.0,425.0,425.0,425.0,425.0,425.0,425.0,425.0,425.0,425.0,425.0,425.0,425.0,425.0,425.0,425.0,425.0,425.0,425.0,425.0,425.0,425.0,425.0,425.0,425.0],\"yaxis\":\"y\",\"type\":\"scatter\"}],\"name\":\"2017\"},{\"data\":[{\"hovertemplate\":\"<b>%{hovertext}</b><br><br>Commodity=Asparagus<br>date_year=%{x}<br>Average=%{marker.size}<extra></extra>\",\"hovertext\":[\"Asparagus\"],\"ids\":[\"Asparagus\"],\"legendgroup\":\"Asparagus\",\"marker\":{\"color\":\"#636efa\",\"size\":[450.0],\"sizemode\":\"area\",\"sizeref\":0.19,\"symbol\":\"circle\"},\"mode\":\"markers\",\"name\":\"Asparagus\",\"orientation\":\"v\",\"showlegend\":true,\"x\":[2018],\"xaxis\":\"x\",\"y\":[450.0],\"yaxis\":\"y\",\"type\":\"scatter\"}],\"name\":\"2018\"},{\"data\":[{\"hovertemplate\":\"<b>%{hovertext}</b><br><br>Commodity=Asparagus<br>date_year=%{x}<br>Average=%{marker.size}<extra></extra>\",\"hovertext\":[\"Asparagus\",\"Asparagus\",\"Asparagus\",\"Asparagus\"],\"ids\":[\"Asparagus\",\"Asparagus\",\"Asparagus\",\"Asparagus\"],\"legendgroup\":\"Asparagus\",\"marker\":{\"color\":\"#636efa\",\"size\":[255.0,305.0,305.0,315.0],\"sizemode\":\"area\",\"sizeref\":0.19,\"symbol\":\"circle\"},\"mode\":\"markers\",\"name\":\"Asparagus\",\"orientation\":\"v\",\"showlegend\":true,\"x\":[2019,2019,2019,2019],\"xaxis\":\"x\",\"y\":[255.0,305.0,305.0,315.0],\"yaxis\":\"y\",\"type\":\"scatter\"}],\"name\":\"2019\"},{\"data\":[{\"hovertemplate\":\"<b>%{hovertext}</b><br><br>Commodity=Asparagus<br>date_year=%{x}<br>Average=%{marker.size}<extra></extra>\",\"hovertext\":[\"Asparagus\",\"Asparagus\",\"Asparagus\",\"Asparagus\",\"Asparagus\",\"Asparagus\",\"Asparagus\",\"Asparagus\",\"Asparagus\",\"Asparagus\",\"Asparagus\",\"Asparagus\",\"Asparagus\",\"Asparagus\",\"Asparagus\",\"Asparagus\",\"Asparagus\",\"Asparagus\",\"Asparagus\",\"Asparagus\",\"Asparagus\",\"Asparagus\",\"Asparagus\",\"Asparagus\",\"Asparagus\",\"Asparagus\",\"Asparagus\",\"Asparagus\",\"Asparagus\",\"Asparagus\",\"Asparagus\",\"Asparagus\",\"Asparagus\",\"Asparagus\",\"Asparagus\",\"Asparagus\",\"Asparagus\",\"Asparagus\",\"Asparagus\",\"Asparagus\",\"Asparagus\",\"Asparagus\",\"Asparagus\",\"Asparagus\",\"Asparagus\",\"Asparagus\",\"Asparagus\",\"Asparagus\",\"Asparagus\",\"Asparagus\",\"Asparagus\",\"Asparagus\",\"Asparagus\",\"Asparagus\",\"Asparagus\",\"Asparagus\",\"Asparagus\",\"Asparagus\",\"Asparagus\",\"Asparagus\",\"Asparagus\",\"Asparagus\",\"Asparagus\",\"Asparagus\",\"Asparagus\",\"Asparagus\",\"Asparagus\",\"Asparagus\",\"Asparagus\",\"Asparagus\",\"Asparagus\",\"Asparagus\",\"Asparagus\",\"Asparagus\",\"Asparagus\",\"Asparagus\",\"Asparagus\",\"Asparagus\",\"Asparagus\",\"Asparagus\",\"Asparagus\",\"Asparagus\",\"Asparagus\",\"Asparagus\",\"Asparagus\",\"Asparagus\",\"Asparagus\",\"Asparagus\",\"Asparagus\",\"Asparagus\",\"Asparagus\",\"Asparagus\",\"Asparagus\",\"Asparagus\",\"Asparagus\",\"Asparagus\",\"Asparagus\",\"Asparagus\",\"Asparagus\",\"Asparagus\",\"Asparagus\",\"Asparagus\",\"Asparagus\",\"Asparagus\",\"Asparagus\",\"Asparagus\",\"Asparagus\",\"Asparagus\",\"Asparagus\",\"Asparagus\",\"Asparagus\",\"Asparagus\",\"Asparagus\",\"Asparagus\",\"Asparagus\",\"Asparagus\",\"Asparagus\",\"Asparagus\",\"Asparagus\",\"Asparagus\",\"Asparagus\",\"Asparagus\",\"Asparagus\",\"Asparagus\",\"Asparagus\",\"Asparagus\",\"Asparagus\",\"Asparagus\",\"Asparagus\",\"Asparagus\",\"Asparagus\",\"Asparagus\",\"Asparagus\",\"Asparagus\"],\"ids\":[\"Asparagus\",\"Asparagus\",\"Asparagus\",\"Asparagus\",\"Asparagus\",\"Asparagus\",\"Asparagus\",\"Asparagus\",\"Asparagus\",\"Asparagus\",\"Asparagus\",\"Asparagus\",\"Asparagus\",\"Asparagus\",\"Asparagus\",\"Asparagus\",\"Asparagus\",\"Asparagus\",\"Asparagus\",\"Asparagus\",\"Asparagus\",\"Asparagus\",\"Asparagus\",\"Asparagus\",\"Asparagus\",\"Asparagus\",\"Asparagus\",\"Asparagus\",\"Asparagus\",\"Asparagus\",\"Asparagus\",\"Asparagus\",\"Asparagus\",\"Asparagus\",\"Asparagus\",\"Asparagus\",\"Asparagus\",\"Asparagus\",\"Asparagus\",\"Asparagus\",\"Asparagus\",\"Asparagus\",\"Asparagus\",\"Asparagus\",\"Asparagus\",\"Asparagus\",\"Asparagus\",\"Asparagus\",\"Asparagus\",\"Asparagus\",\"Asparagus\",\"Asparagus\",\"Asparagus\",\"Asparagus\",\"Asparagus\",\"Asparagus\",\"Asparagus\",\"Asparagus\",\"Asparagus\",\"Asparagus\",\"Asparagus\",\"Asparagus\",\"Asparagus\",\"Asparagus\",\"Asparagus\",\"Asparagus\",\"Asparagus\",\"Asparagus\",\"Asparagus\",\"Asparagus\",\"Asparagus\",\"Asparagus\",\"Asparagus\",\"Asparagus\",\"Asparagus\",\"Asparagus\",\"Asparagus\",\"Asparagus\",\"Asparagus\",\"Asparagus\",\"Asparagus\",\"Asparagus\",\"Asparagus\",\"Asparagus\",\"Asparagus\",\"Asparagus\",\"Asparagus\",\"Asparagus\",\"Asparagus\",\"Asparagus\",\"Asparagus\",\"Asparagus\",\"Asparagus\",\"Asparagus\",\"Asparagus\",\"Asparagus\",\"Asparagus\",\"Asparagus\",\"Asparagus\",\"Asparagus\",\"Asparagus\",\"Asparagus\",\"Asparagus\",\"Asparagus\",\"Asparagus\",\"Asparagus\",\"Asparagus\",\"Asparagus\",\"Asparagus\",\"Asparagus\",\"Asparagus\",\"Asparagus\",\"Asparagus\",\"Asparagus\",\"Asparagus\",\"Asparagus\",\"Asparagus\",\"Asparagus\",\"Asparagus\",\"Asparagus\",\"Asparagus\",\"Asparagus\",\"Asparagus\",\"Asparagus\",\"Asparagus\",\"Asparagus\",\"Asparagus\",\"Asparagus\",\"Asparagus\",\"Asparagus\",\"Asparagus\",\"Asparagus\",\"Asparagus\",\"Asparagus\"],\"legendgroup\":\"Asparagus\",\"marker\":{\"color\":\"#636efa\",\"size\":[325.0,325.0,325.0,335.0,310.0,310.0,310.0,305.0,305.0,305.0,305.0,255.0,255.0,255.0,255.0,255.0,255.0,255.0,255.0,255.0,255.0,255.0,255.0,255.0,255.0,255.0,255.0,255.0,255.0,255.0,255.0,255.0,255.0,255.0,255.0,255.0,255.0,255.0,255.0,255.0,255.0,255.0,255.0,255.0,255.0,255.0,255.0,255.0,255.0,255.0,255.0,255.0,255.0,255.0,255.0,255.0,255.0,245.0,255.0,255.0,245.0,245.0,245.0,245.0,245.0,245.0,245.0,245.0,245.0,245.0,245.0,245.0,245.0,245.0,245.0,245.0,245.0,445.0,495.0,495.0,495.0,495.0,495.0,495.0,325.0,295.0,345.0,295.0,495.0,495.0,495.0,495.0,495.0,495.0,495.0,495.0,495.0,495.0,495.0,495.0,495.0,475.0,425.0,375.0,395.0,395.0,395.0,395.0,395.0,395.0,395.0,395.0,395.0,395.0,395.0,395.0,455.0,445.0,455.0,445.0,445.0,445.0,445.0,445.0,445.0,445.0,445.0,445.0,445.0,445.0,445.0,445.0,445.0,1900.0],\"sizemode\":\"area\",\"sizeref\":0.19,\"symbol\":\"circle\"},\"mode\":\"markers\",\"name\":\"Asparagus\",\"orientation\":\"v\",\"showlegend\":true,\"x\":[2020,2020,2020,2020,2020,2020,2020,2020,2020,2020,2020,2020,2020,2020,2020,2020,2020,2020,2020,2020,2020,2020,2020,2020,2020,2020,2020,2020,2020,2020,2020,2020,2020,2020,2020,2020,2020,2020,2020,2020,2020,2020,2020,2020,2020,2020,2020,2020,2020,2020,2020,2020,2020,2020,2020,2020,2020,2020,2020,2020,2020,2020,2020,2020,2020,2020,2020,2020,2020,2020,2020,2020,2020,2020,2020,2020,2020,2020,2020,2020,2020,2020,2020,2020,2020,2020,2020,2020,2020,2020,2020,2020,2020,2020,2020,2020,2020,2020,2020,2020,2020,2020,2020,2020,2020,2020,2020,2020,2020,2020,2020,2020,2020,2020,2020,2020,2020,2020,2020,2020,2020,2020,2020,2020,2020,2020,2020,2020,2020,2020,2020,2020,2020,2020],\"xaxis\":\"x\",\"y\":[325.0,325.0,325.0,335.0,310.0,310.0,310.0,305.0,305.0,305.0,305.0,255.0,255.0,255.0,255.0,255.0,255.0,255.0,255.0,255.0,255.0,255.0,255.0,255.0,255.0,255.0,255.0,255.0,255.0,255.0,255.0,255.0,255.0,255.0,255.0,255.0,255.0,255.0,255.0,255.0,255.0,255.0,255.0,255.0,255.0,255.0,255.0,255.0,255.0,255.0,255.0,255.0,255.0,255.0,255.0,255.0,255.0,245.0,255.0,255.0,245.0,245.0,245.0,245.0,245.0,245.0,245.0,245.0,245.0,245.0,245.0,245.0,245.0,245.0,245.0,245.0,245.0,445.0,495.0,495.0,495.0,495.0,495.0,495.0,325.0,295.0,345.0,295.0,495.0,495.0,495.0,495.0,495.0,495.0,495.0,495.0,495.0,495.0,495.0,495.0,495.0,475.0,425.0,375.0,395.0,395.0,395.0,395.0,395.0,395.0,395.0,395.0,395.0,395.0,395.0,395.0,455.0,445.0,455.0,445.0,445.0,445.0,445.0,445.0,445.0,445.0,445.0,445.0,445.0,445.0,445.0,445.0,445.0,1900.0],\"yaxis\":\"y\",\"type\":\"scatter\"}],\"name\":\"2020\"},{\"data\":[{\"hovertemplate\":\"<b>%{hovertext}</b><br><br>Commodity=Asparagus<br>date_year=%{x}<br>Average=%{marker.size}<extra></extra>\",\"hovertext\":[\"Asparagus\",\"Asparagus\",\"Asparagus\",\"Asparagus\",\"Asparagus\",\"Asparagus\",\"Asparagus\",\"Asparagus\",\"Asparagus\",\"Asparagus\",\"Asparagus\",\"Asparagus\",\"Asparagus\",\"Asparagus\",\"Asparagus\",\"Asparagus\",\"Asparagus\",\"Asparagus\",\"Asparagus\",\"Asparagus\",\"Asparagus\",\"Asparagus\",\"Asparagus\",\"Asparagus\",\"Asparagus\",\"Asparagus\",\"Asparagus\",\"Asparagus\",\"Asparagus\",\"Asparagus\",\"Asparagus\",\"Asparagus\",\"Asparagus\",\"Asparagus\",\"Asparagus\",\"Asparagus\",\"Asparagus\",\"Asparagus\",\"Asparagus\",\"Asparagus\",\"Asparagus\",\"Asparagus\",\"Asparagus\",\"Asparagus\",\"Asparagus\",\"Asparagus\",\"Asparagus\",\"Asparagus\",\"Asparagus\",\"Asparagus\",\"Asparagus\",\"Asparagus\",\"Asparagus\",\"Asparagus\",\"Asparagus\",\"Asparagus\",\"Asparagus\",\"Asparagus\",\"Asparagus\",\"Asparagus\",\"Asparagus\",\"Asparagus\",\"Asparagus\",\"Asparagus\",\"Asparagus\",\"Asparagus\",\"Asparagus\",\"Asparagus\",\"Asparagus\",\"Asparagus\",\"Asparagus\"],\"ids\":[\"Asparagus\",\"Asparagus\",\"Asparagus\",\"Asparagus\",\"Asparagus\",\"Asparagus\",\"Asparagus\",\"Asparagus\",\"Asparagus\",\"Asparagus\",\"Asparagus\",\"Asparagus\",\"Asparagus\",\"Asparagus\",\"Asparagus\",\"Asparagus\",\"Asparagus\",\"Asparagus\",\"Asparagus\",\"Asparagus\",\"Asparagus\",\"Asparagus\",\"Asparagus\",\"Asparagus\",\"Asparagus\",\"Asparagus\",\"Asparagus\",\"Asparagus\",\"Asparagus\",\"Asparagus\",\"Asparagus\",\"Asparagus\",\"Asparagus\",\"Asparagus\",\"Asparagus\",\"Asparagus\",\"Asparagus\",\"Asparagus\",\"Asparagus\",\"Asparagus\",\"Asparagus\",\"Asparagus\",\"Asparagus\",\"Asparagus\",\"Asparagus\",\"Asparagus\",\"Asparagus\",\"Asparagus\",\"Asparagus\",\"Asparagus\",\"Asparagus\",\"Asparagus\",\"Asparagus\",\"Asparagus\",\"Asparagus\",\"Asparagus\",\"Asparagus\",\"Asparagus\",\"Asparagus\",\"Asparagus\",\"Asparagus\",\"Asparagus\",\"Asparagus\",\"Asparagus\",\"Asparagus\",\"Asparagus\",\"Asparagus\",\"Asparagus\",\"Asparagus\",\"Asparagus\",\"Asparagus\"],\"legendgroup\":\"Asparagus\",\"marker\":{\"color\":\"#636efa\",\"size\":[265.0,950.0,950.0,950.0,950.0,950.0,950.0,950.0,950.0,950.0,975.0,975.0,975.0,800.0,575.0,750.0,600.0,525.0,650.0,750.0,750.0,575.0,550.0,575.0,575.0,575.0,575.0,550.0,550.0,550.0,550.0,575.0,575.0,575.0,650.0,650.0,650.0,650.0,650.0,550.0,650.0,650.0,550.0,475.0,475.0,475.0,375.0,450.0,450.0,450.0,450.0,450.0,475.0,450.0,450.0,550.0,575.0,500.0,550.0,575.0,550.0,550.0,575.0,575.0,575.0,650.0,900.0,950.0,1100.0,1100.0,1025.0],\"sizemode\":\"area\",\"sizeref\":0.19,\"symbol\":\"circle\"},\"mode\":\"markers\",\"name\":\"Asparagus\",\"orientation\":\"v\",\"showlegend\":true,\"x\":[2021,2021,2021,2021,2021,2021,2021,2021,2021,2021,2021,2021,2021,2021,2021,2021,2021,2021,2021,2021,2021,2021,2021,2021,2021,2021,2021,2021,2021,2021,2021,2021,2021,2021,2021,2021,2021,2021,2021,2021,2021,2021,2021,2021,2021,2021,2021,2021,2021,2021,2021,2021,2021,2021,2021,2021,2021,2021,2021,2021,2021,2021,2021,2021,2021,2021,2021,2021,2021,2021,2021],\"xaxis\":\"x\",\"y\":[265.0,950.0,950.0,950.0,950.0,950.0,950.0,950.0,950.0,950.0,975.0,975.0,975.0,800.0,575.0,750.0,600.0,525.0,650.0,750.0,750.0,575.0,550.0,575.0,575.0,575.0,575.0,550.0,550.0,550.0,550.0,575.0,575.0,575.0,650.0,650.0,650.0,650.0,650.0,550.0,650.0,650.0,550.0,475.0,475.0,475.0,375.0,450.0,450.0,450.0,450.0,450.0,475.0,450.0,450.0,550.0,575.0,500.0,550.0,575.0,550.0,550.0,575.0,575.0,575.0,650.0,900.0,950.0,1100.0,1100.0,1025.0],\"yaxis\":\"y\",\"type\":\"scatter\"}],\"name\":\"2021\"}]);\n",
       "                        }).then(function(){\n",
       "                            \n",
       "var gd = document.getElementById('458a0a04-efcf-4884-8b33-a7613020e276');\n",
       "var x = new MutationObserver(function (mutations, observer) {{\n",
       "        var display = window.getComputedStyle(gd).display;\n",
       "        if (!display || display === 'none') {{\n",
       "            console.log([gd, 'removed!']);\n",
       "            Plotly.purge(gd);\n",
       "            observer.disconnect();\n",
       "        }}\n",
       "}});\n",
       "\n",
       "// Listen for the removal of the full notebook cells\n",
       "var notebookContainer = gd.closest('#notebook-container');\n",
       "if (notebookContainer) {{\n",
       "    x.observe(notebookContainer, {childList: true});\n",
       "}}\n",
       "\n",
       "// Listen for the clearing of the current output cell\n",
       "var outputEl = gd.closest('.output');\n",
       "if (outputEl) {{\n",
       "    x.observe(outputEl, {childList: true});\n",
       "}}\n",
       "\n",
       "                        })                };                });            </script>        </div>"
      ]
     },
     "metadata": {},
     "output_type": "display_data"
    }
   ],
   "source": [
    "#Showing the change in Asparagus price from 2013 to 2021\n",
    "px.scatter(df_bubble[df_bubble['Commodity'] == 'Asparagus'], x=\"date_year\", y=\"Average\",\n",
    "           size=\"Average\", color=\"Commodity\", hover_name=\"Commodity\",animation_frame=\"date_year\", animation_group=\"Commodity\",range_x=[2012,2025],range_y=[0,2000],log_x=True,size_max=100)"
   ]
  },
  {
   "cell_type": "code",
   "execution_count": null,
   "id": "bc654b3e",
   "metadata": {},
   "outputs": [],
   "source": []
  }
 ],
 "metadata": {
  "kernelspec": {
   "display_name": "Python 3 (ipykernel)",
   "language": "python",
   "name": "python3"
  },
  "language_info": {
   "codemirror_mode": {
    "name": "ipython",
    "version": 3
   },
   "file_extension": ".py",
   "mimetype": "text/x-python",
   "name": "python",
   "nbconvert_exporter": "python",
   "pygments_lexer": "ipython3",
   "version": "3.10.6"
  }
 },
 "nbformat": 4,
 "nbformat_minor": 5
}
